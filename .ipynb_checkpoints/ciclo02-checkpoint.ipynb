{
 "cells": [
  {
   "cell_type": "code",
   "execution_count": null,
   "id": "fe53c36a-e2b6-400c-bcdf-ff894a82ee2f",
   "metadata": {},
   "outputs": [],
   "source": []
  },
  {
   "cell_type": "markdown",
   "id": "c003b3bf-1def-4ff0-bd1c-00f17b057cbe",
   "metadata": {},
   "source": [
    "## **0.0 Imports**"
   ]
  },
  {
   "cell_type": "code",
   "execution_count": 440,
   "id": "f2810cec-52a7-49ad-aabb-77e23211b6bb",
   "metadata": {},
   "outputs": [],
   "source": [
    "import pandas as pd\n",
    "import numpy as np\n",
    "import seaborn as sns\n",
    "import inflection\n",
    "import matplotlib.pyplot as plt\n",
    "from sklearn import model_selection as ms\n",
    "from sklearn.ensemble     import RandomForestRegressor\n",
    "import xgboost as xgb\n",
    "from sklearn import ensemble as en\n",
    "from sklearn.preprocessing import RobustScaler, MinMaxScaler, LabelEncoder\n",
    "from sklearn.linear_model import LinearRegression, Lasso\n",
    "from sklearn.metrics import mean_squared_error, mean_absolute_error\n",
    "from sklearn.model_selection import KFold\n",
    "#from sklearn.model_selection import cross_val_score\n",
    "\n",
    "import datetime\n",
    "\n",
    "pd.set_option('display.float_format','{:.2f}'.format)"
   ]
  },
  {
   "cell_type": "markdown",
   "id": "58d5828e-b9f4-4c13-94be-847534408118",
   "metadata": {},
   "source": [
    "### 0.1 Helper Functions"
   ]
  },
  {
   "cell_type": "code",
   "execution_count": 441,
   "id": "1c36c192-a11d-47e8-894b-227558887116",
   "metadata": {},
   "outputs": [],
   "source": [
    "# def cross_validation(x_training, kfold, model_name, model, verbose=False):\n",
    "#     mae_list = []\n",
    "#     mape_list = []\n",
    "#     rmse_list = []\n",
    "#     for k in reversed(range(1,6)):\n",
    "#         if verbose:\n",
    "#             print('\\nKFold Number: {}'.format(k))\n",
    "\n",
    "#         # training and validation dataset\n",
    "#         # training\n",
    "#         X = x_training.drop('preco', axis=1)\n",
    "#         y = x_training['preco']\n",
    "        \n",
    "#         kf = KFold(n_splits=2)\n",
    "#         kf.get_n_splits(X)\n",
    "\n",
    "#         print(kf)\n",
    "#         KFold(n_splits=2, random_state=None, shuffle=False)\n",
    "#         for train_index, test_index in kf.split(X):\n",
    "#             print(\"TRAIN:\", train_index, \"TEST:\", test_index)\n",
    "#             X_train, X_test = X[train_index], X[test_index]\n",
    "#             y_train, y_test = y[train_index], y[test_index]\n",
    "\n",
    "#         # model\n",
    "#         m = model.fit(x_train, y_train)\n",
    "\n",
    "#         #prediction\n",
    "#         yhat_m = m.predict(x_val)\n",
    "\n",
    "#         # performance\n",
    "#         m_result = ml_error('Linear Regression', np.expm1(y_val), np.expm1(yhat_m))\n",
    "\n",
    "#         # store performance for each kfold itaration\n",
    "#         mae_list.append(m_result['MAE'])\n",
    "#         mape_list.append(m_result['MAPE'])\n",
    "#         rmse_list.append(m_result['RMSE'])\n",
    "\n",
    "#     return pd.DataFrame({'Model name': model_name,\n",
    "#                          'MAE CV': np.round(np.mean(mae_list), 2).astype(str)+' +/- '+np.round(np.std(mae_list), 2).astype(str),\n",
    "#                          'MAPE CV': np.round(np.mean(mape_list), 2).astype(str)+' +/- '+np.round(np.std(mape_list), 2).astype(str),\n",
    "#                          'RMSE CV': np.round(np.mean(rmse_list), 2).astype(str)+' +/- '+np.round(np.std(rmse_list), 2).astype(str)}, index=[0])\n",
    "\n",
    "\n",
    "def cross_validation(x_training, kfold, model_name, model):\n",
    "    # training and validation dataset\n",
    "    # training\n",
    "    X = x_training.drop('preco', axis=1)\n",
    "    y = x_training['preco']\n",
    "\n",
    "    kf = KFold(n_splits=5)\n",
    "    kf.get_n_splits(X)\n",
    "\n",
    "    print(kf)\n",
    "    for train_index, test_index in kf.split(X):\n",
    "        print(\"TRAIN:\", train_index, \"TEST:\", test_index)\n",
    "        X_train, X_test = X[train_index], X[test_index]\n",
    "        y_train, y_test = y[train_index], y[test_index]\n",
    "\n",
    "\n",
    "\n",
    "def mean_absolute_percentage_error(y, yhat):\n",
    "    return np.mean(np.abs((y-yhat)/y))\n",
    "\n",
    "def ml_error(model_name, y, yhat):\n",
    "    mae = mean_absolute_error(y, yhat)\n",
    "    mape = mean_absolute_percentage_error(y, yhat)\n",
    "    rmse = np.sqrt(mean_squared_error(y, yhat))\n",
    "    \n",
    "    return pd.DataFrame({'Model Name': model_name,\n",
    "                         'MAE': mae,\n",
    "                         'MAPE': mape,\n",
    "                         'RMSE': rmse}, index=[0])"
   ]
  },
  {
   "cell_type": "markdown",
   "id": "3079d6ab-f343-4cd1-9459-030c1f18f017",
   "metadata": {},
   "source": [
    "### 0.2 Load Dataset"
   ]
  },
  {
   "cell_type": "code",
   "execution_count": 442,
   "id": "bf28ca48-e104-4cf7-a5b8-8e1eedd5337e",
   "metadata": {},
   "outputs": [],
   "source": [
    "df= pd.read_csv('data/treino.csv')"
   ]
  },
  {
   "cell_type": "markdown",
   "id": "0c67712e-34cf-4468-8587-e5fb4270445b",
   "metadata": {
    "tags": []
   },
   "source": [
    "## **1.0 Descrição dos dados**"
   ]
  },
  {
   "cell_type": "code",
   "execution_count": 443,
   "id": "dc0ca63e-27f4-4f18-8f02-5632d1d8eb55",
   "metadata": {},
   "outputs": [],
   "source": [
    "df1 = df.copy()"
   ]
  },
  {
   "cell_type": "code",
   "execution_count": 444,
   "id": "6e925f8f-89fe-405b-ac34-ce48c67135a4",
   "metadata": {},
   "outputs": [
    {
     "data": {
      "text/html": [
       "<div>\n",
       "<style scoped>\n",
       "    .dataframe tbody tr th:only-of-type {\n",
       "        vertical-align: middle;\n",
       "    }\n",
       "\n",
       "    .dataframe tbody tr th {\n",
       "        vertical-align: top;\n",
       "    }\n",
       "\n",
       "    .dataframe thead th {\n",
       "        text-align: right;\n",
       "    }\n",
       "</style>\n",
       "<table border=\"1\" class=\"dataframe\">\n",
       "  <thead>\n",
       "    <tr style=\"text-align: right;\">\n",
       "      <th></th>\n",
       "      <th>ID</th>\n",
       "      <th>num_fotos</th>\n",
       "      <th>marca</th>\n",
       "      <th>modelo</th>\n",
       "      <th>versao</th>\n",
       "      <th>ano_de_fabricacao</th>\n",
       "      <th>ano_modelo</th>\n",
       "      <th>odometro</th>\n",
       "      <th>cambio</th>\n",
       "      <th>num_portas</th>\n",
       "      <th>...</th>\n",
       "      <th>elegivel_revisao</th>\n",
       "      <th>attr_veiculo_aceita_troca</th>\n",
       "      <th>attr_veiculo_único_dono</th>\n",
       "      <th>attr_veiculo_todas_as_revisões_feitas_pela_concessionária</th>\n",
       "      <th>attr_veiculo_ipva_pago</th>\n",
       "      <th>attr_veiculo_licenciado</th>\n",
       "      <th>attr_veiculo_garantia_de_fábrica</th>\n",
       "      <th>attr_veiculo_todas_as_revisões_feitas_pela_agenda_do_carro</th>\n",
       "      <th>attr_veiculo_alienado</th>\n",
       "      <th>preco</th>\n",
       "    </tr>\n",
       "  </thead>\n",
       "  <tbody>\n",
       "    <tr>\n",
       "      <th>0</th>\n",
       "      <td>105869496634249611881157692933406072990</td>\n",
       "      <td>8.00</td>\n",
       "      <td>VOLKSWAGEN</td>\n",
       "      <td>AMAROK</td>\n",
       "      <td>2.0 TRENDLINE 4X4 CD 16V TURBO INTERCOOLER DIE...</td>\n",
       "      <td>2017</td>\n",
       "      <td>2017.00</td>\n",
       "      <td>55672.00</td>\n",
       "      <td>Automática</td>\n",
       "      <td>4</td>\n",
       "      <td>...</td>\n",
       "      <td>False</td>\n",
       "      <td>Aceita troca</td>\n",
       "      <td>NaN</td>\n",
       "      <td>Todas as revisões feitas pela concessionária</td>\n",
       "      <td>IPVA pago</td>\n",
       "      <td>Licenciado</td>\n",
       "      <td>NaN</td>\n",
       "      <td>Todas as revisões feitas pela agenda do carro</td>\n",
       "      <td>NaN</td>\n",
       "      <td>123231.99</td>\n",
       "    </tr>\n",
       "    <tr>\n",
       "      <th>1</th>\n",
       "      <td>14165644411757892901957277406025007093</td>\n",
       "      <td>8.00</td>\n",
       "      <td>JAGUAR</td>\n",
       "      <td>F-PACE</td>\n",
       "      <td>2.0 16V TURBO DIESEL PRESTIGE AWD 4P AUTOMÁTICO</td>\n",
       "      <td>2017</td>\n",
       "      <td>2017.00</td>\n",
       "      <td>47858.00</td>\n",
       "      <td>Automática</td>\n",
       "      <td>4</td>\n",
       "      <td>...</td>\n",
       "      <td>False</td>\n",
       "      <td>Aceita troca</td>\n",
       "      <td>NaN</td>\n",
       "      <td>Todas as revisões feitas pela concessionária</td>\n",
       "      <td>IPVA pago</td>\n",
       "      <td>NaN</td>\n",
       "      <td>NaN</td>\n",
       "      <td>Todas as revisões feitas pela agenda do carro</td>\n",
       "      <td>NaN</td>\n",
       "      <td>272076.02</td>\n",
       "    </tr>\n",
       "    <tr>\n",
       "      <th>2</th>\n",
       "      <td>78515656948521351316652580664682810356</td>\n",
       "      <td>14.00</td>\n",
       "      <td>CHEVROLET</td>\n",
       "      <td>CRUZE</td>\n",
       "      <td>1.8 LT 16V FLEX 4P AUTOMÁTICO</td>\n",
       "      <td>2012</td>\n",
       "      <td>2013.00</td>\n",
       "      <td>122323.00</td>\n",
       "      <td>Automática</td>\n",
       "      <td>4</td>\n",
       "      <td>...</td>\n",
       "      <td>False</td>\n",
       "      <td>Aceita troca</td>\n",
       "      <td>NaN</td>\n",
       "      <td>NaN</td>\n",
       "      <td>NaN</td>\n",
       "      <td>NaN</td>\n",
       "      <td>NaN</td>\n",
       "      <td>NaN</td>\n",
       "      <td>NaN</td>\n",
       "      <td>53411.54</td>\n",
       "    </tr>\n",
       "    <tr>\n",
       "      <th>3</th>\n",
       "      <td>36797041166808090517929207429817328298</td>\n",
       "      <td>8.00</td>\n",
       "      <td>PORSCHE</td>\n",
       "      <td>718</td>\n",
       "      <td>2.0 16V H4 GASOLINA BOXSTER PDK</td>\n",
       "      <td>2020</td>\n",
       "      <td>2021.00</td>\n",
       "      <td>14207.00</td>\n",
       "      <td>Automática</td>\n",
       "      <td>2</td>\n",
       "      <td>...</td>\n",
       "      <td>False</td>\n",
       "      <td>Aceita troca</td>\n",
       "      <td>NaN</td>\n",
       "      <td>Todas as revisões feitas pela concessionária</td>\n",
       "      <td>NaN</td>\n",
       "      <td>NaN</td>\n",
       "      <td>NaN</td>\n",
       "      <td>NaN</td>\n",
       "      <td>NaN</td>\n",
       "      <td>299697.07</td>\n",
       "    </tr>\n",
       "    <tr>\n",
       "      <th>4</th>\n",
       "      <td>338618517701891995317200439137014723900</td>\n",
       "      <td>8.00</td>\n",
       "      <td>VOLVO</td>\n",
       "      <td>XC90</td>\n",
       "      <td>2.0 INSCRIPTION TURBO GASOLINA 4P 4X4 AUTOMÁTICO</td>\n",
       "      <td>2015</td>\n",
       "      <td>2016.00</td>\n",
       "      <td>43760.00</td>\n",
       "      <td>Automática</td>\n",
       "      <td>4</td>\n",
       "      <td>...</td>\n",
       "      <td>False</td>\n",
       "      <td>Aceita troca</td>\n",
       "      <td>NaN</td>\n",
       "      <td>Todas as revisões feitas pela concessionária</td>\n",
       "      <td>NaN</td>\n",
       "      <td>NaN</td>\n",
       "      <td>NaN</td>\n",
       "      <td>Todas as revisões feitas pela agenda do carro</td>\n",
       "      <td>NaN</td>\n",
       "      <td>255164.34</td>\n",
       "    </tr>\n",
       "  </tbody>\n",
       "</table>\n",
       "<p>5 rows × 29 columns</p>\n",
       "</div>"
      ],
      "text/plain": [
       "                                        ID  num_fotos       marca  modelo  \\\n",
       "0  105869496634249611881157692933406072990       8.00  VOLKSWAGEN  AMAROK   \n",
       "1   14165644411757892901957277406025007093       8.00      JAGUAR  F-PACE   \n",
       "2   78515656948521351316652580664682810356      14.00   CHEVROLET   CRUZE   \n",
       "3   36797041166808090517929207429817328298       8.00     PORSCHE     718   \n",
       "4  338618517701891995317200439137014723900       8.00       VOLVO    XC90   \n",
       "\n",
       "                                              versao  ano_de_fabricacao  \\\n",
       "0  2.0 TRENDLINE 4X4 CD 16V TURBO INTERCOOLER DIE...               2017   \n",
       "1    2.0 16V TURBO DIESEL PRESTIGE AWD 4P AUTOMÁTICO               2017   \n",
       "2                      1.8 LT 16V FLEX 4P AUTOMÁTICO               2012   \n",
       "3                    2.0 16V H4 GASOLINA BOXSTER PDK               2020   \n",
       "4   2.0 INSCRIPTION TURBO GASOLINA 4P 4X4 AUTOMÁTICO               2015   \n",
       "\n",
       "   ano_modelo  odometro      cambio  num_portas  ... elegivel_revisao  \\\n",
       "0     2017.00  55672.00  Automática           4  ...            False   \n",
       "1     2017.00  47858.00  Automática           4  ...            False   \n",
       "2     2013.00 122323.00  Automática           4  ...            False   \n",
       "3     2021.00  14207.00  Automática           2  ...            False   \n",
       "4     2016.00  43760.00  Automática           4  ...            False   \n",
       "\n",
       "  attr_veiculo_aceita_troca attr_veiculo_único_dono  \\\n",
       "0              Aceita troca                     NaN   \n",
       "1              Aceita troca                     NaN   \n",
       "2              Aceita troca                     NaN   \n",
       "3              Aceita troca                     NaN   \n",
       "4              Aceita troca                     NaN   \n",
       "\n",
       "  attr_veiculo_todas_as_revisões_feitas_pela_concessionária  \\\n",
       "0       Todas as revisões feitas pela concessionária          \n",
       "1       Todas as revisões feitas pela concessionária          \n",
       "2                                                NaN          \n",
       "3       Todas as revisões feitas pela concessionária          \n",
       "4       Todas as revisões feitas pela concessionária          \n",
       "\n",
       "  attr_veiculo_ipva_pago attr_veiculo_licenciado  \\\n",
       "0              IPVA pago              Licenciado   \n",
       "1              IPVA pago                     NaN   \n",
       "2                    NaN                     NaN   \n",
       "3                    NaN                     NaN   \n",
       "4                    NaN                     NaN   \n",
       "\n",
       "  attr_veiculo_garantia_de_fábrica  \\\n",
       "0                              NaN   \n",
       "1                              NaN   \n",
       "2                              NaN   \n",
       "3                              NaN   \n",
       "4                              NaN   \n",
       "\n",
       "   attr_veiculo_todas_as_revisões_feitas_pela_agenda_do_carro  \\\n",
       "0      Todas as revisões feitas pela agenda do carro            \n",
       "1      Todas as revisões feitas pela agenda do carro            \n",
       "2                                                NaN            \n",
       "3                                                NaN            \n",
       "4      Todas as revisões feitas pela agenda do carro            \n",
       "\n",
       "   attr_veiculo_alienado     preco  \n",
       "0                    NaN 123231.99  \n",
       "1                    NaN 272076.02  \n",
       "2                    NaN  53411.54  \n",
       "3                    NaN 299697.07  \n",
       "4                    NaN 255164.34  \n",
       "\n",
       "[5 rows x 29 columns]"
      ]
     },
     "execution_count": 444,
     "metadata": {},
     "output_type": "execute_result"
    }
   ],
   "source": [
    "df.head()"
   ]
  },
  {
   "cell_type": "markdown",
   "id": "9972dc89-558b-4ce8-8247-d433eff2a1ee",
   "metadata": {},
   "source": [
    "1. desmembrar versão em varias features\n",
    "2. tipo vendedor e tipo coluna possuim a mesma informação\n",
    "3. ano_modelo para data\n",
    "4. veiculo alienado completamente NA"
   ]
  },
  {
   "cell_type": "markdown",
   "id": "b1d574ee-54d0-47af-98ef-8f94d9ffde13",
   "metadata": {},
   "source": [
    "### **1.1 Rename columns**"
   ]
  },
  {
   "cell_type": "code",
   "execution_count": 445,
   "id": "423962c6-768b-4e05-a897-48dd8e7b9de7",
   "metadata": {},
   "outputs": [
    {
     "data": {
      "text/plain": [
       "Index(['ID', 'num_fotos', 'marca', 'modelo', 'versao', 'ano_de_fabricacao',\n",
       "       'ano_modelo', 'odometro', 'cambio', 'num_portas', 'tipo', 'blindado',\n",
       "       'cor', 'tipo_vendedor', 'cidade_vendedor', 'estado_vendedor',\n",
       "       'tipo_anuncio', 'entrega_delivery', 'troca', 'elegivel_revisao',\n",
       "       'attr_veiculo_aceita_troca', 'attr_veiculo_único_dono',\n",
       "       'attr_veiculo_todas_as_revisões_feitas_pela_concessionária',\n",
       "       'attr_veiculo_ipva_pago', 'attr_veiculo_licenciado',\n",
       "       'attr_veiculo_garantia_de_fábrica',\n",
       "       'attr_veiculo_todas_as_revisões_feitas_pela_agenda_do_carro',\n",
       "       'attr_veiculo_alienado', 'preco'],\n",
       "      dtype='object')"
      ]
     },
     "execution_count": 445,
     "metadata": {},
     "output_type": "execute_result"
    }
   ],
   "source": [
    "df1.columns"
   ]
  },
  {
   "cell_type": "code",
   "execution_count": 446,
   "id": "6eb2ca50-e15e-4149-a41d-66c486539e0b",
   "metadata": {},
   "outputs": [
    {
     "data": {
      "text/plain": [
       "0                  Picape\n",
       "1    Utilitário esportivo\n",
       "2                    Sedã\n",
       "3                  Picape\n",
       "4    Utilitário esportivo\n",
       "Name: tipo, dtype: object"
      ]
     },
     "execution_count": 446,
     "metadata": {},
     "output_type": "execute_result"
    }
   ],
   "source": [
    "df1['tipo'].head()"
   ]
  },
  {
   "cell_type": "markdown",
   "id": "97a607fc-5ed7-4a77-ac35-3f70e0f2a557",
   "metadata": {},
   "source": [
    "### **1.2 Data dimensions**"
   ]
  },
  {
   "cell_type": "code",
   "execution_count": 447,
   "id": "d02b0a40-0358-4182-9432-a5b61bda23f9",
   "metadata": {},
   "outputs": [
    {
     "name": "stdout",
     "output_type": "stream",
     "text": [
      "Number of rows: 39446\n",
      "Number of columns: 29\n"
     ]
    }
   ],
   "source": [
    "print('Number of rows: {}'.format(df1.shape[0]))\n",
    "print('Number of columns: {}'.format(df1.shape[1]))"
   ]
  },
  {
   "cell_type": "markdown",
   "id": "1c3e3d07-844c-4dc1-a182-bd3134ef53d4",
   "metadata": {},
   "source": [
    "### **1.3 Data types**"
   ]
  },
  {
   "cell_type": "code",
   "execution_count": 448,
   "id": "4143f3a5-9b21-4615-bf09-eb330742ca1b",
   "metadata": {},
   "outputs": [
    {
     "data": {
      "text/plain": [
       "ID                                                             object\n",
       "num_fotos                                                     float64\n",
       "marca                                                          object\n",
       "modelo                                                         object\n",
       "versao                                                         object\n",
       "ano_de_fabricacao                                               int64\n",
       "ano_modelo                                                    float64\n",
       "odometro                                                      float64\n",
       "cambio                                                         object\n",
       "num_portas                                                      int64\n",
       "tipo                                                           object\n",
       "blindado                                                       object\n",
       "cor                                                            object\n",
       "tipo_vendedor                                                  object\n",
       "cidade_vendedor                                                object\n",
       "estado_vendedor                                                object\n",
       "tipo_anuncio                                                   object\n",
       "entrega_delivery                                                 bool\n",
       "troca                                                            bool\n",
       "elegivel_revisao                                                 bool\n",
       "attr_veiculo_aceita_troca                                      object\n",
       "attr_veiculo_único_dono                                        object\n",
       "attr_veiculo_todas_as_revisões_feitas_pela_concessionária      object\n",
       "attr_veiculo_ipva_pago                                         object\n",
       "attr_veiculo_licenciado                                        object\n",
       "attr_veiculo_garantia_de_fábrica                               object\n",
       "attr_veiculo_todas_as_revisões_feitas_pela_agenda_do_carro     object\n",
       "attr_veiculo_alienado                                         float64\n",
       "preco                                                         float64\n",
       "dtype: object"
      ]
     },
     "execution_count": 448,
     "metadata": {},
     "output_type": "execute_result"
    }
   ],
   "source": [
    "df1.dtypes"
   ]
  },
  {
   "cell_type": "markdown",
   "id": "81969c4e-a95a-4405-9520-2b7365d8c115",
   "metadata": {},
   "source": [
    "### **1.4 Check NA**"
   ]
  },
  {
   "cell_type": "code",
   "execution_count": 449,
   "id": "b6ab71bc-3991-44ec-9688-ac8ca245dd20",
   "metadata": {},
   "outputs": [
    {
     "data": {
      "text/plain": [
       "ID                                                                0\n",
       "num_fotos                                                       237\n",
       "marca                                                             0\n",
       "modelo                                                            0\n",
       "versao                                                            0\n",
       "ano_de_fabricacao                                                 0\n",
       "ano_modelo                                                        0\n",
       "odometro                                                          0\n",
       "cambio                                                            0\n",
       "num_portas                                                        0\n",
       "tipo                                                              0\n",
       "blindado                                                          0\n",
       "cor                                                               0\n",
       "tipo_vendedor                                                     0\n",
       "cidade_vendedor                                                   0\n",
       "estado_vendedor                                                   0\n",
       "tipo_anuncio                                                      0\n",
       "entrega_delivery                                                  0\n",
       "troca                                                             0\n",
       "elegivel_revisao                                                  0\n",
       "attr_veiculo_aceita_troca                                     10216\n",
       "attr_veiculo_único_dono                                       25548\n",
       "attr_veiculo_todas_as_revisões_feitas_pela_concessionária     27207\n",
       "attr_veiculo_ipva_pago                                        13223\n",
       "attr_veiculo_licenciado                                       18196\n",
       "attr_veiculo_garantia_de_fábrica                              33658\n",
       "attr_veiculo_todas_as_revisões_feitas_pela_agenda_do_carro    31543\n",
       "attr_veiculo_alienado                                         39446\n",
       "preco                                                             0\n",
       "dtype: int64"
      ]
     },
     "execution_count": 449,
     "metadata": {},
     "output_type": "execute_result"
    }
   ],
   "source": [
    "df1.isna().sum()"
   ]
  },
  {
   "cell_type": "markdown",
   "id": "cdd58d2d-4453-4e98-a22d-dd7739d35a2f",
   "metadata": {},
   "source": [
    "### **1.5 Replace NA**"
   ]
  },
  {
   "cell_type": "code",
   "execution_count": 450,
   "id": "6c3328f7-bde7-43cf-bb80-f2066e84f379",
   "metadata": {},
   "outputs": [],
   "source": [
    "df1['num_fotos'].fillna(0, inplace=True)\n",
    "df1['attr_veiculo_aceita_troca'].fillna('0', inplace=True)\n",
    "df1['attr_veiculo_único_dono'].fillna('0', inplace=True)\n",
    "df1['attr_veiculo_todas_as_revisões_feitas_pela_concessionária'].fillna('0', inplace=True)\n",
    "df1['attr_veiculo_ipva_pago'].fillna('0', inplace=True)\n",
    "df1['attr_veiculo_licenciado'].fillna('0', inplace=True)\n",
    "df1['attr_veiculo_garantia_de_fábrica'].fillna('0', inplace=True)\n",
    "df1['attr_veiculo_todas_as_revisões_feitas_pela_agenda_do_carro'].fillna('0', inplace=True)"
   ]
  },
  {
   "cell_type": "code",
   "execution_count": 451,
   "id": "71e9d198-25be-4b31-8d4e-e83b52e08d9b",
   "metadata": {},
   "outputs": [
    {
     "data": {
      "text/plain": [
       "ID                                                                0\n",
       "num_fotos                                                         0\n",
       "marca                                                             0\n",
       "modelo                                                            0\n",
       "versao                                                            0\n",
       "ano_de_fabricacao                                                 0\n",
       "ano_modelo                                                        0\n",
       "odometro                                                          0\n",
       "cambio                                                            0\n",
       "num_portas                                                        0\n",
       "tipo                                                              0\n",
       "blindado                                                          0\n",
       "cor                                                               0\n",
       "tipo_vendedor                                                     0\n",
       "cidade_vendedor                                                   0\n",
       "estado_vendedor                                                   0\n",
       "tipo_anuncio                                                      0\n",
       "entrega_delivery                                                  0\n",
       "troca                                                             0\n",
       "elegivel_revisao                                                  0\n",
       "attr_veiculo_aceita_troca                                         0\n",
       "attr_veiculo_único_dono                                           0\n",
       "attr_veiculo_todas_as_revisões_feitas_pela_concessionária         0\n",
       "attr_veiculo_ipva_pago                                            0\n",
       "attr_veiculo_licenciado                                           0\n",
       "attr_veiculo_garantia_de_fábrica                                  0\n",
       "attr_veiculo_todas_as_revisões_feitas_pela_agenda_do_carro        0\n",
       "attr_veiculo_alienado                                         39446\n",
       "preco                                                             0\n",
       "dtype: int64"
      ]
     },
     "execution_count": 451,
     "metadata": {},
     "output_type": "execute_result"
    }
   ],
   "source": [
    "df1.isna().sum()"
   ]
  },
  {
   "cell_type": "code",
   "execution_count": 452,
   "id": "2f0f1d63-a975-4f2e-b4b1-af38d12f0f6a",
   "metadata": {},
   "outputs": [],
   "source": [
    "df1 = df1.drop(columns=['attr_veiculo_alienado'])"
   ]
  },
  {
   "cell_type": "code",
   "execution_count": 453,
   "id": "05c03507-9874-4a69-9af6-49ba17e8264d",
   "metadata": {},
   "outputs": [
    {
     "data": {
      "text/plain": [
       "Index(['ID', 'num_fotos', 'marca', 'modelo', 'versao', 'ano_de_fabricacao',\n",
       "       'ano_modelo', 'odometro', 'cambio', 'num_portas', 'tipo', 'blindado',\n",
       "       'cor', 'tipo_vendedor', 'cidade_vendedor', 'estado_vendedor',\n",
       "       'tipo_anuncio', 'entrega_delivery', 'troca', 'elegivel_revisao',\n",
       "       'attr_veiculo_aceita_troca', 'attr_veiculo_único_dono',\n",
       "       'attr_veiculo_todas_as_revisões_feitas_pela_concessionária',\n",
       "       'attr_veiculo_ipva_pago', 'attr_veiculo_licenciado',\n",
       "       'attr_veiculo_garantia_de_fábrica',\n",
       "       'attr_veiculo_todas_as_revisões_feitas_pela_agenda_do_carro', 'preco'],\n",
       "      dtype='object')"
      ]
     },
     "execution_count": 453,
     "metadata": {},
     "output_type": "execute_result"
    }
   ],
   "source": [
    "df1.columns"
   ]
  },
  {
   "cell_type": "markdown",
   "id": "e04dc6bd-362c-4043-a426-0aed446b40da",
   "metadata": {},
   "source": [
    "### **1.6 Changes dTypes**"
   ]
  },
  {
   "cell_type": "code",
   "execution_count": 454,
   "id": "e3c6756f-7ca1-4b70-8ce1-d7f1f15cadd4",
   "metadata": {},
   "outputs": [],
   "source": [
    "df1['ano_modelo'] = df1['ano_modelo'].astype(int)\n",
    "df1['entrega_delivery'] = df1['entrega_delivery'].astype(str)\n",
    "df1['troca'] = df1['troca'].astype(str)\n",
    "df1['elegivel_revisao'] = df1['elegivel_revisao'].astype(str)"
   ]
  },
  {
   "cell_type": "markdown",
   "id": "2c09d027-f314-499c-8be0-24b7a67884ae",
   "metadata": {},
   "source": [
    "### **1.7 Descriptive Statistics**"
   ]
  },
  {
   "cell_type": "code",
   "execution_count": 455,
   "id": "edbf8fcb-7a15-4db8-b83c-4e4663dbce5b",
   "metadata": {},
   "outputs": [],
   "source": [
    "#separando as colunas numericas e categoricas em dataframes diferentes\n",
    "num_attributes = df1.select_dtypes(include = ['float64', 'int64'])\n",
    "cat_attributes = df1.select_dtypes(exclude = ['float64', 'int64'])"
   ]
  },
  {
   "cell_type": "markdown",
   "id": "7a500ecf-f1d4-492a-99da-0e90d1ec0a56",
   "metadata": {},
   "source": [
    "#### **1.7.1 Numerical Attributes**\n"
   ]
  },
  {
   "cell_type": "code",
   "execution_count": 456,
   "id": "bffb03b0-8622-4cd0-9902-65772c83a794",
   "metadata": {},
   "outputs": [
    {
     "data": {
      "text/html": [
       "<div>\n",
       "<style scoped>\n",
       "    .dataframe tbody tr th:only-of-type {\n",
       "        vertical-align: middle;\n",
       "    }\n",
       "\n",
       "    .dataframe tbody tr th {\n",
       "        vertical-align: top;\n",
       "    }\n",
       "\n",
       "    .dataframe thead th {\n",
       "        text-align: right;\n",
       "    }\n",
       "</style>\n",
       "<table border=\"1\" class=\"dataframe\">\n",
       "  <thead>\n",
       "    <tr style=\"text-align: right;\">\n",
       "      <th></th>\n",
       "      <th>attributes</th>\n",
       "      <th>min</th>\n",
       "      <th>max</th>\n",
       "      <th>range</th>\n",
       "      <th>mean</th>\n",
       "      <th>median</th>\n",
       "      <th>std</th>\n",
       "      <th>skew</th>\n",
       "      <th>kurtosis</th>\n",
       "    </tr>\n",
       "  </thead>\n",
       "  <tbody>\n",
       "    <tr>\n",
       "      <th>0</th>\n",
       "      <td>num_fotos</td>\n",
       "      <td>0.00</td>\n",
       "      <td>21.00</td>\n",
       "      <td>21.00</td>\n",
       "      <td>10.26</td>\n",
       "      <td>8.00</td>\n",
       "      <td>3.56</td>\n",
       "      <td>0.83</td>\n",
       "      <td>-0.40</td>\n",
       "    </tr>\n",
       "    <tr>\n",
       "      <th>1</th>\n",
       "      <td>ano_de_fabricacao</td>\n",
       "      <td>1985.00</td>\n",
       "      <td>2022.00</td>\n",
       "      <td>37.00</td>\n",
       "      <td>2016.75</td>\n",
       "      <td>2018.00</td>\n",
       "      <td>4.08</td>\n",
       "      <td>-2.51</td>\n",
       "      <td>9.28</td>\n",
       "    </tr>\n",
       "    <tr>\n",
       "      <th>2</th>\n",
       "      <td>ano_modelo</td>\n",
       "      <td>1997.00</td>\n",
       "      <td>2023.00</td>\n",
       "      <td>26.00</td>\n",
       "      <td>2017.81</td>\n",
       "      <td>2018.00</td>\n",
       "      <td>2.68</td>\n",
       "      <td>-0.50</td>\n",
       "      <td>-0.53</td>\n",
       "    </tr>\n",
       "    <tr>\n",
       "      <th>3</th>\n",
       "      <td>odometro</td>\n",
       "      <td>100.00</td>\n",
       "      <td>390065.00</td>\n",
       "      <td>389965.00</td>\n",
       "      <td>58382.24</td>\n",
       "      <td>57244.50</td>\n",
       "      <td>32542.38</td>\n",
       "      <td>0.61</td>\n",
       "      <td>1.25</td>\n",
       "    </tr>\n",
       "    <tr>\n",
       "      <th>4</th>\n",
       "      <td>num_portas</td>\n",
       "      <td>2.00</td>\n",
       "      <td>4.00</td>\n",
       "      <td>2.00</td>\n",
       "      <td>3.94</td>\n",
       "      <td>4.00</td>\n",
       "      <td>0.34</td>\n",
       "      <td>-5.57</td>\n",
       "      <td>29.05</td>\n",
       "    </tr>\n",
       "    <tr>\n",
       "      <th>5</th>\n",
       "      <td>preco</td>\n",
       "      <td>7258.16</td>\n",
       "      <td>1359812.89</td>\n",
       "      <td>1352554.73</td>\n",
       "      <td>133385.87</td>\n",
       "      <td>114307.97</td>\n",
       "      <td>82383.93</td>\n",
       "      <td>2.23</td>\n",
       "      <td>12.36</td>\n",
       "    </tr>\n",
       "  </tbody>\n",
       "</table>\n",
       "</div>"
      ],
      "text/plain": [
       "          attributes     min        max      range      mean    median  \\\n",
       "0          num_fotos    0.00      21.00      21.00     10.26      8.00   \n",
       "1  ano_de_fabricacao 1985.00    2022.00      37.00   2016.75   2018.00   \n",
       "2         ano_modelo 1997.00    2023.00      26.00   2017.81   2018.00   \n",
       "3           odometro  100.00  390065.00  389965.00  58382.24  57244.50   \n",
       "4         num_portas    2.00       4.00       2.00      3.94      4.00   \n",
       "5              preco 7258.16 1359812.89 1352554.73 133385.87 114307.97   \n",
       "\n",
       "       std  skew  kurtosis  \n",
       "0     3.56  0.83     -0.40  \n",
       "1     4.08 -2.51      9.28  \n",
       "2     2.68 -0.50     -0.53  \n",
       "3 32542.38  0.61      1.25  \n",
       "4     0.34 -5.57     29.05  \n",
       "5 82383.93  2.23     12.36  "
      ]
     },
     "execution_count": 456,
     "metadata": {},
     "output_type": "execute_result"
    }
   ],
   "source": [
    "# Central tendency - mean, median\n",
    "ct1 = pd.DataFrame(num_attributes.apply(np.mean)).T\n",
    "ct2 = pd.DataFrame(num_attributes.apply(np.median)).T\n",
    "\n",
    "# Dispersion - std, min, max, range, skew e kurtosis\n",
    "d1 = pd.DataFrame(num_attributes.apply(np.std)).T\n",
    "d2 = pd.DataFrame(num_attributes.apply(min)).T\n",
    "d3 = pd.DataFrame(num_attributes.apply(max)).T\n",
    "d4 = pd.DataFrame(num_attributes.apply(lambda x: x.max() - x.min())).T\n",
    "d5 = pd.DataFrame(num_attributes.apply(lambda x: x.skew())).T\n",
    "d6 = pd.DataFrame(num_attributes.apply(lambda x: x.kurtosis())).T\n",
    "                  \n",
    "# concatenate\n",
    "m = pd.concat([d2, d3, d4, ct1, ct2, d1, d5, d6]).T.reset_index()\n",
    "m.columns = ['attributes','min', 'max', 'range', 'mean', 'median', 'std', 'skew', 'kurtosis']\n",
    "m"
   ]
  },
  {
   "cell_type": "code",
   "execution_count": 457,
   "id": "89a0e31f-2d77-4dbe-8763-076e502097b0",
   "metadata": {},
   "outputs": [
    {
     "data": {
      "text/html": [
       "<div>\n",
       "<style scoped>\n",
       "    .dataframe tbody tr th:only-of-type {\n",
       "        vertical-align: middle;\n",
       "    }\n",
       "\n",
       "    .dataframe tbody tr th {\n",
       "        vertical-align: top;\n",
       "    }\n",
       "\n",
       "    .dataframe thead th {\n",
       "        text-align: right;\n",
       "    }\n",
       "</style>\n",
       "<table border=\"1\" class=\"dataframe\">\n",
       "  <thead>\n",
       "    <tr style=\"text-align: right;\">\n",
       "      <th></th>\n",
       "      <th>num_fotos</th>\n",
       "      <th>ano_de_fabricacao</th>\n",
       "      <th>ano_modelo</th>\n",
       "      <th>odometro</th>\n",
       "      <th>num_portas</th>\n",
       "      <th>preco</th>\n",
       "    </tr>\n",
       "  </thead>\n",
       "  <tbody>\n",
       "    <tr>\n",
       "      <th>count</th>\n",
       "      <td>39446.00</td>\n",
       "      <td>39446.00</td>\n",
       "      <td>39446.00</td>\n",
       "      <td>39446.00</td>\n",
       "      <td>39446.00</td>\n",
       "      <td>39446.00</td>\n",
       "    </tr>\n",
       "    <tr>\n",
       "      <th>mean</th>\n",
       "      <td>10.26</td>\n",
       "      <td>2016.75</td>\n",
       "      <td>2017.81</td>\n",
       "      <td>58382.24</td>\n",
       "      <td>3.94</td>\n",
       "      <td>133385.87</td>\n",
       "    </tr>\n",
       "    <tr>\n",
       "      <th>std</th>\n",
       "      <td>3.56</td>\n",
       "      <td>4.08</td>\n",
       "      <td>2.68</td>\n",
       "      <td>32542.79</td>\n",
       "      <td>0.34</td>\n",
       "      <td>82384.97</td>\n",
       "    </tr>\n",
       "    <tr>\n",
       "      <th>min</th>\n",
       "      <td>0.00</td>\n",
       "      <td>1985.00</td>\n",
       "      <td>1997.00</td>\n",
       "      <td>100.00</td>\n",
       "      <td>2.00</td>\n",
       "      <td>7258.16</td>\n",
       "    </tr>\n",
       "    <tr>\n",
       "      <th>25%</th>\n",
       "      <td>8.00</td>\n",
       "      <td>2015.00</td>\n",
       "      <td>2016.00</td>\n",
       "      <td>31235.25</td>\n",
       "      <td>4.00</td>\n",
       "      <td>76774.32</td>\n",
       "    </tr>\n",
       "    <tr>\n",
       "      <th>50%</th>\n",
       "      <td>8.00</td>\n",
       "      <td>2018.00</td>\n",
       "      <td>2018.00</td>\n",
       "      <td>57244.50</td>\n",
       "      <td>4.00</td>\n",
       "      <td>114307.97</td>\n",
       "    </tr>\n",
       "    <tr>\n",
       "      <th>75%</th>\n",
       "      <td>14.00</td>\n",
       "      <td>2019.00</td>\n",
       "      <td>2020.00</td>\n",
       "      <td>81925.75</td>\n",
       "      <td>4.00</td>\n",
       "      <td>163987.00</td>\n",
       "    </tr>\n",
       "    <tr>\n",
       "      <th>max</th>\n",
       "      <td>21.00</td>\n",
       "      <td>2022.00</td>\n",
       "      <td>2023.00</td>\n",
       "      <td>390065.00</td>\n",
       "      <td>4.00</td>\n",
       "      <td>1359812.89</td>\n",
       "    </tr>\n",
       "  </tbody>\n",
       "</table>\n",
       "</div>"
      ],
      "text/plain": [
       "       num_fotos  ano_de_fabricacao  ano_modelo  odometro  num_portas  \\\n",
       "count   39446.00           39446.00    39446.00  39446.00    39446.00   \n",
       "mean       10.26            2016.75     2017.81  58382.24        3.94   \n",
       "std         3.56               4.08        2.68  32542.79        0.34   \n",
       "min         0.00            1985.00     1997.00    100.00        2.00   \n",
       "25%         8.00            2015.00     2016.00  31235.25        4.00   \n",
       "50%         8.00            2018.00     2018.00  57244.50        4.00   \n",
       "75%        14.00            2019.00     2020.00  81925.75        4.00   \n",
       "max        21.00            2022.00     2023.00 390065.00        4.00   \n",
       "\n",
       "           preco  \n",
       "count   39446.00  \n",
       "mean   133385.87  \n",
       "std     82384.97  \n",
       "min      7258.16  \n",
       "25%     76774.32  \n",
       "50%    114307.97  \n",
       "75%    163987.00  \n",
       "max   1359812.89  "
      ]
     },
     "execution_count": 457,
     "metadata": {},
     "output_type": "execute_result"
    }
   ],
   "source": [
    "num_attributes.describe()"
   ]
  },
  {
   "cell_type": "code",
   "execution_count": 458,
   "id": "10db1d30-554f-4f9a-8015-e6118913e2af",
   "metadata": {},
   "outputs": [
    {
     "name": "stderr",
     "output_type": "stream",
     "text": [
      "/home/romulo/Documentos/mobilityCar/mc-env/lib/python3.8/site-packages/seaborn/distributions.py:2619: FutureWarning: `distplot` is a deprecated function and will be removed in a future version. Please adapt your code to use either `displot` (a figure-level function with similar flexibility) or `histplot` (an axes-level function for histograms).\n",
      "  warnings.warn(msg, FutureWarning)\n"
     ]
    },
    {
     "data": {
      "text/plain": [
       "<AxesSubplot:xlabel='preco', ylabel='Density'>"
      ]
     },
     "execution_count": 458,
     "metadata": {},
     "output_type": "execute_result"
    },
    {
     "data": {
      "image/png": "[encoded data removed]",
      "text/plain": [
       "<Figure size 1500x1000 with 1 Axes>"
      ]
     },
     "metadata": {},
     "output_type": "display_data"
    }
   ],
   "source": [
    "plt.rcParams['figure.figsize'] = (15, 10)\n",
    "sns.distplot(df1['preco'])"
   ]
  },
  {
   "cell_type": "markdown",
   "id": "cb2bbe63-48d8-459b-8456-0e7ad2327262",
   "metadata": {},
   "source": [
    "#### **1.7.2 Categorical Attributes**"
   ]
  },
  {
   "cell_type": "code",
   "execution_count": 459,
   "id": "7668a34b-ad45-402c-8835-e6f0907320d6",
   "metadata": {},
   "outputs": [
    {
     "data": {
      "text/html": [
       "<div>\n",
       "<style scoped>\n",
       "    .dataframe tbody tr th:only-of-type {\n",
       "        vertical-align: middle;\n",
       "    }\n",
       "\n",
       "    .dataframe tbody tr th {\n",
       "        vertical-align: top;\n",
       "    }\n",
       "\n",
       "    .dataframe thead th {\n",
       "        text-align: right;\n",
       "    }\n",
       "</style>\n",
       "<table border=\"1\" class=\"dataframe\">\n",
       "  <thead>\n",
       "    <tr style=\"text-align: right;\">\n",
       "      <th></th>\n",
       "      <th>ID</th>\n",
       "      <th>marca</th>\n",
       "      <th>modelo</th>\n",
       "      <th>versao</th>\n",
       "      <th>cambio</th>\n",
       "      <th>tipo</th>\n",
       "      <th>blindado</th>\n",
       "      <th>cor</th>\n",
       "      <th>tipo_vendedor</th>\n",
       "      <th>cidade_vendedor</th>\n",
       "      <th>...</th>\n",
       "      <th>entrega_delivery</th>\n",
       "      <th>troca</th>\n",
       "      <th>elegivel_revisao</th>\n",
       "      <th>attr_veiculo_aceita_troca</th>\n",
       "      <th>attr_veiculo_único_dono</th>\n",
       "      <th>attr_veiculo_todas_as_revisões_feitas_pela_concessionária</th>\n",
       "      <th>attr_veiculo_ipva_pago</th>\n",
       "      <th>attr_veiculo_licenciado</th>\n",
       "      <th>attr_veiculo_garantia_de_fábrica</th>\n",
       "      <th>attr_veiculo_todas_as_revisões_feitas_pela_agenda_do_carro</th>\n",
       "    </tr>\n",
       "  </thead>\n",
       "  <tbody>\n",
       "    <tr>\n",
       "      <th>count</th>\n",
       "      <td>39446</td>\n",
       "      <td>39446</td>\n",
       "      <td>39446</td>\n",
       "      <td>39446</td>\n",
       "      <td>39446</td>\n",
       "      <td>39446</td>\n",
       "      <td>39446</td>\n",
       "      <td>39446</td>\n",
       "      <td>39446</td>\n",
       "      <td>39446</td>\n",
       "      <td>...</td>\n",
       "      <td>39446</td>\n",
       "      <td>39446</td>\n",
       "      <td>39446</td>\n",
       "      <td>39446</td>\n",
       "      <td>39446</td>\n",
       "      <td>39446</td>\n",
       "      <td>39446</td>\n",
       "      <td>39446</td>\n",
       "      <td>39446</td>\n",
       "      <td>39446</td>\n",
       "    </tr>\n",
       "    <tr>\n",
       "      <th>unique</th>\n",
       "      <td>39446</td>\n",
       "      <td>41</td>\n",
       "      <td>473</td>\n",
       "      <td>2058</td>\n",
       "      <td>7</td>\n",
       "      <td>8</td>\n",
       "      <td>2</td>\n",
       "      <td>8</td>\n",
       "      <td>2</td>\n",
       "      <td>648</td>\n",
       "      <td>...</td>\n",
       "      <td>2</td>\n",
       "      <td>2</td>\n",
       "      <td>1</td>\n",
       "      <td>2</td>\n",
       "      <td>2</td>\n",
       "      <td>2</td>\n",
       "      <td>2</td>\n",
       "      <td>2</td>\n",
       "      <td>2</td>\n",
       "      <td>2</td>\n",
       "    </tr>\n",
       "    <tr>\n",
       "      <th>top</th>\n",
       "      <td>105869496634249611881157692933406072990</td>\n",
       "      <td>VOLKSWAGEN</td>\n",
       "      <td>COMPASS</td>\n",
       "      <td>1.6 16V FLEX ALLURE PACK 4P AUTOMÁTICO</td>\n",
       "      <td>Automática</td>\n",
       "      <td>Sedã</td>\n",
       "      <td>N</td>\n",
       "      <td>Branco</td>\n",
       "      <td>PF</td>\n",
       "      <td>São Paulo</td>\n",
       "      <td>...</td>\n",
       "      <td>False</td>\n",
       "      <td>False</td>\n",
       "      <td>False</td>\n",
       "      <td>Aceita troca</td>\n",
       "      <td>0</td>\n",
       "      <td>0</td>\n",
       "      <td>IPVA pago</td>\n",
       "      <td>Licenciado</td>\n",
       "      <td>0</td>\n",
       "      <td>0</td>\n",
       "    </tr>\n",
       "    <tr>\n",
       "      <th>freq</th>\n",
       "      <td>1</td>\n",
       "      <td>6140</td>\n",
       "      <td>1967</td>\n",
       "      <td>1825</td>\n",
       "      <td>30073</td>\n",
       "      <td>21910</td>\n",
       "      <td>39128</td>\n",
       "      <td>27919</td>\n",
       "      <td>23857</td>\n",
       "      <td>8198</td>\n",
       "      <td>...</td>\n",
       "      <td>31508</td>\n",
       "      <td>32740</td>\n",
       "      <td>39446</td>\n",
       "      <td>29230</td>\n",
       "      <td>25548</td>\n",
       "      <td>27207</td>\n",
       "      <td>26223</td>\n",
       "      <td>21250</td>\n",
       "      <td>33658</td>\n",
       "      <td>31543</td>\n",
       "    </tr>\n",
       "  </tbody>\n",
       "</table>\n",
       "<p>4 rows × 22 columns</p>\n",
       "</div>"
      ],
      "text/plain": [
       "                                             ID       marca   modelo  \\\n",
       "count                                     39446       39446    39446   \n",
       "unique                                    39446          41      473   \n",
       "top     105869496634249611881157692933406072990  VOLKSWAGEN  COMPASS   \n",
       "freq                                          1        6140     1967   \n",
       "\n",
       "                                        versao      cambio   tipo blindado  \\\n",
       "count                                    39446       39446  39446    39446   \n",
       "unique                                    2058           7      8        2   \n",
       "top     1.6 16V FLEX ALLURE PACK 4P AUTOMÁTICO  Automática   Sedã        N   \n",
       "freq                                      1825       30073  21910    39128   \n",
       "\n",
       "           cor tipo_vendedor cidade_vendedor  ... entrega_delivery  troca  \\\n",
       "count    39446         39446           39446  ...            39446  39446   \n",
       "unique       8             2             648  ...                2      2   \n",
       "top     Branco            PF       São Paulo  ...            False  False   \n",
       "freq     27919         23857            8198  ...            31508  32740   \n",
       "\n",
       "       elegivel_revisao attr_veiculo_aceita_troca attr_veiculo_único_dono  \\\n",
       "count             39446                     39446                   39446   \n",
       "unique                1                         2                       2   \n",
       "top               False              Aceita troca                       0   \n",
       "freq              39446                     29230                   25548   \n",
       "\n",
       "       attr_veiculo_todas_as_revisões_feitas_pela_concessionária  \\\n",
       "count                                               39446          \n",
       "unique                                                  2          \n",
       "top                                                     0          \n",
       "freq                                                27207          \n",
       "\n",
       "       attr_veiculo_ipva_pago attr_veiculo_licenciado  \\\n",
       "count                   39446                   39446   \n",
       "unique                      2                       2   \n",
       "top                 IPVA pago              Licenciado   \n",
       "freq                    26223                   21250   \n",
       "\n",
       "       attr_veiculo_garantia_de_fábrica  \\\n",
       "count                             39446   \n",
       "unique                                2   \n",
       "top                                   0   \n",
       "freq                              33658   \n",
       "\n",
       "       attr_veiculo_todas_as_revisões_feitas_pela_agenda_do_carro  \n",
       "count                                               39446          \n",
       "unique                                                  2          \n",
       "top                                                     0          \n",
       "freq                                                31543          \n",
       "\n",
       "[4 rows x 22 columns]"
      ]
     },
     "execution_count": 459,
     "metadata": {},
     "output_type": "execute_result"
    }
   ],
   "source": [
    "cat_attributes.describe()"
   ]
  },
  {
   "cell_type": "code",
   "execution_count": 460,
   "id": "af902a82-6eda-4761-bd1e-f99c5ac9387c",
   "metadata": {},
   "outputs": [
    {
     "data": {
      "text/plain": [
       "array(['Automática', 'Manual', 'CVT', 'Automatizada', 'Semi-automática',\n",
       "       'Automatizada DCT', 'Automática Sequencial'], dtype=object)"
      ]
     },
     "execution_count": 460,
     "metadata": {},
     "output_type": "execute_result"
    }
   ],
   "source": [
    "df1['cambio'].unique()"
   ]
  },
  {
   "cell_type": "code",
   "execution_count": 461,
   "id": "e25857df-b8e4-44f5-b9d2-35a4254bb84a",
   "metadata": {},
   "outputs": [
    {
     "data": {
      "text/plain": [
       "ID                                                            39446\n",
       "marca                                                            41\n",
       "modelo                                                          473\n",
       "versao                                                         2058\n",
       "cambio                                                            7\n",
       "tipo                                                              8\n",
       "blindado                                                          2\n",
       "cor                                                               8\n",
       "tipo_vendedor                                                     2\n",
       "cidade_vendedor                                                 648\n",
       "estado_vendedor                                                  25\n",
       "tipo_anuncio                                                      4\n",
       "entrega_delivery                                                  2\n",
       "troca                                                             2\n",
       "elegivel_revisao                                                  1\n",
       "attr_veiculo_aceita_troca                                         2\n",
       "attr_veiculo_único_dono                                           2\n",
       "attr_veiculo_todas_as_revisões_feitas_pela_concessionária         2\n",
       "attr_veiculo_ipva_pago                                            2\n",
       "attr_veiculo_licenciado                                           2\n",
       "attr_veiculo_garantia_de_fábrica                                  2\n",
       "attr_veiculo_todas_as_revisões_feitas_pela_agenda_do_carro        2\n",
       "dtype: int64"
      ]
     },
     "execution_count": 461,
     "metadata": {},
     "output_type": "execute_result"
    }
   ],
   "source": [
    "cat_attributes.apply(lambda x: x.unique().shape[0])"
   ]
  },
  {
   "cell_type": "markdown",
   "id": "02033fc1-770f-404b-acde-6ffb3af7a050",
   "metadata": {
    "tags": []
   },
   "source": [
    "## **2.0 Feature Engineering**"
   ]
  },
  {
   "cell_type": "code",
   "execution_count": 462,
   "id": "ced55437-9212-4484-8f72-3863e979c1be",
   "metadata": {},
   "outputs": [],
   "source": [
    "df2 = df1.copy()"
   ]
  },
  {
   "cell_type": "code",
   "execution_count": 463,
   "id": "5004da30-c2ef-411f-bcfd-4c850c613475",
   "metadata": {},
   "outputs": [
    {
     "data": {
      "text/plain": [
       "Index(['ID', 'num_fotos', 'marca', 'modelo', 'versao', 'ano_de_fabricacao',\n",
       "       'ano_modelo', 'odometro', 'cambio', 'num_portas', 'tipo', 'blindado',\n",
       "       'cor', 'tipo_vendedor', 'cidade_vendedor', 'estado_vendedor',\n",
       "       'tipo_anuncio', 'entrega_delivery', 'troca', 'elegivel_revisao',\n",
       "       'attr_veiculo_aceita_troca', 'attr_veiculo_único_dono',\n",
       "       'attr_veiculo_todas_as_revisões_feitas_pela_concessionária',\n",
       "       'attr_veiculo_ipva_pago', 'attr_veiculo_licenciado',\n",
       "       'attr_veiculo_garantia_de_fábrica',\n",
       "       'attr_veiculo_todas_as_revisões_feitas_pela_agenda_do_carro', 'preco'],\n",
       "      dtype='object')"
      ]
     },
     "execution_count": 463,
     "metadata": {},
     "output_type": "execute_result"
    }
   ],
   "source": [
    "df2.columns"
   ]
  },
  {
   "cell_type": "code",
   "execution_count": 464,
   "id": "90b31e48-d336-4b5d-bee2-7ed190f3f6cf",
   "metadata": {},
   "outputs": [],
   "source": [
    "# idade do veiculo- (ano_modelo - ano_atual)\n",
    "date = datetime.date.today()\n",
    "year = date.strftime(\"%Y\")\n",
    "df2['idade'] = df2['ano_de_fabricacao'].apply(lambda x: int(year) -int(x))\n",
    "\n",
    "# km/ano\n",
    "df2['km_ano'] = df2['odometro'] / df2['idade']\n",
    "df2['km_ano'] = df2['km_ano'].apply(lambda x: 0 if x == np.inf else x)\n",
    "\n",
    "# potencia\n",
    "df2['potencia'] = df2['versao'].apply( lambda x: x[:3] if ('.' in x[:3] and x[:3] != 'Z.E') else np.nan)\n",
    "\n",
    "# tipo combustivel (assumimos que NA seria Gasolina)\n",
    "df2['combustivel'] = df2['versao'].apply( lambda x: \"gasolina\"  if 'GASOLINA' in str(x) \n",
    "                           else \"disel\"     if 'DISEL'    in str(x)\n",
    "                           else \"eletrico\"  if 'HYBRID'   in str(x)\n",
    "                           else \"flex\"      if 'FLEX'     in str(x)\n",
    "                           else \"gasolina\")\n",
    "\n",
    "# tracao (assumimos que NA seria 4x2)\n",
    "df2['tracao'] = df2['versao'].apply(lambda x: \"4x4\" if '4X4' in str(x)\n",
    "                                    else \"awd\"      if 'AWD' in str(x)\n",
    "                                    else '4x2')"
   ]
  },
  {
   "cell_type": "code",
   "execution_count": 465,
   "id": "2cdc8609-43b6-4c87-b5ee-d84ccc5a8b82",
   "metadata": {},
   "outputs": [
    {
     "data": {
      "text/plain": [
       "88389.0"
      ]
     },
     "execution_count": 465,
     "metadata": {},
     "output_type": "execute_result"
    }
   ],
   "source": [
    "df2['km_ano'].max()"
   ]
  },
  {
   "cell_type": "code",
   "execution_count": null,
   "id": "a89514c5-11d1-4c81-854b-bb3317d0ae29",
   "metadata": {},
   "outputs": [],
   "source": []
  },
  {
   "cell_type": "code",
   "execution_count": null,
   "id": "99ef3e62-4696-4213-a35c-f3ac6cc3962c",
   "metadata": {},
   "outputs": [],
   "source": []
  },
  {
   "cell_type": "markdown",
   "id": "90ad00a3-9fee-44a9-a651-eb595836505d",
   "metadata": {
    "tags": []
   },
   "source": [
    "## **3.0 Filtragem de Variáveis**"
   ]
  },
  {
   "cell_type": "code",
   "execution_count": 466,
   "id": "8d92a1fb-eec6-4177-b9b8-2c98ce7eac4e",
   "metadata": {},
   "outputs": [],
   "source": [
    "df3 = df2.copy()"
   ]
  },
  {
   "cell_type": "code",
   "execution_count": 467,
   "id": "012fb67a-38a9-413e-b7ff-b981c895117c",
   "metadata": {},
   "outputs": [],
   "source": [
    "df3.drop(columns=['ID'], inplace=True)"
   ]
  },
  {
   "cell_type": "code",
   "execution_count": 468,
   "id": "e02a99df-9d2d-4ce6-8594-f9789296f3da",
   "metadata": {},
   "outputs": [
    {
     "data": {
      "text/plain": [
       "Index(['num_fotos', 'marca', 'modelo', 'versao', 'ano_de_fabricacao',\n",
       "       'ano_modelo', 'odometro', 'cambio', 'num_portas', 'tipo', 'blindado',\n",
       "       'cor', 'tipo_vendedor', 'cidade_vendedor', 'estado_vendedor',\n",
       "       'tipo_anuncio', 'entrega_delivery', 'troca', 'elegivel_revisao',\n",
       "       'attr_veiculo_aceita_troca', 'attr_veiculo_único_dono',\n",
       "       'attr_veiculo_todas_as_revisões_feitas_pela_concessionária',\n",
       "       'attr_veiculo_ipva_pago', 'attr_veiculo_licenciado',\n",
       "       'attr_veiculo_garantia_de_fábrica',\n",
       "       'attr_veiculo_todas_as_revisões_feitas_pela_agenda_do_carro', 'preco',\n",
       "       'idade', 'km_ano', 'potencia', 'combustivel', 'tracao'],\n",
       "      dtype='object')"
      ]
     },
     "execution_count": 468,
     "metadata": {},
     "output_type": "execute_result"
    }
   ],
   "source": [
    "df3.columns"
   ]
  },
  {
   "cell_type": "markdown",
   "id": "54436764-30d5-4a6c-92b7-7d37f911b53b",
   "metadata": {
    "jp-MarkdownHeadingCollapsed": true,
    "tags": []
   },
   "source": [
    "## **4.0 EDA (Exploratory Data Analysis)**"
   ]
  },
  {
   "cell_type": "code",
   "execution_count": 469,
   "id": "f2476b6c-b100-4e00-882a-a6a5df0dea69",
   "metadata": {},
   "outputs": [],
   "source": [
    "df4 = df3.copy()"
   ]
  },
  {
   "cell_type": "code",
   "execution_count": 470,
   "id": "2192edae-a5fe-4159-9323-2b98cc09b446",
   "metadata": {},
   "outputs": [
    {
     "data": {
      "text/plain": [
       "array([[<AxesSubplot:title={'center':'num_fotos'}>,\n",
       "        <AxesSubplot:title={'center':'ano_de_fabricacao'}>],\n",
       "       [<AxesSubplot:title={'center':'ano_modelo'}>,\n",
       "        <AxesSubplot:title={'center':'odometro'}>],\n",
       "       [<AxesSubplot:title={'center':'num_portas'}>,\n",
       "        <AxesSubplot:title={'center':'preco'}>]], dtype=object)"
      ]
     },
     "execution_count": 470,
     "metadata": {},
     "output_type": "execute_result"
    },
    {
     "data": {
      "image/png": "[encoded data removed]",
      "text/plain": [
       "<Figure size 1500x1000 with 6 Axes>"
      ]
     },
     "metadata": {},
     "output_type": "display_data"
    }
   ],
   "source": [
    "num_attributes.hist(bins=25)"
   ]
  },
  {
   "cell_type": "code",
   "execution_count": 471,
   "id": "863b4ff9-3c47-4b2a-a560-d82597186704",
   "metadata": {},
   "outputs": [
    {
     "data": {
      "text/plain": [
       "array(['0', 'Único dono'], dtype=object)"
      ]
     },
     "execution_count": 471,
     "metadata": {},
     "output_type": "execute_result"
    }
   ],
   "source": [
    "df4['attr_veiculo_único_dono'].unique()"
   ]
  },
  {
   "cell_type": "markdown",
   "id": "09454bf1-ceb3-4370-abfd-0f1be41febb3",
   "metadata": {
    "tags": []
   },
   "source": [
    "## **5.0 Data Preparation**"
   ]
  },
  {
   "cell_type": "code",
   "execution_count": 472,
   "id": "a394fe33-af59-46e8-95e3-698b1c83cff7",
   "metadata": {},
   "outputs": [],
   "source": [
    "df5 = df4.copy()"
   ]
  },
  {
   "cell_type": "code",
   "execution_count": 473,
   "id": "6b0f2ed4-e54c-458f-8386-2e55ef056745",
   "metadata": {},
   "outputs": [],
   "source": [
    "# X = df5.drop('preco', axis=1)\n",
    "# y = df5['preco'].copy()\n",
    "\n",
    "# x_train, x_val, y_train, y_val = ms.train_test_split(X, y, test_size=0.20)\n",
    "# #x_val_api = x_val.copy()\n",
    "# df5 = pd.concat([x_train, y_train], axis=1)"
   ]
  },
  {
   "cell_type": "markdown",
   "id": "e479d0b2-905d-448c-b8a8-667bb8f95ada",
   "metadata": {},
   "source": [
    "#### **5.1 Rescaling**"
   ]
  },
  {
   "cell_type": "code",
   "execution_count": 474,
   "id": "f986ba22-b2f6-4936-b9ce-fd6ba5a4ab7a",
   "metadata": {},
   "outputs": [],
   "source": [
    "rs = RobustScaler()\n",
    "mms = MinMaxScaler()\n",
    "\n",
    "df5['num_fotos'] = mms.fit_transform(df5[['num_fotos']].values)\n",
    "df5['ano_de_fabricacao'] = mms.fit_transform(df5[['ano_de_fabricacao']].values)\n",
    "df5['ano_modelo'] = mms.fit_transform(df5[['ano_modelo']].values)\n",
    "df5['num_portas'] = mms.fit_transform(df5[['num_portas']].values)\n",
    "df5['km_ano'] = mms.fit_transform(df5[['km_ano']].values)\n",
    "\n",
    "df5['odometro'] = rs.fit_transform(df5[['odometro']].values)"
   ]
  },
  {
   "cell_type": "markdown",
   "id": "1018e72c-dfa9-45d3-86b4-0c79c7923ad8",
   "metadata": {},
   "source": [
    "#### **5.2 Response Variable Transformation**"
   ]
  },
  {
   "cell_type": "code",
   "execution_count": 475,
   "id": "2c854add-0179-4895-9024-5c926917e425",
   "metadata": {},
   "outputs": [],
   "source": [
    "df5['preco'] = np.log1p(df5['preco'])"
   ]
  },
  {
   "cell_type": "markdown",
   "id": "c92030ca-18fb-4d04-9cd0-807dee1f7643",
   "metadata": {},
   "source": [
    "#### **5.3 Encoding**"
   ]
  },
  {
   "cell_type": "code",
   "execution_count": 476,
   "id": "6bdc3a4d-9626-4fdb-a482-cd63deffee35",
   "metadata": {},
   "outputs": [],
   "source": [
    "le = LabelEncoder()\n",
    "df5['marca'] = le.fit_transform(df5['marca'])\n",
    "df5['modelo'] = le.fit_transform(df5['modelo'])\n",
    "df5['versao'] = le.fit_transform(df5['versao'])\n",
    "df5['cambio'] = le.fit_transform(df5['cambio'])\n",
    "df5['tipo'] = le.fit_transform(df5['tipo'])\n",
    "df5['blindado'] = le.fit_transform(df5['blindado'])\n",
    "df5['cor'] = le.fit_transform(df5['cor'])\n",
    "df5['tipo_vendedor'] = le.fit_transform(df5['tipo_vendedor'])\n",
    "df5['entrega_delivery'] = le.fit_transform(df5['entrega_delivery'])\n",
    "df5['troca'] = le.fit_transform(df5['troca'])\n",
    "df5['attr_veiculo_único_dono'] = le.fit_transform(df5['attr_veiculo_único_dono'])\n",
    "df5['attr_veiculo_todas_as_revisões_feitas_pela_concessionária'] = le.fit_transform(df5['attr_veiculo_todas_as_revisões_feitas_pela_concessionária'])\n",
    "df5['attr_veiculo_ipva_pago'] = le.fit_transform(df5['attr_veiculo_ipva_pago'])\n",
    "df5['attr_veiculo_licenciado'] = le.fit_transform(df5['attr_veiculo_licenciado'])\n",
    "df5['attr_veiculo_todas_as_revisões_feitas_pela_agenda_do_carro'] = le.fit_transform(df5['attr_veiculo_todas_as_revisões_feitas_pela_agenda_do_carro'])\n",
    "df5['attr_veiculo_garantia_de_fábrica'] = le.fit_transform(df5['attr_veiculo_garantia_de_fábrica'])\n",
    "df5['attr_veiculo_garantia_de_fábrica'] = le.fit_transform(df5['attr_veiculo_garantia_de_fábrica'])\n",
    "df5['elegivel_revisao'] = le.fit_transform(df5['elegivel_revisao'])\n",
    "df5['attr_veiculo_aceita_troca'] = le.fit_transform(df5['attr_veiculo_aceita_troca'])\n",
    "df5['cidade_vendedor'] = le.fit_transform(df5['cidade_vendedor'])\n",
    "df5['estado_vendedor'] = le.fit_transform(df5['estado_vendedor'])\n",
    "df5['tipo_anuncio'] = le.fit_transform(df5['tipo_anuncio'])\n",
    "\n",
    "df5['potencia'] = le.fit_transform(df5['potencia'])\n",
    "df5['combustivel'] = le.fit_transform(df5['combustivel'])\n",
    "df5['tracao'] = le.fit_transform(df5['tracao'])"
   ]
  },
  {
   "cell_type": "markdown",
   "id": "c3a7da08-4560-4819-bea9-000365a106c0",
   "metadata": {},
   "source": [
    "#### **5.4 Validation Preparation**"
   ]
  },
  {
   "cell_type": "code",
   "execution_count": 477,
   "id": "03f83a5d-ba9d-4c27-99fc-20ec3b3f14b2",
   "metadata": {},
   "outputs": [],
   "source": [
    "# x_val['num_fotos'] = mms.fit_transform(x_val[['num_fotos']].values)\n",
    "# x_val['ano_de_fabricacao'] = mms.fit_transform(x_val[['ano_de_fabricacao']].values)\n",
    "# x_val['ano_modelo'] = mms.fit_transform(x_val[['ano_modelo']].values)\n",
    "# x_val['num_portas'] = mms.fit_transform(x_val[['num_portas']].values)\n",
    "# x_val['odometro'] = rs.fit_transform(x_val[['odometro']].values)\n",
    "\n",
    "# x_val['marca'] = le.fit_transform(x_val['marca'])\n",
    "# x_val['modelo'] = le.fit_transform(x_val['modelo'])\n",
    "# x_val['versao'] = le.fit_transform(x_val['versao'])\n",
    "# x_val['cambio'] = le.fit_transform(x_val['cambio'])\n",
    "# x_val['tipo'] = le.fit_transform(x_val['tipo'])\n",
    "# x_val['blindado'] = le.fit_transform(x_val['blindado'])\n",
    "# x_val['cor'] = le.fit_transform(x_val['cor'])\n",
    "# x_val['tipo_vendedor'] = le.fit_transform(x_val['tipo_vendedor'])\n",
    "# x_val['entrega_delivery'] = le.fit_transform(x_val['entrega_delivery'])\n",
    "# x_val['troca'] = le.fit_transform(x_val['troca'])\n",
    "# x_val['attr_veiculo_único_dono'] = le.fit_transform(x_val['attr_veiculo_único_dono'])\n",
    "# x_val['attr_veiculo_todas_as_revisões_feitas_pela_concessionária'] = le.fit_transform(x_val['attr_veiculo_todas_as_revisões_feitas_pela_concessionária'])\n",
    "# x_val['attr_veiculo_ipva_pago'] = le.fit_transform(x_val['attr_veiculo_ipva_pago'])\n",
    "# x_val['attr_veiculo_licenciado'] = le.fit_transform(x_val['attr_veiculo_licenciado'])\n",
    "# x_val['attr_veiculo_todas_as_revisões_feitas_pela_agenda_do_carro'] = le.fit_transform(x_val['attr_veiculo_todas_as_revisões_feitas_pela_agenda_do_carro'])\n",
    "# x_val['attr_veiculo_garantia_de_fábrica'] = le.fit_transform(x_val['attr_veiculo_garantia_de_fábrica'])\n",
    "# x_val['attr_veiculo_garantia_de_fábrica'] = le.fit_transform(x_val['attr_veiculo_garantia_de_fábrica'])\n",
    "# x_val['elegivel_revisao'] = le.fit_transform(x_val['elegivel_revisao'])\n",
    "# x_val['attr_veiculo_aceita_troca'] = le.fit_transform(x_val['attr_veiculo_aceita_troca'])\n",
    "# x_val['cidade_vendedor'] = le.fit_transform(x_val['cidade_vendedor'])\n",
    "# x_val['estado_vendedor'] = le.fit_transform(x_val['estado_vendedor'])\n",
    "# x_val['tipo_anuncio'] = le.fit_transform(x_val['tipo_anuncio'])"
   ]
  },
  {
   "cell_type": "markdown",
   "id": "f94a373d-2415-4056-b7b3-3490f8e04e88",
   "metadata": {
    "tags": []
   },
   "source": [
    "## **6.0 Feature Selection**"
   ]
  },
  {
   "cell_type": "code",
   "execution_count": 478,
   "id": "084ca310-cebf-4cd2-8911-ce9fdaa70ed0",
   "metadata": {},
   "outputs": [],
   "source": [
    "df6 = df5.copy()"
   ]
  },
  {
   "cell_type": "code",
   "execution_count": 479,
   "id": "d65151ba-763d-43f6-957c-533e9e5f6e62",
   "metadata": {},
   "outputs": [
    {
     "data": {
      "text/html": [
       "<div>\n",
       "<style scoped>\n",
       "    .dataframe tbody tr th:only-of-type {\n",
       "        vertical-align: middle;\n",
       "    }\n",
       "\n",
       "    .dataframe tbody tr th {\n",
       "        vertical-align: top;\n",
       "    }\n",
       "\n",
       "    .dataframe thead th {\n",
       "        text-align: right;\n",
       "    }\n",
       "</style>\n",
       "<table border=\"1\" class=\"dataframe\">\n",
       "  <thead>\n",
       "    <tr style=\"text-align: right;\">\n",
       "      <th></th>\n",
       "      <th>num_fotos</th>\n",
       "      <th>marca</th>\n",
       "      <th>modelo</th>\n",
       "      <th>versao</th>\n",
       "      <th>ano_de_fabricacao</th>\n",
       "      <th>ano_modelo</th>\n",
       "      <th>odometro</th>\n",
       "      <th>cambio</th>\n",
       "      <th>num_portas</th>\n",
       "      <th>tipo</th>\n",
       "      <th>...</th>\n",
       "      <th>attr_veiculo_ipva_pago</th>\n",
       "      <th>attr_veiculo_licenciado</th>\n",
       "      <th>attr_veiculo_garantia_de_fábrica</th>\n",
       "      <th>attr_veiculo_todas_as_revisões_feitas_pela_agenda_do_carro</th>\n",
       "      <th>preco</th>\n",
       "      <th>idade</th>\n",
       "      <th>km_ano</th>\n",
       "      <th>potencia</th>\n",
       "      <th>combustivel</th>\n",
       "      <th>tracao</th>\n",
       "    </tr>\n",
       "  </thead>\n",
       "  <tbody>\n",
       "    <tr>\n",
       "      <th>0</th>\n",
       "      <td>0.38</td>\n",
       "      <td>39</td>\n",
       "      <td>64</td>\n",
       "      <td>1396</td>\n",
       "      <td>0.86</td>\n",
       "      <td>0.77</td>\n",
       "      <td>-0.03</td>\n",
       "      <td>2</td>\n",
       "      <td>1.00</td>\n",
       "      <td>5</td>\n",
       "      <td>...</td>\n",
       "      <td>1</td>\n",
       "      <td>1</td>\n",
       "      <td>0</td>\n",
       "      <td>1</td>\n",
       "      <td>11.72</td>\n",
       "      <td>5</td>\n",
       "      <td>0.13</td>\n",
       "      <td>11</td>\n",
       "      <td>2</td>\n",
       "      <td>1</td>\n",
       "    </tr>\n",
       "    <tr>\n",
       "      <th>1</th>\n",
       "      <td>0.38</td>\n",
       "      <td>17</td>\n",
       "      <td>193</td>\n",
       "      <td>1005</td>\n",
       "      <td>0.86</td>\n",
       "      <td>0.77</td>\n",
       "      <td>-0.19</td>\n",
       "      <td>2</td>\n",
       "      <td>1.00</td>\n",
       "      <td>7</td>\n",
       "      <td>...</td>\n",
       "      <td>1</td>\n",
       "      <td>0</td>\n",
       "      <td>0</td>\n",
       "      <td>1</td>\n",
       "      <td>12.51</td>\n",
       "      <td>5</td>\n",
       "      <td>0.11</td>\n",
       "      <td>11</td>\n",
       "      <td>2</td>\n",
       "      <td>2</td>\n",
       "    </tr>\n",
       "    <tr>\n",
       "      <th>2</th>\n",
       "      <td>0.67</td>\n",
       "      <td>5</td>\n",
       "      <td>149</td>\n",
       "      <td>833</td>\n",
       "      <td>0.73</td>\n",
       "      <td>0.62</td>\n",
       "      <td>1.28</td>\n",
       "      <td>2</td>\n",
       "      <td>1.00</td>\n",
       "      <td>6</td>\n",
       "      <td>...</td>\n",
       "      <td>0</td>\n",
       "      <td>0</td>\n",
       "      <td>0</td>\n",
       "      <td>0</td>\n",
       "      <td>10.89</td>\n",
       "      <td>10</td>\n",
       "      <td>0.14</td>\n",
       "      <td>9</td>\n",
       "      <td>1</td>\n",
       "      <td>0</td>\n",
       "    </tr>\n",
       "    <tr>\n",
       "      <th>3</th>\n",
       "      <td>0.38</td>\n",
       "      <td>30</td>\n",
       "      <td>45</td>\n",
       "      <td>955</td>\n",
       "      <td>0.95</td>\n",
       "      <td>0.92</td>\n",
       "      <td>-0.85</td>\n",
       "      <td>2</td>\n",
       "      <td>0.00</td>\n",
       "      <td>5</td>\n",
       "      <td>...</td>\n",
       "      <td>0</td>\n",
       "      <td>0</td>\n",
       "      <td>0</td>\n",
       "      <td>0</td>\n",
       "      <td>12.61</td>\n",
       "      <td>2</td>\n",
       "      <td>0.08</td>\n",
       "      <td>11</td>\n",
       "      <td>2</td>\n",
       "      <td>0</td>\n",
       "    </tr>\n",
       "    <tr>\n",
       "      <th>4</th>\n",
       "      <td>0.38</td>\n",
       "      <td>40</td>\n",
       "      <td>458</td>\n",
       "      <td>1169</td>\n",
       "      <td>0.81</td>\n",
       "      <td>0.73</td>\n",
       "      <td>-0.27</td>\n",
       "      <td>2</td>\n",
       "      <td>1.00</td>\n",
       "      <td>7</td>\n",
       "      <td>...</td>\n",
       "      <td>0</td>\n",
       "      <td>0</td>\n",
       "      <td>0</td>\n",
       "      <td>1</td>\n",
       "      <td>12.45</td>\n",
       "      <td>7</td>\n",
       "      <td>0.07</td>\n",
       "      <td>11</td>\n",
       "      <td>2</td>\n",
       "      <td>1</td>\n",
       "    </tr>\n",
       "  </tbody>\n",
       "</table>\n",
       "<p>5 rows × 32 columns</p>\n",
       "</div>"
      ],
      "text/plain": [
       "   num_fotos  marca  modelo  versao  ano_de_fabricacao  ano_modelo  odometro  \\\n",
       "0       0.38     39      64    1396               0.86        0.77     -0.03   \n",
       "1       0.38     17     193    1005               0.86        0.77     -0.19   \n",
       "2       0.67      5     149     833               0.73        0.62      1.28   \n",
       "3       0.38     30      45     955               0.95        0.92     -0.85   \n",
       "4       0.38     40     458    1169               0.81        0.73     -0.27   \n",
       "\n",
       "   cambio  num_portas  tipo  ...  attr_veiculo_ipva_pago  \\\n",
       "0       2        1.00     5  ...                       1   \n",
       "1       2        1.00     7  ...                       1   \n",
       "2       2        1.00     6  ...                       0   \n",
       "3       2        0.00     5  ...                       0   \n",
       "4       2        1.00     7  ...                       0   \n",
       "\n",
       "   attr_veiculo_licenciado  attr_veiculo_garantia_de_fábrica  \\\n",
       "0                        1                                 0   \n",
       "1                        0                                 0   \n",
       "2                        0                                 0   \n",
       "3                        0                                 0   \n",
       "4                        0                                 0   \n",
       "\n",
       "   attr_veiculo_todas_as_revisões_feitas_pela_agenda_do_carro  preco  idade  \\\n",
       "0                                                  1           11.72      5   \n",
       "1                                                  1           12.51      5   \n",
       "2                                                  0           10.89     10   \n",
       "3                                                  0           12.61      2   \n",
       "4                                                  1           12.45      7   \n",
       "\n",
       "   km_ano  potencia  combustivel  tracao  \n",
       "0    0.13        11            2       1  \n",
       "1    0.11        11            2       2  \n",
       "2    0.14         9            1       0  \n",
       "3    0.08        11            2       0  \n",
       "4    0.07        11            2       1  \n",
       "\n",
       "[5 rows x 32 columns]"
      ]
     },
     "execution_count": 479,
     "metadata": {},
     "output_type": "execute_result"
    }
   ],
   "source": [
    "df6.head()"
   ]
  },
  {
   "cell_type": "markdown",
   "id": "6371e4f8-2251-4f66-995c-024b7c87a612",
   "metadata": {},
   "source": [
    "### **6.1 Features Importance**"
   ]
  },
  {
   "cell_type": "code",
   "execution_count": 480,
   "id": "cfe3a01f-a95f-4b0c-9b41-1197abb5158f",
   "metadata": {},
   "outputs": [],
   "source": [
    "X = df5.drop('preco', axis=1)\n",
    "y = df5['preco'].copy()\n",
    "\n",
    "x_train, x_val, y_train, y_val = ms.train_test_split(X, y, test_size=0.20)"
   ]
  },
  {
   "cell_type": "code",
   "execution_count": 481,
   "id": "496f7afc-107d-4421-9830-f166648ff10c",
   "metadata": {},
   "outputs": [],
   "source": [
    "# # model definition\n",
    "# forest = en.ExtraTreesRegressor(n_estimators = 250, random_state=0, n_jobs=-1)\n",
    "\n",
    "# #data preparation\n",
    "# x_train_n = df6.drop(['preco'], axis=1)\n",
    "# y_train_n = y.values\n",
    "# forest.fit(x_train_n, y_train_n)"
   ]
  },
  {
   "cell_type": "code",
   "execution_count": 482,
   "id": "5674cf7a-90d6-4358-93af-6116124f1077",
   "metadata": {},
   "outputs": [],
   "source": [
    "# importances = forest.feature_importances_\n",
    "# std = np.std([tree.feature_importances_ for tree in forest.estimators_], axis=0)\n",
    "# indices = np.argsort(importances)[::-1]\n",
    "\n",
    "# # print the feature ranking\n",
    "# print(\"Feature Ranking:\")\n",
    "# df = pd.DataFrame()\n",
    "# for i, j in zip(x_train_n, forest.feature_importances_):\n",
    "#     aux=pd.DataFrame({'feature':i, 'importance':j}, index=[0])\n",
    "#     df = pd.concat([df, aux], axis=0)\n",
    "\n",
    "# print(df.sort_values('importance', ascending=False))\n",
    "\n",
    "# # Plot the impurity-based feature importances of the forest\n",
    "# plt.figure()\n",
    "# plt.title(\"Feature_importances\")\n",
    "# plt.bar(range(x_train_n.shape[1]), importances[indices], color='r', yerr=std[indices], align='center')\n",
    "# plt.xticks(range(x_train_n.shape[1]), indices)\n",
    "# plt.xlim((-1, x_train_n.shape[1]))\n",
    "# plt.show()"
   ]
  },
  {
   "cell_type": "markdown",
   "id": "2f6fd034-1ae0-4830-b8a6-c02e4c83b3f1",
   "metadata": {},
   "source": [
    "#### **6.2 Manual Feature Selection**"
   ]
  },
  {
   "cell_type": "code",
   "execution_count": 483,
   "id": "0ed48ac5-7601-4528-8b68-8d6b09788689",
   "metadata": {},
   "outputs": [],
   "source": [
    "cols_selected = ['tracao','idade','km_ano','potencia','combustivel','odometro','tipo','ano_modelo','ano_de_fabricacao','marca','modelo','cambio','cor','cidade_vendedor','estado_vendedor']\n",
    "\n",
    "# columns to add\n",
    "feat_to_add = ['preco']\n",
    "\n",
    "# final features\n",
    "cols_selected_full = cols_selected.copy()\n",
    "cols_selected_full.extend(feat_to_add)"
   ]
  },
  {
   "cell_type": "code",
   "execution_count": 484,
   "id": "dcec8d31-5a26-405b-ae03-6957e24e43de",
   "metadata": {},
   "outputs": [],
   "source": [
    "x_train = x_train[cols_selected]\n",
    "x_val = x_val[cols_selected]\n",
    "\n",
    "# variaveis relevantes com data e sales\n",
    "x_training = df5[cols_selected_full]"
   ]
  },
  {
   "cell_type": "code",
   "execution_count": 485,
   "id": "45e77a9b-fb6a-44ec-be6f-ca3be12f80c0",
   "metadata": {},
   "outputs": [],
   "source": [
    "# cols_selected = ['odometro','tipo','ano_modelo','ano_de_fabricacao','marca','modelo','cambio','cor','cidade_vendedor','estado_vendedor','attr_veiculo_aceita_troca']\n",
    "\n",
    "# x_train = df5[cols_selected]\n",
    "# x_validation = x_val[cols_selected]\n",
    "# y_validation = y_val.copy()"
   ]
  },
  {
   "cell_type": "markdown",
   "id": "d78b6d31-a406-428c-a3f4-79e99a786813",
   "metadata": {
    "tags": []
   },
   "source": [
    "# **7.0 Model Training**"
   ]
  },
  {
   "cell_type": "markdown",
   "id": "541eb939-24ef-437e-a974-57ffc9a82e91",
   "metadata": {},
   "source": [
    "### **7.1 Linear Regression Model**"
   ]
  },
  {
   "cell_type": "code",
   "execution_count": 486,
   "id": "cf62c50a-f85c-4353-9996-d1ab5a29fcf7",
   "metadata": {},
   "outputs": [
    {
     "data": {
      "text/html": [
       "<div>\n",
       "<style scoped>\n",
       "    .dataframe tbody tr th:only-of-type {\n",
       "        vertical-align: middle;\n",
       "    }\n",
       "\n",
       "    .dataframe tbody tr th {\n",
       "        vertical-align: top;\n",
       "    }\n",
       "\n",
       "    .dataframe thead th {\n",
       "        text-align: right;\n",
       "    }\n",
       "</style>\n",
       "<table border=\"1\" class=\"dataframe\">\n",
       "  <thead>\n",
       "    <tr style=\"text-align: right;\">\n",
       "      <th></th>\n",
       "      <th>Model Name</th>\n",
       "      <th>MAE</th>\n",
       "      <th>MAPE</th>\n",
       "      <th>RMSE</th>\n",
       "    </tr>\n",
       "  </thead>\n",
       "  <tbody>\n",
       "    <tr>\n",
       "      <th>0</th>\n",
       "      <td>Linear Regression</td>\n",
       "      <td>39682.17</td>\n",
       "      <td>0.32</td>\n",
       "      <td>61949.05</td>\n",
       "    </tr>\n",
       "  </tbody>\n",
       "</table>\n",
       "</div>"
      ],
      "text/plain": [
       "          Model Name      MAE  MAPE     RMSE\n",
       "0  Linear Regression 39682.17  0.32 61949.05"
      ]
     },
     "execution_count": 486,
     "metadata": {},
     "output_type": "execute_result"
    }
   ],
   "source": [
    "# model\n",
    "lr = LinearRegression().fit(x_train, y_train)\n",
    "\n",
    "# prediction \n",
    "yhat_lr = lr.predict(x_val)\n",
    "\n",
    "# performance\n",
    "lr_result = ml_error('Linear Regression', np.expm1(y_val), np.expm1(yhat_lr))\n",
    "lr_result"
   ]
  },
  {
   "cell_type": "markdown",
   "id": "c817c046-418e-48ed-9331-e1d5295309b3",
   "metadata": {},
   "source": [
    "### **7.2 Linear Regression Regularized Model**"
   ]
  },
  {
   "cell_type": "code",
   "execution_count": 487,
   "id": "f2b811e5-b4b5-4d54-b6d3-3422f6c8010d",
   "metadata": {},
   "outputs": [
    {
     "data": {
      "text/html": [
       "<div>\n",
       "<style scoped>\n",
       "    .dataframe tbody tr th:only-of-type {\n",
       "        vertical-align: middle;\n",
       "    }\n",
       "\n",
       "    .dataframe tbody tr th {\n",
       "        vertical-align: top;\n",
       "    }\n",
       "\n",
       "    .dataframe thead th {\n",
       "        text-align: right;\n",
       "    }\n",
       "</style>\n",
       "<table border=\"1\" class=\"dataframe\">\n",
       "  <thead>\n",
       "    <tr style=\"text-align: right;\">\n",
       "      <th></th>\n",
       "      <th>Model Name</th>\n",
       "      <th>MAE</th>\n",
       "      <th>MAPE</th>\n",
       "      <th>RMSE</th>\n",
       "    </tr>\n",
       "  </thead>\n",
       "  <tbody>\n",
       "    <tr>\n",
       "      <th>0</th>\n",
       "      <td>Linear Regression - Lasso</td>\n",
       "      <td>40201.82</td>\n",
       "      <td>0.32</td>\n",
       "      <td>62965.66</td>\n",
       "    </tr>\n",
       "  </tbody>\n",
       "</table>\n",
       "</div>"
      ],
      "text/plain": [
       "                  Model Name      MAE  MAPE     RMSE\n",
       "0  Linear Regression - Lasso 40201.82  0.32 62965.66"
      ]
     },
     "execution_count": 487,
     "metadata": {},
     "output_type": "execute_result"
    }
   ],
   "source": [
    "# model\n",
    "lrr = Lasso(alpha=0.01).fit(x_train, y_train)\n",
    "\n",
    "# prediction \n",
    "yhat_lrr = lrr.predict(x_val)\n",
    "\n",
    "# performance\n",
    "lrr_result = ml_error('Linear Regression - Lasso', np.expm1(y_val), np.expm1(yhat_lrr))\n",
    "lrr_result"
   ]
  },
  {
   "cell_type": "markdown",
   "id": "1aadb353-744d-4a33-9c0e-3698ef59b03d",
   "metadata": {},
   "source": [
    "### **7.3 Random Forest Regressor**"
   ]
  },
  {
   "cell_type": "code",
   "execution_count": 488,
   "id": "731c0419-8a4d-425c-847b-3f0241b8e618",
   "metadata": {},
   "outputs": [
    {
     "data": {
      "text/html": [
       "<div>\n",
       "<style scoped>\n",
       "    .dataframe tbody tr th:only-of-type {\n",
       "        vertical-align: middle;\n",
       "    }\n",
       "\n",
       "    .dataframe tbody tr th {\n",
       "        vertical-align: top;\n",
       "    }\n",
       "\n",
       "    .dataframe thead th {\n",
       "        text-align: right;\n",
       "    }\n",
       "</style>\n",
       "<table border=\"1\" class=\"dataframe\">\n",
       "  <thead>\n",
       "    <tr style=\"text-align: right;\">\n",
       "      <th></th>\n",
       "      <th>Model Name</th>\n",
       "      <th>MAE</th>\n",
       "      <th>MAPE</th>\n",
       "      <th>RMSE</th>\n",
       "    </tr>\n",
       "  </thead>\n",
       "  <tbody>\n",
       "    <tr>\n",
       "      <th>0</th>\n",
       "      <td>Random Forest Regressor</td>\n",
       "      <td>27865.14</td>\n",
       "      <td>0.22</td>\n",
       "      <td>43721.43</td>\n",
       "    </tr>\n",
       "  </tbody>\n",
       "</table>\n",
       "</div>"
      ],
      "text/plain": [
       "                Model Name      MAE  MAPE     RMSE\n",
       "0  Random Forest Regressor 27865.14  0.22 43721.43"
      ]
     },
     "execution_count": 488,
     "metadata": {},
     "output_type": "execute_result"
    }
   ],
   "source": [
    "# model\n",
    "rf = RandomForestRegressor(n_estimators=100, n_jobs=-1, random_state=42).fit(x_train, y_train)\n",
    "\n",
    "# prediction \n",
    "yhat_rf = rf.predict(x_val)\n",
    "\n",
    "# performance\n",
    "rf_result = ml_error('Random Forest Regressor', np.expm1(y_val), np.expm1(yhat_rf))\n",
    "rf_result"
   ]
  },
  {
   "cell_type": "markdown",
   "id": "1c0b2f85-f01c-4bc8-8156-82ad45d084e0",
   "metadata": {},
   "source": [
    "### **7.3 XGBoost Regressor**"
   ]
  },
  {
   "cell_type": "code",
   "execution_count": 489,
   "id": "c22be9fa-4166-4066-8bef-36af55bc4216",
   "metadata": {},
   "outputs": [
    {
     "data": {
      "text/html": [
       "<div>\n",
       "<style scoped>\n",
       "    .dataframe tbody tr th:only-of-type {\n",
       "        vertical-align: middle;\n",
       "    }\n",
       "\n",
       "    .dataframe tbody tr th {\n",
       "        vertical-align: top;\n",
       "    }\n",
       "\n",
       "    .dataframe thead th {\n",
       "        text-align: right;\n",
       "    }\n",
       "</style>\n",
       "<table border=\"1\" class=\"dataframe\">\n",
       "  <thead>\n",
       "    <tr style=\"text-align: right;\">\n",
       "      <th></th>\n",
       "      <th>Model Name</th>\n",
       "      <th>MAE</th>\n",
       "      <th>MAPE</th>\n",
       "      <th>RMSE</th>\n",
       "    </tr>\n",
       "  </thead>\n",
       "  <tbody>\n",
       "    <tr>\n",
       "      <th>0</th>\n",
       "      <td>XGBoost Regressor</td>\n",
       "      <td>27316.83</td>\n",
       "      <td>0.22</td>\n",
       "      <td>42745.41</td>\n",
       "    </tr>\n",
       "  </tbody>\n",
       "</table>\n",
       "</div>"
      ],
      "text/plain": [
       "          Model Name      MAE  MAPE     RMSE\n",
       "0  XGBoost Regressor 27316.83  0.22 42745.41"
      ]
     },
     "execution_count": 489,
     "metadata": {},
     "output_type": "execute_result"
    }
   ],
   "source": [
    "# model\n",
    "model_xgb = xgb.XGBRegressor().fit(x_train, y_train)\n",
    "\n",
    "# prediction\n",
    "yhat_xgb = model_xgb.predict(x_val)\n",
    "\n",
    "# performance\n",
    "xgb_result = ml_error('XGBoost Regressor', np.expm1(y_val), np.expm1(yhat_xgb))\n",
    "xgb_result"
   ]
  },
  {
   "cell_type": "markdown",
   "id": "f98b75e5-1446-4ec5-99ed-a8007c12b1cc",
   "metadata": {
    "tags": []
   },
   "source": [
    "## **8.0 Hyperparameter Fine Tuning**"
   ]
  },
  {
   "cell_type": "code",
   "execution_count": 506,
   "id": "02043ece-f0b5-47b4-a979-07162a54a068",
   "metadata": {},
   "outputs": [
    {
     "name": "stdout",
     "output_type": "stream",
     "text": [
      "{'n_estimators': [200, 400, 600, 800, 1000, 1200, 1400, 1600, 1800, 2000], 'max_features': ['auto', 'sqrt'], 'max_depth': [10, 20, 30, 40, 50, 60, 70, 80, 90, 100, 110, None], 'min_samples_split': [2, 5, 10], 'min_samples_leaf': [1, 2, 4], 'bootstrap': [True, False]}\n"
     ]
    }
   ],
   "source": [
    "from sklearn.model_selection import RandomizedSearchCV\n",
    "\n",
    "# Number of trees in random forest\n",
    "n_estimators = [int(x) for x in np.linspace(start = 200, stop = 2000, num = 10)]\n",
    "# Number of features to consider at every split\n",
    "max_features = ['auto', 'sqrt']\n",
    "# Maximum number of levels in tree\n",
    "max_depth = [int(x) for x in np.linspace(10, 110, num = 11)]\n",
    "max_depth.append(None)\n",
    "# Minimum number of samples required to split a node\n",
    "min_samples_split = [2, 5, 10]\n",
    "# Minimum number of samples required at each leaf node\n",
    "min_samples_leaf = [1, 2, 4]\n",
    "# Method of selecting samples for training each tree\n",
    "bootstrap = [True, False]\n",
    "# Create the random grid\n",
    "random_grid = {'n_estimators': n_estimators,\n",
    "               'max_features': max_features,\n",
    "               'max_depth': max_depth,\n",
    "               'min_samples_split': min_samples_split,\n",
    "               'min_samples_leaf': min_samples_leaf,\n",
    "               'bootstrap': bootstrap}\n",
    "print(random_grid)"
   ]
  },
  {
   "cell_type": "code",
   "execution_count": null,
   "id": "82b76aaf-5de5-4af8-be12-74d6e323abd9",
   "metadata": {},
   "outputs": [
    {
     "name": "stdout",
     "output_type": "stream",
     "text": [
      "Fitting 3 folds for each of 100 candidates, totalling 300 fits\n"
     ]
    }
   ],
   "source": [
    "# Use the random grid to search for best hyperparameters\n",
    "# First create the base model to tune\n",
    "rf = RandomForestRegressor()\n",
    "# Random search of parameters, using 3 fold cross validation, \n",
    "# search across 100 different combinations, and use all available cores\n",
    "rf_random = RandomizedSearchCV(estimator = rf, param_distributions = random_grid, n_iter = 100, cv = 3, verbose=2, random_state=42, n_jobs = -1)\n",
    "# Fit the random search model\n",
    "rf_random.fit(x_train, y_train)"
   ]
  },
  {
   "cell_type": "code",
   "execution_count": null,
   "id": "d8799ca0-591b-43a0-8fe6-2bb85b749e98",
   "metadata": {},
   "outputs": [],
   "source": [
    "rf_random.best_params_"
   ]
  },
  {
   "cell_type": "code",
   "execution_count": null,
   "id": "20397e04-c659-4035-a7a8-d215734702eb",
   "metadata": {},
   "outputs": [],
   "source": [
    "# model\n",
    "model_rf_tunned = RandomForestRegressor(n_estimators=100, n_jobs=-1, random_state=42).fit(x_train, y_train)\n",
    "\n",
    "# prediction\n",
    "yhat_rf_tunned = model_rf_tunned.predict(x_val)\n",
    "\n",
    "# performance\n",
    "xgb_result_tunned = ml_error('XGBoost Regressor', np.expm1(y_val), np.expm1(yhat_rf_tunned))\n",
    "xgb_result_tunned"
   ]
  },
  {
   "cell_type": "markdown",
   "id": "ae78c452-64cb-4ac1-afeb-3c69dbc0d97e",
   "metadata": {
    "tags": []
   },
   "source": [
    "## **9.0 Tradução e interpretação do erro**"
   ]
  },
  {
   "cell_type": "code",
   "execution_count": null,
   "id": "8aba67cd-d441-41b9-9eb8-d317980c0c28",
   "metadata": {},
   "outputs": [],
   "source": []
  },
  {
   "cell_type": "markdown",
   "id": "6badea0a-361d-410e-b8a5-1b9380119e67",
   "metadata": {
    "tags": []
   },
   "source": [
    "## **10.0 Producao**"
   ]
  },
  {
   "cell_type": "markdown",
   "id": "32a55bf9-1b50-492e-ba7e-901b0984694e",
   "metadata": {},
   "source": [
    "#### **10.1 Loading dataset Test**"
   ]
  },
  {
   "cell_type": "code",
   "execution_count": 501,
   "id": "11658151-be4a-4ee9-9b13-4df55144a35d",
   "metadata": {},
   "outputs": [],
   "source": [
    "df_test = pd.read_csv('data/teste.csv')"
   ]
  },
  {
   "cell_type": "markdown",
   "id": "12d5d30d-7d38-4044-b07b-c30e584c4059",
   "metadata": {},
   "source": [
    "#### **10.2 Feature Engineering / Data Preparation**"
   ]
  },
  {
   "cell_type": "code",
   "execution_count": 502,
   "id": "f0d6d792-ba7e-4cc9-b92d-05df77599913",
   "metadata": {},
   "outputs": [],
   "source": [
    "#================= Feature Engineerin ================= \n",
    "# idade do veiculo- (ano_modelo - ano_atual)\n",
    "date = datetime.date.today()\n",
    "year = date.strftime(\"%Y\")\n",
    "df_test['idade'] = df_test['ano_de_fabricacao'].apply(lambda x: int(year) -int(x))\n",
    "\n",
    "# km/ano\n",
    "df_test['km_ano'] = df_test['odometro'] / df_test['idade']\n",
    "df_test['km_ano'] = df_test['km_ano'].apply(lambda x: 0 if x == np.inf else x)\n",
    "\n",
    "# potencia\n",
    "df_test['potencia'] = df_test['versao'].apply( lambda x: x[:3] if ('.' in x[:3] and x[:3] != 'Z.E') else np.nan)\n",
    "\n",
    "# tipo combustivel (assumimos que NA seria Gasolina)\n",
    "df_test['combustivel'] = df_test['versao'].apply( lambda x: \"gasolina\"  if 'GASOLINA' in str(x) \n",
    "                           else \"disel\"     if 'DISEL'    in str(x)\n",
    "                           else \"eletrico\"  if 'HYBRID'   in str(x)\n",
    "                           else \"flex\"      if 'FLEX'     in str(x)\n",
    "                           else \"gasolina\")\n",
    "\n",
    "# tracao (assumimos que NA seria 4x2)\n",
    "df_test['tracao'] = df_test['versao'].apply(lambda x: \"4x4\" if '4X4' in str(x)\n",
    "                                    else \"awd\"      if 'AWD' in str(x)\n",
    "                                    else '4x2')\n",
    "\n",
    "#================= Data Preparation ================= \n",
    "\n",
    "df_test['num_fotos'].fillna(0, inplace=True)\n",
    "df_test['attr_veiculo_aceita_troca'].fillna('0', inplace=True)\n",
    "df_test['attr_veiculo_único_dono'].fillna('0', inplace=True)\n",
    "df_test['attr_veiculo_todas_as_revisões_feitas_pela_concessionária'].fillna('0', inplace=True)\n",
    "df_test['attr_veiculo_ipva_pago'].fillna('0', inplace=True)\n",
    "df_test['attr_veiculo_licenciado'].fillna('0', inplace=True)\n",
    "df_test['attr_veiculo_garantia_de_fábrica'].fillna('0', inplace=True)\n",
    "df_test['attr_veiculo_todas_as_revisões_feitas_pela_agenda_do_carro'].fillna('0', inplace=True)\n",
    "\n",
    "df_test['ano_modelo'] = df_test['ano_modelo'].astype(int)\n",
    "df_test['entrega_delivery'] = df_test['entrega_delivery'].astype(str)\n",
    "df_test['troca'] = df1['troca'].astype(str)\n",
    "df_test['elegivel_revisao'] = df_test['elegivel_revisao'].astype(str)\n",
    "\n",
    "df_test.drop(columns=['attr_veiculo_alienado','ID'], inplace=True)\n",
    "\n",
    "df_test['num_fotos'] = mms.fit_transform(df_test[['num_fotos']].values)\n",
    "df_test['ano_de_fabricacao'] = mms.fit_transform(df_test[['ano_de_fabricacao']].values)\n",
    "df_test['ano_modelo'] = mms.fit_transform(df_test[['ano_modelo']].values)\n",
    "df_test['num_portas'] = mms.fit_transform(df_test[['num_portas']].values)\n",
    "\n",
    "df_test['odometro'] = rs.fit_transform(df_test[['odometro']].values)\n",
    "\n",
    "le = LabelEncoder()\n",
    "df_test['marca'] = le.fit_transform(df_test['marca'])\n",
    "df_test['modelo'] = le.fit_transform(df_test['modelo'])\n",
    "df_test['versao'] = le.fit_transform(df_test['versao'])\n",
    "df_test['cambio'] = le.fit_transform(df_test['cambio'])\n",
    "df_test['tipo'] = le.fit_transform(df_test['tipo'])\n",
    "df_test['blindado'] = le.fit_transform(df_test['blindado'])\n",
    "df_test['cor'] = le.fit_transform(df_test['cor'])\n",
    "df_test['tipo_vendedor'] = le.fit_transform(df_test['tipo_vendedor'])\n",
    "df_test['entrega_delivery'] = le.fit_transform(df_test['entrega_delivery'])\n",
    "df_test['troca'] = le.fit_transform(df_test['troca'])\n",
    "df_test['attr_veiculo_único_dono'] = le.fit_transform(df_test['attr_veiculo_único_dono'])\n",
    "df_test['attr_veiculo_todas_as_revisões_feitas_pela_concessionária'] = le.fit_transform(df_test['attr_veiculo_todas_as_revisões_feitas_pela_concessionária'])\n",
    "df_test['attr_veiculo_ipva_pago'] = le.fit_transform(df_test['attr_veiculo_ipva_pago'])\n",
    "df_test['attr_veiculo_licenciado'] = le.fit_transform(df_test['attr_veiculo_licenciado'])\n",
    "df_test['attr_veiculo_todas_as_revisões_feitas_pela_agenda_do_carro'] = le.fit_transform(df_test['attr_veiculo_todas_as_revisões_feitas_pela_agenda_do_carro'])\n",
    "df_test['attr_veiculo_garantia_de_fábrica'] = le.fit_transform(df_test['attr_veiculo_garantia_de_fábrica'])\n",
    "df_test['attr_veiculo_garantia_de_fábrica'] = le.fit_transform(df_test['attr_veiculo_garantia_de_fábrica'])\n",
    "df_test['elegivel_revisao'] = le.fit_transform(df_test['elegivel_revisao'])\n",
    "df_test['attr_veiculo_aceita_troca'] = le.fit_transform(df_test['attr_veiculo_aceita_troca'])\n",
    "df_test['cidade_vendedor'] = le.fit_transform(df_test['cidade_vendedor'])\n",
    "df_test['estado_vendedor'] = le.fit_transform(df_test['estado_vendedor'])\n",
    "df_test['tipo_anuncio'] = le.fit_transform(df_test['tipo_anuncio'])\n",
    "\n",
    "df_test['km_ano'] = mms.fit_transform(df_test[['km_ano']].values)\n",
    "df_test['potencia'] = le.fit_transform(df_test['potencia'])\n",
    "df_test['combustivel'] = le.fit_transform(df_test['combustivel'])\n",
    "df_test['tracao'] = le.fit_transform(df_test['tracao'])"
   ]
  },
  {
   "cell_type": "markdown",
   "id": "65e787bc-36c8-4c3c-87a2-9b1b3ba76f6e",
   "metadata": {},
   "source": [
    "#### **10.3 Feature Selection / Prediction / Df_final**"
   ]
  },
  {
   "cell_type": "code",
   "execution_count": 503,
   "id": "d35493d7-0d43-4ecd-9cb9-e7d8a7b322ab",
   "metadata": {},
   "outputs": [],
   "source": [
    "cols_selected_test = ['tracao','idade','km_ano','potencia','combustivel','odometro','tipo','ano_modelo','ano_de_fabricacao','marca','modelo','cambio','cor','cidade_vendedor','estado_vendedor']\n",
    "\n",
    "# columns to add\n",
    "feat_to_add_test = ['preco']\n",
    "\n",
    "# final features\n",
    "cols_selected_full_test = cols_selected_test.copy()\n",
    "cols_selected_full_test.extend(feat_to_add_test)\n",
    "\n",
    "df_test = df_test[cols_selected_test]\n",
    "\n",
    "# respostas do preditor\n",
    "yhat_xgb_test = model_xgb.predict(df_test)\n",
    "\n",
    "predicts = np.expm1(yhat_xgb_test)\n",
    "\n",
    "df_test_env = pd.read_csv('data/teste.csv')\n",
    "\n",
    "df_test_env = df_test_env['ID']\n",
    "\n",
    "df_final = pd.DataFrame({'ID':df_test_env,'preco': predicts}).set_index('ID')"
   ]
  },
  {
   "cell_type": "markdown",
   "id": "f56e728a-6d16-4602-9685-364655b65b0e",
   "metadata": {},
   "source": [
    "#### **10.4 Save Response**"
   ]
  },
  {
   "cell_type": "code",
   "execution_count": 504,
   "id": "dcbf53d6-05e0-48a4-bffa-0a9b1f37d7aa",
   "metadata": {},
   "outputs": [],
   "source": [
    "df_final.to_csv('brainRent_predictions_xgb.csv')"
   ]
  }
 ],
 "metadata": {
  "kernelspec": {
   "display_name": "Python 3 (ipykernel)",
   "language": "python",
   "name": "python3"
  },
  "language_info": {
   "codemirror_mode": {
    "name": "ipython",
    "version": 3
   },
   "file_extension": ".py",
   "mimetype": "text/x-python",
   "name": "python",
   "nbconvert_exporter": "python",
   "pygments_lexer": "ipython3",
   "version": "3.8.10"
  }
 },
 "nbformat": 4,
 "nbformat_minor": 5
}
