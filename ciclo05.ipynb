{
 "cells": [
  {
   "cell_type": "markdown",
   "id": "c003b3bf-1def-4ff0-bd1c-00f17b057cbe",
   "metadata": {},
   "source": [
    "## **0.0 Imports**"
   ]
  },
  {
   "cell_type": "code",
   "execution_count": 119,
   "id": "f2810cec-52a7-49ad-aabb-77e23211b6bb",
   "metadata": {},
   "outputs": [],
   "source": [
    "import pandas as pd\n",
    "import numpy as np\n",
    "import seaborn as sns\n",
    "import inflection\n",
    "import matplotlib.pyplot as plt\n",
    "from sklearn import model_selection as ms\n",
    "from sklearn.ensemble     import RandomForestRegressor\n",
    "import xgboost as xgb\n",
    "import lightgbm as lgb\n",
    "from sklearn import ensemble as en\n",
    "from sklearn.preprocessing import RobustScaler, MinMaxScaler, LabelEncoder\n",
    "from sklearn.linear_model import LinearRegression, Lasso\n",
    "from sklearn.metrics import mean_squared_error, mean_absolute_error\n",
    "\n",
    "from scipy                 import stats as ss\n",
    "\n",
    "import datetime\n",
    "\n",
    "pd.set_option('display.float_format','{:.2f}'.format)"
   ]
  },
  {
   "cell_type": "markdown",
   "id": "58d5828e-b9f4-4c13-94be-847534408118",
   "metadata": {},
   "source": [
    "### 0.1 Helper Functions"
   ]
  },
  {
   "cell_type": "code",
   "execution_count": 120,
   "id": "1c36c192-a11d-47e8-894b-227558887116",
   "metadata": {},
   "outputs": [],
   "source": [
    "# def cross_validation(x_training, kfold, model_name, model, verbose=False):\n",
    "#     mae_list = []\n",
    "#     mape_list = []\n",
    "#     rmse_list = []\n",
    "#     for k in reversed(range(1,6)):\n",
    "#         if verbose:\n",
    "#             print('\\nKFold Number: {}'.format(k))\n",
    "\n",
    "#         # training and validation dataset\n",
    "#         # training\n",
    "#         X = x_training.drop('preco', axis=1)\n",
    "#         y = x_training['preco']\n",
    "        \n",
    "#         kf = KFold(n_splits=2)\n",
    "#         kf.get_n_splits(X)\n",
    "\n",
    "#         print(kf)\n",
    "#         KFold(n_splits=2, random_state=None, shuffle=False)\n",
    "#         for train_index, test_index in kf.split(X):\n",
    "#             print(\"TRAIN:\", train_index, \"TEST:\", test_index)\n",
    "#             X_train, X_test = X[train_index], X[test_index]\n",
    "#             y_train, y_test = y[train_index], y[test_index]\n",
    "\n",
    "#         # model\n",
    "#         m = model.fit(x_train, y_train)\n",
    "\n",
    "#         #prediction\n",
    "#         yhat_m = m.predict(x_val)\n",
    "\n",
    "#         # performance\n",
    "#         m_result = ml_error('Linear Regression', np.expm1(y_val), np.expm1(yhat_m))\n",
    "\n",
    "#         # store performance for each kfold itaration\n",
    "#         mae_list.append(m_result['MAE'])\n",
    "#         mape_list.append(m_result['MAPE'])\n",
    "#         rmse_list.append(m_result['RMSE'])\n",
    "\n",
    "#     return pd.DataFrame({'Model name': model_name,\n",
    "#                          'MAE CV': np.round(np.mean(mae_list), 2).astype(str)+' +/- '+np.round(np.std(mae_list), 2).astype(str),\n",
    "#                          'MAPE CV': np.round(np.mean(mape_list), 2).astype(str)+' +/- '+np.round(np.std(mape_list), 2).astype(str),\n",
    "#                          'RMSE CV': np.round(np.mean(rmse_list), 2).astype(str)+' +/- '+np.round(np.std(rmse_list), 2).astype(str)}, index=[0])\n",
    "\n",
    "def cramer_v(x, y):\n",
    "    cm = pd.crosstab(x, y).to_numpy()\n",
    "    n = cm.sum()\n",
    "    r, k = cm.shape\n",
    "    \n",
    "    chi2 = ss.chi2_contingency(cm)[0]\n",
    "    chi2corr = max(0, chi2 - (k-1)*(r-1)/(n-1))\n",
    "    \n",
    "    kcorr = k - (k-1)**2/(n-1)\n",
    "    rcorr = r - (r-1)**2/(n-1)\n",
    "    \n",
    "    return np.sqrt((chi2corr/n) / (min(kcorr-1, rcorr-1)))\n",
    "\n",
    "\n",
    "def cross_validation(x_training, kfold, model_name, model):\n",
    "    # training and validation dataset\n",
    "    # training\n",
    "    X = x_training.drop('preco', axis=1)\n",
    "    y = x_training['preco']\n",
    "\n",
    "    kf = KFold(n_splits=5)\n",
    "    kf.get_n_splits(X)\n",
    "\n",
    "    print(kf)\n",
    "    for train_index, test_index in kf.split(X):\n",
    "        print(\"TRAIN:\", train_index, \"TEST:\", test_index)\n",
    "        X_train, X_test = X[train_index], X[test_index]\n",
    "        y_train, y_test = y[train_index], y[test_index]\n",
    "\n",
    "\n",
    "\n",
    "def mean_absolute_percentage_error(y, yhat):\n",
    "    return np.mean(np.abs((y-yhat)/y))\n",
    "\n",
    "def ml_error(model_name, y, yhat):\n",
    "    mae = mean_absolute_error(y, yhat)\n",
    "    mape = mean_absolute_percentage_error(y, yhat)\n",
    "    rmse = np.sqrt(mean_squared_error(y, yhat))\n",
    "    \n",
    "    return pd.DataFrame({'Model Name': model_name,\n",
    "                         'MAE': mae,\n",
    "                         'MAPE': mape,\n",
    "                         'RMSE': rmse}, index=[0])"
   ]
  },
  {
   "cell_type": "markdown",
   "id": "3079d6ab-f343-4cd1-9459-030c1f18f017",
   "metadata": {},
   "source": [
    "### 0.2 Load Dataset"
   ]
  },
  {
   "cell_type": "code",
   "execution_count": 3,
   "id": "bf28ca48-e104-4cf7-a5b8-8e1eedd5337e",
   "metadata": {},
   "outputs": [],
   "source": [
    "df= pd.read_csv('data/treino.csv')"
   ]
  },
  {
   "cell_type": "markdown",
   "id": "0c67712e-34cf-4468-8587-e5fb4270445b",
   "metadata": {
    "tags": []
   },
   "source": [
    "## **1.0 Descrição dos dados**"
   ]
  },
  {
   "cell_type": "code",
   "execution_count": 4,
   "id": "dc0ca63e-27f4-4f18-8f02-5632d1d8eb55",
   "metadata": {},
   "outputs": [],
   "source": [
    "df1 = df.copy()"
   ]
  },
  {
   "cell_type": "code",
   "execution_count": 5,
   "id": "6e925f8f-89fe-405b-ac34-ce48c67135a4",
   "metadata": {},
   "outputs": [
    {
     "data": {
      "text/html": [
       "<div>\n",
       "<style scoped>\n",
       "    .dataframe tbody tr th:only-of-type {\n",
       "        vertical-align: middle;\n",
       "    }\n",
       "\n",
       "    .dataframe tbody tr th {\n",
       "        vertical-align: top;\n",
       "    }\n",
       "\n",
       "    .dataframe thead th {\n",
       "        text-align: right;\n",
       "    }\n",
       "</style>\n",
       "<table border=\"1\" class=\"dataframe\">\n",
       "  <thead>\n",
       "    <tr style=\"text-align: right;\">\n",
       "      <th></th>\n",
       "      <th>ID</th>\n",
       "      <th>num_fotos</th>\n",
       "      <th>marca</th>\n",
       "      <th>modelo</th>\n",
       "      <th>versao</th>\n",
       "      <th>ano_de_fabricacao</th>\n",
       "      <th>ano_modelo</th>\n",
       "      <th>odometro</th>\n",
       "      <th>cambio</th>\n",
       "      <th>num_portas</th>\n",
       "      <th>...</th>\n",
       "      <th>elegivel_revisao</th>\n",
       "      <th>attr_veiculo_aceita_troca</th>\n",
       "      <th>attr_veiculo_único_dono</th>\n",
       "      <th>attr_veiculo_todas_as_revisões_feitas_pela_concessionária</th>\n",
       "      <th>attr_veiculo_ipva_pago</th>\n",
       "      <th>attr_veiculo_licenciado</th>\n",
       "      <th>attr_veiculo_garantia_de_fábrica</th>\n",
       "      <th>attr_veiculo_todas_as_revisões_feitas_pela_agenda_do_carro</th>\n",
       "      <th>attr_veiculo_alienado</th>\n",
       "      <th>preco</th>\n",
       "    </tr>\n",
       "  </thead>\n",
       "  <tbody>\n",
       "    <tr>\n",
       "      <th>0</th>\n",
       "      <td>105869496634249611881157692933406072990</td>\n",
       "      <td>8.00</td>\n",
       "      <td>VOLKSWAGEN</td>\n",
       "      <td>AMAROK</td>\n",
       "      <td>2.0 TRENDLINE 4X4 CD 16V TURBO INTERCOOLER DIE...</td>\n",
       "      <td>2017</td>\n",
       "      <td>2017.00</td>\n",
       "      <td>55672.00</td>\n",
       "      <td>Automática</td>\n",
       "      <td>4</td>\n",
       "      <td>...</td>\n",
       "      <td>False</td>\n",
       "      <td>Aceita troca</td>\n",
       "      <td>NaN</td>\n",
       "      <td>Todas as revisões feitas pela concessionária</td>\n",
       "      <td>IPVA pago</td>\n",
       "      <td>Licenciado</td>\n",
       "      <td>NaN</td>\n",
       "      <td>Todas as revisões feitas pela agenda do carro</td>\n",
       "      <td>NaN</td>\n",
       "      <td>123231.99</td>\n",
       "    </tr>\n",
       "    <tr>\n",
       "      <th>1</th>\n",
       "      <td>14165644411757892901957277406025007093</td>\n",
       "      <td>8.00</td>\n",
       "      <td>JAGUAR</td>\n",
       "      <td>F-PACE</td>\n",
       "      <td>2.0 16V TURBO DIESEL PRESTIGE AWD 4P AUTOMÁTICO</td>\n",
       "      <td>2017</td>\n",
       "      <td>2017.00</td>\n",
       "      <td>47858.00</td>\n",
       "      <td>Automática</td>\n",
       "      <td>4</td>\n",
       "      <td>...</td>\n",
       "      <td>False</td>\n",
       "      <td>Aceita troca</td>\n",
       "      <td>NaN</td>\n",
       "      <td>Todas as revisões feitas pela concessionária</td>\n",
       "      <td>IPVA pago</td>\n",
       "      <td>NaN</td>\n",
       "      <td>NaN</td>\n",
       "      <td>Todas as revisões feitas pela agenda do carro</td>\n",
       "      <td>NaN</td>\n",
       "      <td>272076.02</td>\n",
       "    </tr>\n",
       "    <tr>\n",
       "      <th>2</th>\n",
       "      <td>78515656948521351316652580664682810356</td>\n",
       "      <td>14.00</td>\n",
       "      <td>CHEVROLET</td>\n",
       "      <td>CRUZE</td>\n",
       "      <td>1.8 LT 16V FLEX 4P AUTOMÁTICO</td>\n",
       "      <td>2012</td>\n",
       "      <td>2013.00</td>\n",
       "      <td>122323.00</td>\n",
       "      <td>Automática</td>\n",
       "      <td>4</td>\n",
       "      <td>...</td>\n",
       "      <td>False</td>\n",
       "      <td>Aceita troca</td>\n",
       "      <td>NaN</td>\n",
       "      <td>NaN</td>\n",
       "      <td>NaN</td>\n",
       "      <td>NaN</td>\n",
       "      <td>NaN</td>\n",
       "      <td>NaN</td>\n",
       "      <td>NaN</td>\n",
       "      <td>53411.54</td>\n",
       "    </tr>\n",
       "    <tr>\n",
       "      <th>3</th>\n",
       "      <td>36797041166808090517929207429817328298</td>\n",
       "      <td>8.00</td>\n",
       "      <td>PORSCHE</td>\n",
       "      <td>718</td>\n",
       "      <td>2.0 16V H4 GASOLINA BOXSTER PDK</td>\n",
       "      <td>2020</td>\n",
       "      <td>2021.00</td>\n",
       "      <td>14207.00</td>\n",
       "      <td>Automática</td>\n",
       "      <td>2</td>\n",
       "      <td>...</td>\n",
       "      <td>False</td>\n",
       "      <td>Aceita troca</td>\n",
       "      <td>NaN</td>\n",
       "      <td>Todas as revisões feitas pela concessionária</td>\n",
       "      <td>NaN</td>\n",
       "      <td>NaN</td>\n",
       "      <td>NaN</td>\n",
       "      <td>NaN</td>\n",
       "      <td>NaN</td>\n",
       "      <td>299697.07</td>\n",
       "    </tr>\n",
       "    <tr>\n",
       "      <th>4</th>\n",
       "      <td>338618517701891995317200439137014723900</td>\n",
       "      <td>8.00</td>\n",
       "      <td>VOLVO</td>\n",
       "      <td>XC90</td>\n",
       "      <td>2.0 INSCRIPTION TURBO GASOLINA 4P 4X4 AUTOMÁTICO</td>\n",
       "      <td>2015</td>\n",
       "      <td>2016.00</td>\n",
       "      <td>43760.00</td>\n",
       "      <td>Automática</td>\n",
       "      <td>4</td>\n",
       "      <td>...</td>\n",
       "      <td>False</td>\n",
       "      <td>Aceita troca</td>\n",
       "      <td>NaN</td>\n",
       "      <td>Todas as revisões feitas pela concessionária</td>\n",
       "      <td>NaN</td>\n",
       "      <td>NaN</td>\n",
       "      <td>NaN</td>\n",
       "      <td>Todas as revisões feitas pela agenda do carro</td>\n",
       "      <td>NaN</td>\n",
       "      <td>255164.34</td>\n",
       "    </tr>\n",
       "  </tbody>\n",
       "</table>\n",
       "<p>5 rows × 29 columns</p>\n",
       "</div>"
      ],
      "text/plain": [
       "                                        ID  num_fotos       marca  modelo  \\\n",
       "0  105869496634249611881157692933406072990       8.00  VOLKSWAGEN  AMAROK   \n",
       "1   14165644411757892901957277406025007093       8.00      JAGUAR  F-PACE   \n",
       "2   78515656948521351316652580664682810356      14.00   CHEVROLET   CRUZE   \n",
       "3   36797041166808090517929207429817328298       8.00     PORSCHE     718   \n",
       "4  338618517701891995317200439137014723900       8.00       VOLVO    XC90   \n",
       "\n",
       "                                              versao  ano_de_fabricacao  \\\n",
       "0  2.0 TRENDLINE 4X4 CD 16V TURBO INTERCOOLER DIE...               2017   \n",
       "1    2.0 16V TURBO DIESEL PRESTIGE AWD 4P AUTOMÁTICO               2017   \n",
       "2                      1.8 LT 16V FLEX 4P AUTOMÁTICO               2012   \n",
       "3                    2.0 16V H4 GASOLINA BOXSTER PDK               2020   \n",
       "4   2.0 INSCRIPTION TURBO GASOLINA 4P 4X4 AUTOMÁTICO               2015   \n",
       "\n",
       "   ano_modelo  odometro      cambio  num_portas  ... elegivel_revisao  \\\n",
       "0     2017.00  55672.00  Automática           4  ...            False   \n",
       "1     2017.00  47858.00  Automática           4  ...            False   \n",
       "2     2013.00 122323.00  Automática           4  ...            False   \n",
       "3     2021.00  14207.00  Automática           2  ...            False   \n",
       "4     2016.00  43760.00  Automática           4  ...            False   \n",
       "\n",
       "  attr_veiculo_aceita_troca attr_veiculo_único_dono  \\\n",
       "0              Aceita troca                     NaN   \n",
       "1              Aceita troca                     NaN   \n",
       "2              Aceita troca                     NaN   \n",
       "3              Aceita troca                     NaN   \n",
       "4              Aceita troca                     NaN   \n",
       "\n",
       "  attr_veiculo_todas_as_revisões_feitas_pela_concessionária  \\\n",
       "0       Todas as revisões feitas pela concessionária          \n",
       "1       Todas as revisões feitas pela concessionária          \n",
       "2                                                NaN          \n",
       "3       Todas as revisões feitas pela concessionária          \n",
       "4       Todas as revisões feitas pela concessionária          \n",
       "\n",
       "  attr_veiculo_ipva_pago attr_veiculo_licenciado  \\\n",
       "0              IPVA pago              Licenciado   \n",
       "1              IPVA pago                     NaN   \n",
       "2                    NaN                     NaN   \n",
       "3                    NaN                     NaN   \n",
       "4                    NaN                     NaN   \n",
       "\n",
       "  attr_veiculo_garantia_de_fábrica  \\\n",
       "0                              NaN   \n",
       "1                              NaN   \n",
       "2                              NaN   \n",
       "3                              NaN   \n",
       "4                              NaN   \n",
       "\n",
       "   attr_veiculo_todas_as_revisões_feitas_pela_agenda_do_carro  \\\n",
       "0      Todas as revisões feitas pela agenda do carro            \n",
       "1      Todas as revisões feitas pela agenda do carro            \n",
       "2                                                NaN            \n",
       "3                                                NaN            \n",
       "4      Todas as revisões feitas pela agenda do carro            \n",
       "\n",
       "   attr_veiculo_alienado     preco  \n",
       "0                    NaN 123231.99  \n",
       "1                    NaN 272076.02  \n",
       "2                    NaN  53411.54  \n",
       "3                    NaN 299697.07  \n",
       "4                    NaN 255164.34  \n",
       "\n",
       "[5 rows x 29 columns]"
      ]
     },
     "execution_count": 5,
     "metadata": {},
     "output_type": "execute_result"
    }
   ],
   "source": [
    "df.head()"
   ]
  },
  {
   "cell_type": "markdown",
   "id": "9972dc89-558b-4ce8-8247-d433eff2a1ee",
   "metadata": {},
   "source": [
    "1. desmembrar versão em varias features\n",
    "2. tipo vendedor e tipo coluna possuim a mesma informação\n",
    "3. ano_modelo para data\n",
    "4. veiculo alienado completamente NA"
   ]
  },
  {
   "cell_type": "markdown",
   "id": "b1d574ee-54d0-47af-98ef-8f94d9ffde13",
   "metadata": {},
   "source": [
    "### **1.1 Rename columns**"
   ]
  },
  {
   "cell_type": "code",
   "execution_count": 6,
   "id": "423962c6-768b-4e05-a897-48dd8e7b9de7",
   "metadata": {},
   "outputs": [
    {
     "data": {
      "text/plain": [
       "Index(['ID', 'num_fotos', 'marca', 'modelo', 'versao', 'ano_de_fabricacao',\n",
       "       'ano_modelo', 'odometro', 'cambio', 'num_portas', 'tipo', 'blindado',\n",
       "       'cor', 'tipo_vendedor', 'cidade_vendedor', 'estado_vendedor',\n",
       "       'tipo_anuncio', 'entrega_delivery', 'troca', 'elegivel_revisao',\n",
       "       'attr_veiculo_aceita_troca', 'attr_veiculo_único_dono',\n",
       "       'attr_veiculo_todas_as_revisões_feitas_pela_concessionária',\n",
       "       'attr_veiculo_ipva_pago', 'attr_veiculo_licenciado',\n",
       "       'attr_veiculo_garantia_de_fábrica',\n",
       "       'attr_veiculo_todas_as_revisões_feitas_pela_agenda_do_carro',\n",
       "       'attr_veiculo_alienado', 'preco'],\n",
       "      dtype='object')"
      ]
     },
     "execution_count": 6,
     "metadata": {},
     "output_type": "execute_result"
    }
   ],
   "source": [
    "df1.columns"
   ]
  },
  {
   "cell_type": "code",
   "execution_count": 7,
   "id": "6eb2ca50-e15e-4149-a41d-66c486539e0b",
   "metadata": {},
   "outputs": [
    {
     "data": {
      "text/plain": [
       "0                  Picape\n",
       "1    Utilitário esportivo\n",
       "2                    Sedã\n",
       "3                  Picape\n",
       "4    Utilitário esportivo\n",
       "Name: tipo, dtype: object"
      ]
     },
     "execution_count": 7,
     "metadata": {},
     "output_type": "execute_result"
    }
   ],
   "source": [
    "df1['tipo'].head()"
   ]
  },
  {
   "cell_type": "markdown",
   "id": "97a607fc-5ed7-4a77-ac35-3f70e0f2a557",
   "metadata": {},
   "source": [
    "### **1.2 Data dimensions**"
   ]
  },
  {
   "cell_type": "code",
   "execution_count": 8,
   "id": "d02b0a40-0358-4182-9432-a5b61bda23f9",
   "metadata": {},
   "outputs": [
    {
     "name": "stdout",
     "output_type": "stream",
     "text": [
      "Number of rows: 39446\n",
      "Number of columns: 29\n"
     ]
    }
   ],
   "source": [
    "print('Number of rows: {}'.format(df1.shape[0]))\n",
    "print('Number of columns: {}'.format(df1.shape[1]))"
   ]
  },
  {
   "cell_type": "markdown",
   "id": "1c3e3d07-844c-4dc1-a182-bd3134ef53d4",
   "metadata": {},
   "source": [
    "### **1.3 Data types**"
   ]
  },
  {
   "cell_type": "code",
   "execution_count": 9,
   "id": "4143f3a5-9b21-4615-bf09-eb330742ca1b",
   "metadata": {},
   "outputs": [
    {
     "data": {
      "text/plain": [
       "ID                                                             object\n",
       "num_fotos                                                     float64\n",
       "marca                                                          object\n",
       "modelo                                                         object\n",
       "versao                                                         object\n",
       "ano_de_fabricacao                                               int64\n",
       "ano_modelo                                                    float64\n",
       "odometro                                                      float64\n",
       "cambio                                                         object\n",
       "num_portas                                                      int64\n",
       "tipo                                                           object\n",
       "blindado                                                       object\n",
       "cor                                                            object\n",
       "tipo_vendedor                                                  object\n",
       "cidade_vendedor                                                object\n",
       "estado_vendedor                                                object\n",
       "tipo_anuncio                                                   object\n",
       "entrega_delivery                                                 bool\n",
       "troca                                                            bool\n",
       "elegivel_revisao                                                 bool\n",
       "attr_veiculo_aceita_troca                                      object\n",
       "attr_veiculo_único_dono                                        object\n",
       "attr_veiculo_todas_as_revisões_feitas_pela_concessionária      object\n",
       "attr_veiculo_ipva_pago                                         object\n",
       "attr_veiculo_licenciado                                        object\n",
       "attr_veiculo_garantia_de_fábrica                               object\n",
       "attr_veiculo_todas_as_revisões_feitas_pela_agenda_do_carro     object\n",
       "attr_veiculo_alienado                                         float64\n",
       "preco                                                         float64\n",
       "dtype: object"
      ]
     },
     "execution_count": 9,
     "metadata": {},
     "output_type": "execute_result"
    }
   ],
   "source": [
    "df1.dtypes"
   ]
  },
  {
   "cell_type": "markdown",
   "id": "81969c4e-a95a-4405-9520-2b7365d8c115",
   "metadata": {},
   "source": [
    "### **1.4 Check NA**"
   ]
  },
  {
   "cell_type": "code",
   "execution_count": 10,
   "id": "b6ab71bc-3991-44ec-9688-ac8ca245dd20",
   "metadata": {},
   "outputs": [
    {
     "data": {
      "text/plain": [
       "ID                                                                0\n",
       "num_fotos                                                       237\n",
       "marca                                                             0\n",
       "modelo                                                            0\n",
       "versao                                                            0\n",
       "ano_de_fabricacao                                                 0\n",
       "ano_modelo                                                        0\n",
       "odometro                                                          0\n",
       "cambio                                                            0\n",
       "num_portas                                                        0\n",
       "tipo                                                              0\n",
       "blindado                                                          0\n",
       "cor                                                               0\n",
       "tipo_vendedor                                                     0\n",
       "cidade_vendedor                                                   0\n",
       "estado_vendedor                                                   0\n",
       "tipo_anuncio                                                      0\n",
       "entrega_delivery                                                  0\n",
       "troca                                                             0\n",
       "elegivel_revisao                                                  0\n",
       "attr_veiculo_aceita_troca                                     10216\n",
       "attr_veiculo_único_dono                                       25548\n",
       "attr_veiculo_todas_as_revisões_feitas_pela_concessionária     27207\n",
       "attr_veiculo_ipva_pago                                        13223\n",
       "attr_veiculo_licenciado                                       18196\n",
       "attr_veiculo_garantia_de_fábrica                              33658\n",
       "attr_veiculo_todas_as_revisões_feitas_pela_agenda_do_carro    31543\n",
       "attr_veiculo_alienado                                         39446\n",
       "preco                                                             0\n",
       "dtype: int64"
      ]
     },
     "execution_count": 10,
     "metadata": {},
     "output_type": "execute_result"
    }
   ],
   "source": [
    "df1.isna().sum()"
   ]
  },
  {
   "cell_type": "markdown",
   "id": "cdd58d2d-4453-4e98-a22d-dd7739d35a2f",
   "metadata": {},
   "source": [
    "### **1.5 Replace NA**"
   ]
  },
  {
   "cell_type": "code",
   "execution_count": 11,
   "id": "6c3328f7-bde7-43cf-bb80-f2066e84f379",
   "metadata": {},
   "outputs": [],
   "source": [
    "df1['num_fotos'].fillna(0, inplace=True)\n",
    "df1['attr_veiculo_aceita_troca'].fillna('0', inplace=True)\n",
    "df1['attr_veiculo_único_dono'].fillna('0', inplace=True)\n",
    "df1['attr_veiculo_todas_as_revisões_feitas_pela_concessionária'].fillna('0', inplace=True)\n",
    "df1['attr_veiculo_ipva_pago'].fillna('0', inplace=True)\n",
    "df1['attr_veiculo_licenciado'].fillna('0', inplace=True)\n",
    "df1['attr_veiculo_garantia_de_fábrica'].fillna('0', inplace=True)\n",
    "df1['attr_veiculo_todas_as_revisões_feitas_pela_agenda_do_carro'].fillna('0', inplace=True)"
   ]
  },
  {
   "cell_type": "code",
   "execution_count": 12,
   "id": "71e9d198-25be-4b31-8d4e-e83b52e08d9b",
   "metadata": {},
   "outputs": [
    {
     "data": {
      "text/plain": [
       "ID                                                                0\n",
       "num_fotos                                                         0\n",
       "marca                                                             0\n",
       "modelo                                                            0\n",
       "versao                                                            0\n",
       "ano_de_fabricacao                                                 0\n",
       "ano_modelo                                                        0\n",
       "odometro                                                          0\n",
       "cambio                                                            0\n",
       "num_portas                                                        0\n",
       "tipo                                                              0\n",
       "blindado                                                          0\n",
       "cor                                                               0\n",
       "tipo_vendedor                                                     0\n",
       "cidade_vendedor                                                   0\n",
       "estado_vendedor                                                   0\n",
       "tipo_anuncio                                                      0\n",
       "entrega_delivery                                                  0\n",
       "troca                                                             0\n",
       "elegivel_revisao                                                  0\n",
       "attr_veiculo_aceita_troca                                         0\n",
       "attr_veiculo_único_dono                                           0\n",
       "attr_veiculo_todas_as_revisões_feitas_pela_concessionária         0\n",
       "attr_veiculo_ipva_pago                                            0\n",
       "attr_veiculo_licenciado                                           0\n",
       "attr_veiculo_garantia_de_fábrica                                  0\n",
       "attr_veiculo_todas_as_revisões_feitas_pela_agenda_do_carro        0\n",
       "attr_veiculo_alienado                                         39446\n",
       "preco                                                             0\n",
       "dtype: int64"
      ]
     },
     "execution_count": 12,
     "metadata": {},
     "output_type": "execute_result"
    }
   ],
   "source": [
    "df1.isna().sum()"
   ]
  },
  {
   "cell_type": "code",
   "execution_count": 13,
   "id": "2f0f1d63-a975-4f2e-b4b1-af38d12f0f6a",
   "metadata": {},
   "outputs": [],
   "source": [
    "df1 = df1.drop(columns=['attr_veiculo_alienado'])"
   ]
  },
  {
   "cell_type": "code",
   "execution_count": 14,
   "id": "05c03507-9874-4a69-9af6-49ba17e8264d",
   "metadata": {},
   "outputs": [
    {
     "data": {
      "text/plain": [
       "Index(['ID', 'num_fotos', 'marca', 'modelo', 'versao', 'ano_de_fabricacao',\n",
       "       'ano_modelo', 'odometro', 'cambio', 'num_portas', 'tipo', 'blindado',\n",
       "       'cor', 'tipo_vendedor', 'cidade_vendedor', 'estado_vendedor',\n",
       "       'tipo_anuncio', 'entrega_delivery', 'troca', 'elegivel_revisao',\n",
       "       'attr_veiculo_aceita_troca', 'attr_veiculo_único_dono',\n",
       "       'attr_veiculo_todas_as_revisões_feitas_pela_concessionária',\n",
       "       'attr_veiculo_ipva_pago', 'attr_veiculo_licenciado',\n",
       "       'attr_veiculo_garantia_de_fábrica',\n",
       "       'attr_veiculo_todas_as_revisões_feitas_pela_agenda_do_carro', 'preco'],\n",
       "      dtype='object')"
      ]
     },
     "execution_count": 14,
     "metadata": {},
     "output_type": "execute_result"
    }
   ],
   "source": [
    "df1.columns"
   ]
  },
  {
   "cell_type": "markdown",
   "id": "e04dc6bd-362c-4043-a426-0aed446b40da",
   "metadata": {},
   "source": [
    "### **1.6 Changes dTypes**"
   ]
  },
  {
   "cell_type": "code",
   "execution_count": 15,
   "id": "e3c6756f-7ca1-4b70-8ce1-d7f1f15cadd4",
   "metadata": {},
   "outputs": [],
   "source": [
    "df1['ano_modelo'] = df1['ano_modelo'].astype(int)\n",
    "df1['entrega_delivery'] = df1['entrega_delivery'].astype(str)\n",
    "df1['troca'] = df1['troca'].astype(str)\n",
    "df1['elegivel_revisao'] = df1['elegivel_revisao'].astype(str)"
   ]
  },
  {
   "cell_type": "markdown",
   "id": "2c09d027-f314-499c-8be0-24b7a67884ae",
   "metadata": {},
   "source": [
    "### **1.7 Descriptive Statistics**"
   ]
  },
  {
   "cell_type": "code",
   "execution_count": 16,
   "id": "edbf8fcb-7a15-4db8-b83c-4e4663dbce5b",
   "metadata": {},
   "outputs": [],
   "source": [
    "#separando as colunas numericas e categoricas em dataframes diferentes\n",
    "num_attributes = df1.select_dtypes(include = ['float64', 'int64'])\n",
    "cat_attributes = df1.select_dtypes(exclude = ['float64', 'int64'])"
   ]
  },
  {
   "cell_type": "markdown",
   "id": "7a500ecf-f1d4-492a-99da-0e90d1ec0a56",
   "metadata": {},
   "source": [
    "#### **1.7.1 Numerical Attributes**\n"
   ]
  },
  {
   "cell_type": "code",
   "execution_count": 17,
   "id": "bffb03b0-8622-4cd0-9902-65772c83a794",
   "metadata": {},
   "outputs": [
    {
     "data": {
      "text/html": [
       "<div>\n",
       "<style scoped>\n",
       "    .dataframe tbody tr th:only-of-type {\n",
       "        vertical-align: middle;\n",
       "    }\n",
       "\n",
       "    .dataframe tbody tr th {\n",
       "        vertical-align: top;\n",
       "    }\n",
       "\n",
       "    .dataframe thead th {\n",
       "        text-align: right;\n",
       "    }\n",
       "</style>\n",
       "<table border=\"1\" class=\"dataframe\">\n",
       "  <thead>\n",
       "    <tr style=\"text-align: right;\">\n",
       "      <th></th>\n",
       "      <th>attributes</th>\n",
       "      <th>min</th>\n",
       "      <th>max</th>\n",
       "      <th>range</th>\n",
       "      <th>mean</th>\n",
       "      <th>median</th>\n",
       "      <th>std</th>\n",
       "      <th>skew</th>\n",
       "      <th>kurtosis</th>\n",
       "    </tr>\n",
       "  </thead>\n",
       "  <tbody>\n",
       "    <tr>\n",
       "      <th>0</th>\n",
       "      <td>num_fotos</td>\n",
       "      <td>0.00</td>\n",
       "      <td>21.00</td>\n",
       "      <td>21.00</td>\n",
       "      <td>10.26</td>\n",
       "      <td>8.00</td>\n",
       "      <td>3.56</td>\n",
       "      <td>0.83</td>\n",
       "      <td>-0.40</td>\n",
       "    </tr>\n",
       "    <tr>\n",
       "      <th>1</th>\n",
       "      <td>ano_de_fabricacao</td>\n",
       "      <td>1985.00</td>\n",
       "      <td>2022.00</td>\n",
       "      <td>37.00</td>\n",
       "      <td>2016.75</td>\n",
       "      <td>2018.00</td>\n",
       "      <td>4.08</td>\n",
       "      <td>-2.51</td>\n",
       "      <td>9.28</td>\n",
       "    </tr>\n",
       "    <tr>\n",
       "      <th>2</th>\n",
       "      <td>odometro</td>\n",
       "      <td>100.00</td>\n",
       "      <td>390065.00</td>\n",
       "      <td>389965.00</td>\n",
       "      <td>58382.24</td>\n",
       "      <td>57244.50</td>\n",
       "      <td>32542.38</td>\n",
       "      <td>0.61</td>\n",
       "      <td>1.25</td>\n",
       "    </tr>\n",
       "    <tr>\n",
       "      <th>3</th>\n",
       "      <td>num_portas</td>\n",
       "      <td>2.00</td>\n",
       "      <td>4.00</td>\n",
       "      <td>2.00</td>\n",
       "      <td>3.94</td>\n",
       "      <td>4.00</td>\n",
       "      <td>0.34</td>\n",
       "      <td>-5.57</td>\n",
       "      <td>29.05</td>\n",
       "    </tr>\n",
       "    <tr>\n",
       "      <th>4</th>\n",
       "      <td>preco</td>\n",
       "      <td>7258.16</td>\n",
       "      <td>1359812.89</td>\n",
       "      <td>1352554.73</td>\n",
       "      <td>133385.87</td>\n",
       "      <td>114307.97</td>\n",
       "      <td>82383.93</td>\n",
       "      <td>2.23</td>\n",
       "      <td>12.36</td>\n",
       "    </tr>\n",
       "  </tbody>\n",
       "</table>\n",
       "</div>"
      ],
      "text/plain": [
       "          attributes     min        max      range      mean    median  \\\n",
       "0          num_fotos    0.00      21.00      21.00     10.26      8.00   \n",
       "1  ano_de_fabricacao 1985.00    2022.00      37.00   2016.75   2018.00   \n",
       "2           odometro  100.00  390065.00  389965.00  58382.24  57244.50   \n",
       "3         num_portas    2.00       4.00       2.00      3.94      4.00   \n",
       "4              preco 7258.16 1359812.89 1352554.73 133385.87 114307.97   \n",
       "\n",
       "       std  skew  kurtosis  \n",
       "0     3.56  0.83     -0.40  \n",
       "1     4.08 -2.51      9.28  \n",
       "2 32542.38  0.61      1.25  \n",
       "3     0.34 -5.57     29.05  \n",
       "4 82383.93  2.23     12.36  "
      ]
     },
     "execution_count": 17,
     "metadata": {},
     "output_type": "execute_result"
    }
   ],
   "source": [
    "# Central tendency - mean, median\n",
    "ct1 = pd.DataFrame(num_attributes.apply(np.mean)).T\n",
    "ct2 = pd.DataFrame(num_attributes.apply(np.median)).T\n",
    "\n",
    "# Dispersion - std, min, max, range, skew e kurtosis\n",
    "d1 = pd.DataFrame(num_attributes.apply(np.std)).T\n",
    "d2 = pd.DataFrame(num_attributes.apply(min)).T\n",
    "d3 = pd.DataFrame(num_attributes.apply(max)).T\n",
    "d4 = pd.DataFrame(num_attributes.apply(lambda x: x.max() - x.min())).T\n",
    "d5 = pd.DataFrame(num_attributes.apply(lambda x: x.skew())).T\n",
    "d6 = pd.DataFrame(num_attributes.apply(lambda x: x.kurtosis())).T\n",
    "                  \n",
    "# concatenate\n",
    "m = pd.concat([d2, d3, d4, ct1, ct2, d1, d5, d6]).T.reset_index()\n",
    "m.columns = ['attributes','min', 'max', 'range', 'mean', 'median', 'std', 'skew', 'kurtosis']\n",
    "m"
   ]
  },
  {
   "cell_type": "code",
   "execution_count": 18,
   "id": "89a0e31f-2d77-4dbe-8763-076e502097b0",
   "metadata": {},
   "outputs": [
    {
     "data": {
      "text/html": [
       "<div>\n",
       "<style scoped>\n",
       "    .dataframe tbody tr th:only-of-type {\n",
       "        vertical-align: middle;\n",
       "    }\n",
       "\n",
       "    .dataframe tbody tr th {\n",
       "        vertical-align: top;\n",
       "    }\n",
       "\n",
       "    .dataframe thead th {\n",
       "        text-align: right;\n",
       "    }\n",
       "</style>\n",
       "<table border=\"1\" class=\"dataframe\">\n",
       "  <thead>\n",
       "    <tr style=\"text-align: right;\">\n",
       "      <th></th>\n",
       "      <th>num_fotos</th>\n",
       "      <th>ano_de_fabricacao</th>\n",
       "      <th>odometro</th>\n",
       "      <th>num_portas</th>\n",
       "      <th>preco</th>\n",
       "    </tr>\n",
       "  </thead>\n",
       "  <tbody>\n",
       "    <tr>\n",
       "      <th>count</th>\n",
       "      <td>39446.00</td>\n",
       "      <td>39446.00</td>\n",
       "      <td>39446.00</td>\n",
       "      <td>39446.00</td>\n",
       "      <td>39446.00</td>\n",
       "    </tr>\n",
       "    <tr>\n",
       "      <th>mean</th>\n",
       "      <td>10.26</td>\n",
       "      <td>2016.75</td>\n",
       "      <td>58382.24</td>\n",
       "      <td>3.94</td>\n",
       "      <td>133385.87</td>\n",
       "    </tr>\n",
       "    <tr>\n",
       "      <th>std</th>\n",
       "      <td>3.56</td>\n",
       "      <td>4.08</td>\n",
       "      <td>32542.79</td>\n",
       "      <td>0.34</td>\n",
       "      <td>82384.97</td>\n",
       "    </tr>\n",
       "    <tr>\n",
       "      <th>min</th>\n",
       "      <td>0.00</td>\n",
       "      <td>1985.00</td>\n",
       "      <td>100.00</td>\n",
       "      <td>2.00</td>\n",
       "      <td>7258.16</td>\n",
       "    </tr>\n",
       "    <tr>\n",
       "      <th>25%</th>\n",
       "      <td>8.00</td>\n",
       "      <td>2015.00</td>\n",
       "      <td>31235.25</td>\n",
       "      <td>4.00</td>\n",
       "      <td>76774.32</td>\n",
       "    </tr>\n",
       "    <tr>\n",
       "      <th>50%</th>\n",
       "      <td>8.00</td>\n",
       "      <td>2018.00</td>\n",
       "      <td>57244.50</td>\n",
       "      <td>4.00</td>\n",
       "      <td>114307.97</td>\n",
       "    </tr>\n",
       "    <tr>\n",
       "      <th>75%</th>\n",
       "      <td>14.00</td>\n",
       "      <td>2019.00</td>\n",
       "      <td>81925.75</td>\n",
       "      <td>4.00</td>\n",
       "      <td>163987.00</td>\n",
       "    </tr>\n",
       "    <tr>\n",
       "      <th>max</th>\n",
       "      <td>21.00</td>\n",
       "      <td>2022.00</td>\n",
       "      <td>390065.00</td>\n",
       "      <td>4.00</td>\n",
       "      <td>1359812.89</td>\n",
       "    </tr>\n",
       "  </tbody>\n",
       "</table>\n",
       "</div>"
      ],
      "text/plain": [
       "       num_fotos  ano_de_fabricacao  odometro  num_portas      preco\n",
       "count   39446.00           39446.00  39446.00    39446.00   39446.00\n",
       "mean       10.26            2016.75  58382.24        3.94  133385.87\n",
       "std         3.56               4.08  32542.79        0.34   82384.97\n",
       "min         0.00            1985.00    100.00        2.00    7258.16\n",
       "25%         8.00            2015.00  31235.25        4.00   76774.32\n",
       "50%         8.00            2018.00  57244.50        4.00  114307.97\n",
       "75%        14.00            2019.00  81925.75        4.00  163987.00\n",
       "max        21.00            2022.00 390065.00        4.00 1359812.89"
      ]
     },
     "execution_count": 18,
     "metadata": {},
     "output_type": "execute_result"
    }
   ],
   "source": [
    "num_attributes.describe()"
   ]
  },
  {
   "cell_type": "code",
   "execution_count": 19,
   "id": "10db1d30-554f-4f9a-8015-e6118913e2af",
   "metadata": {},
   "outputs": [
    {
     "name": "stderr",
     "output_type": "stream",
     "text": [
      "c:\\users\\romul\\documents\\ds\\mobilitycars\\mc-env\\lib\\site-packages\\seaborn\\distributions.py:2619: FutureWarning: `distplot` is a deprecated function and will be removed in a future version. Please adapt your code to use either `displot` (a figure-level function with similar flexibility) or `histplot` (an axes-level function for histograms).\n",
      "  warnings.warn(msg, FutureWarning)\n"
     ]
    },
    {
     "data": {
      "text/plain": [
       "<AxesSubplot:xlabel='preco', ylabel='Density'>"
      ]
     },
     "execution_count": 19,
     "metadata": {},
     "output_type": "execute_result"
    },
    {
     "data": {
      "image/png": "[encoded data removed]",
      "text/plain": [
       "<Figure size 1500x1000 with 1 Axes>"
      ]
     },
     "metadata": {},
     "output_type": "display_data"
    }
   ],
   "source": [
    "plt.rcParams['figure.figsize'] = (15, 10)\n",
    "sns.distplot(df1['preco'])"
   ]
  },
  {
   "cell_type": "markdown",
   "id": "cb2bbe63-48d8-459b-8456-0e7ad2327262",
   "metadata": {},
   "source": [
    "#### **1.7.2 Categorical Attributes**"
   ]
  },
  {
   "cell_type": "code",
   "execution_count": 20,
   "id": "7668a34b-ad45-402c-8835-e6f0907320d6",
   "metadata": {},
   "outputs": [
    {
     "data": {
      "text/html": [
       "<div>\n",
       "<style scoped>\n",
       "    .dataframe tbody tr th:only-of-type {\n",
       "        vertical-align: middle;\n",
       "    }\n",
       "\n",
       "    .dataframe tbody tr th {\n",
       "        vertical-align: top;\n",
       "    }\n",
       "\n",
       "    .dataframe thead th {\n",
       "        text-align: right;\n",
       "    }\n",
       "</style>\n",
       "<table border=\"1\" class=\"dataframe\">\n",
       "  <thead>\n",
       "    <tr style=\"text-align: right;\">\n",
       "      <th></th>\n",
       "      <th>ano_modelo</th>\n",
       "    </tr>\n",
       "  </thead>\n",
       "  <tbody>\n",
       "    <tr>\n",
       "      <th>count</th>\n",
       "      <td>39446.00</td>\n",
       "    </tr>\n",
       "    <tr>\n",
       "      <th>mean</th>\n",
       "      <td>2017.81</td>\n",
       "    </tr>\n",
       "    <tr>\n",
       "      <th>std</th>\n",
       "      <td>2.68</td>\n",
       "    </tr>\n",
       "    <tr>\n",
       "      <th>min</th>\n",
       "      <td>1997.00</td>\n",
       "    </tr>\n",
       "    <tr>\n",
       "      <th>25%</th>\n",
       "      <td>2016.00</td>\n",
       "    </tr>\n",
       "    <tr>\n",
       "      <th>50%</th>\n",
       "      <td>2018.00</td>\n",
       "    </tr>\n",
       "    <tr>\n",
       "      <th>75%</th>\n",
       "      <td>2020.00</td>\n",
       "    </tr>\n",
       "    <tr>\n",
       "      <th>max</th>\n",
       "      <td>2023.00</td>\n",
       "    </tr>\n",
       "  </tbody>\n",
       "</table>\n",
       "</div>"
      ],
      "text/plain": [
       "       ano_modelo\n",
       "count    39446.00\n",
       "mean      2017.81\n",
       "std          2.68\n",
       "min       1997.00\n",
       "25%       2016.00\n",
       "50%       2018.00\n",
       "75%       2020.00\n",
       "max       2023.00"
      ]
     },
     "execution_count": 20,
     "metadata": {},
     "output_type": "execute_result"
    }
   ],
   "source": [
    "cat_attributes.describe()"
   ]
  },
  {
   "cell_type": "code",
   "execution_count": 21,
   "id": "af902a82-6eda-4761-bd1e-f99c5ac9387c",
   "metadata": {},
   "outputs": [
    {
     "data": {
      "text/plain": [
       "array(['Automática', 'Manual', 'CVT', 'Automatizada', 'Semi-automática',\n",
       "       'Automatizada DCT', 'Automática Sequencial'], dtype=object)"
      ]
     },
     "execution_count": 21,
     "metadata": {},
     "output_type": "execute_result"
    }
   ],
   "source": [
    "df1['cambio'].unique()"
   ]
  },
  {
   "cell_type": "code",
   "execution_count": 22,
   "id": "e25857df-b8e4-44f5-b9d2-35a4254bb84a",
   "metadata": {},
   "outputs": [
    {
     "data": {
      "text/plain": [
       "ID                                                            39446\n",
       "marca                                                            41\n",
       "modelo                                                          473\n",
       "versao                                                         2058\n",
       "ano_modelo                                                       19\n",
       "cambio                                                            7\n",
       "tipo                                                              8\n",
       "blindado                                                          2\n",
       "cor                                                               8\n",
       "tipo_vendedor                                                     2\n",
       "cidade_vendedor                                                 648\n",
       "estado_vendedor                                                  25\n",
       "tipo_anuncio                                                      4\n",
       "entrega_delivery                                                  2\n",
       "troca                                                             2\n",
       "elegivel_revisao                                                  1\n",
       "attr_veiculo_aceita_troca                                         2\n",
       "attr_veiculo_único_dono                                           2\n",
       "attr_veiculo_todas_as_revisões_feitas_pela_concessionária         2\n",
       "attr_veiculo_ipva_pago                                            2\n",
       "attr_veiculo_licenciado                                           2\n",
       "attr_veiculo_garantia_de_fábrica                                  2\n",
       "attr_veiculo_todas_as_revisões_feitas_pela_agenda_do_carro        2\n",
       "dtype: int64"
      ]
     },
     "execution_count": 22,
     "metadata": {},
     "output_type": "execute_result"
    }
   ],
   "source": [
    "cat_attributes.apply(lambda x: x.unique().shape[0])"
   ]
  },
  {
   "cell_type": "markdown",
   "id": "02033fc1-770f-404b-acde-6ffb3af7a050",
   "metadata": {
    "jp-MarkdownHeadingCollapsed": true,
    "tags": []
   },
   "source": [
    "## **2.0 Feature Engineering**"
   ]
  },
  {
   "cell_type": "code",
   "execution_count": 23,
   "id": "ced55437-9212-4484-8f72-3863e979c1be",
   "metadata": {},
   "outputs": [],
   "source": [
    "df2 = df1.copy()"
   ]
  },
  {
   "cell_type": "code",
   "execution_count": 24,
   "id": "5004da30-c2ef-411f-bcfd-4c850c613475",
   "metadata": {},
   "outputs": [
    {
     "data": {
      "text/plain": [
       "Index(['ID', 'num_fotos', 'marca', 'modelo', 'versao', 'ano_de_fabricacao',\n",
       "       'ano_modelo', 'odometro', 'cambio', 'num_portas', 'tipo', 'blindado',\n",
       "       'cor', 'tipo_vendedor', 'cidade_vendedor', 'estado_vendedor',\n",
       "       'tipo_anuncio', 'entrega_delivery', 'troca', 'elegivel_revisao',\n",
       "       'attr_veiculo_aceita_troca', 'attr_veiculo_único_dono',\n",
       "       'attr_veiculo_todas_as_revisões_feitas_pela_concessionária',\n",
       "       'attr_veiculo_ipva_pago', 'attr_veiculo_licenciado',\n",
       "       'attr_veiculo_garantia_de_fábrica',\n",
       "       'attr_veiculo_todas_as_revisões_feitas_pela_agenda_do_carro', 'preco'],\n",
       "      dtype='object')"
      ]
     },
     "execution_count": 24,
     "metadata": {},
     "output_type": "execute_result"
    }
   ],
   "source": [
    "df2.columns"
   ]
  },
  {
   "cell_type": "code",
   "execution_count": 25,
   "id": "90b31e48-d336-4b5d-bee2-7ed190f3f6cf",
   "metadata": {},
   "outputs": [],
   "source": [
    "# idade do veiculo- (ano_modelo - ano_atual)\n",
    "date = datetime.date.today()\n",
    "year = date.strftime(\"%Y\")\n",
    "df2['idade'] = df2['ano_de_fabricacao'].apply(lambda x: int(year) -int(x))\n",
    "\n",
    "# km/ano\n",
    "df2['km_ano'] = df2['odometro'] / df2['idade']\n",
    "df2['km_ano'] = df2['km_ano'].apply(lambda x: 0 if x == np.inf else x)\n",
    "\n",
    "# potencia\n",
    "df2['potencia'] = df2['versao'].apply( lambda x: x[:3] if ('.' in x[:3] and x[:3] != 'Z.E') else np.nan)\n",
    "\n",
    "# tipo combustivel (assumimos que NA seria Gasolina)\n",
    "df2['combustivel'] = df2['versao'].apply( lambda x: \"gasolina\"  if 'GASOLINA' in str(x) \n",
    "                           else \"disel\"     if 'DISEL'    in str(x)\n",
    "                           else \"eletrico\"  if 'HYBRID'   in str(x)\n",
    "                           else \"flex\"      if 'FLEX'     in str(x)\n",
    "                           else \"gasolina\")\n",
    "\n",
    "# tracao (assumimos que NA seria 4x2)\n",
    "df2['tracao'] = df2['versao'].apply(lambda x: \"4x4\" if '4X4' in str(x)\n",
    "                                    else \"awd\"      if 'AWD' in str(x)\n",
    "                                    else '4x2')"
   ]
  },
  {
   "cell_type": "markdown",
   "id": "90ad00a3-9fee-44a9-a651-eb595836505d",
   "metadata": {
    "tags": []
   },
   "source": [
    "## **3.0 Filtragem de Variáveis**"
   ]
  },
  {
   "cell_type": "code",
   "execution_count": 26,
   "id": "8d92a1fb-eec6-4177-b9b8-2c98ce7eac4e",
   "metadata": {},
   "outputs": [],
   "source": [
    "df3 = df2.copy()"
   ]
  },
  {
   "cell_type": "code",
   "execution_count": 27,
   "id": "012fb67a-38a9-413e-b7ff-b981c895117c",
   "metadata": {},
   "outputs": [],
   "source": [
    "df3.drop(columns=['ID'], inplace=True)"
   ]
  },
  {
   "cell_type": "code",
   "execution_count": 124,
   "id": "825d4092-8f8e-4926-8900-7d4423b5148a",
   "metadata": {},
   "outputs": [
    {
     "data": {
      "text/plain": [
       "num_fotos                                                     float64\n",
       "marca                                                          object\n",
       "modelo                                                         object\n",
       "versao                                                         object\n",
       "ano_de_fabricacao                                               int64\n",
       "ano_modelo                                                      int32\n",
       "odometro                                                      float64\n",
       "cambio                                                         object\n",
       "num_portas                                                      int64\n",
       "tipo                                                           object\n",
       "blindado                                                       object\n",
       "cor                                                            object\n",
       "tipo_vendedor                                                  object\n",
       "cidade_vendedor                                                object\n",
       "estado_vendedor                                                object\n",
       "tipo_anuncio                                                   object\n",
       "entrega_delivery                                               object\n",
       "troca                                                          object\n",
       "elegivel_revisao                                               object\n",
       "attr_veiculo_aceita_troca                                      object\n",
       "attr_veiculo_único_dono                                        object\n",
       "attr_veiculo_todas_as_revisões_feitas_pela_concessionária      object\n",
       "attr_veiculo_ipva_pago                                         object\n",
       "attr_veiculo_licenciado                                        object\n",
       "attr_veiculo_garantia_de_fábrica                               object\n",
       "attr_veiculo_todas_as_revisões_feitas_pela_agenda_do_carro     object\n",
       "preco                                                         float64\n",
       "idade                                                           int64\n",
       "km_ano                                                        float64\n",
       "potencia                                                       object\n",
       "combustivel                                                    object\n",
       "tracao                                                         object\n",
       "dtype: object"
      ]
     },
     "execution_count": 124,
     "metadata": {},
     "output_type": "execute_result"
    }
   ],
   "source": [
    "df3.dtypes"
   ]
  },
  {
   "cell_type": "code",
   "execution_count": 28,
   "id": "e02a99df-9d2d-4ce6-8594-f9789296f3da",
   "metadata": {},
   "outputs": [
    {
     "data": {
      "text/plain": [
       "Index(['num_fotos', 'marca', 'modelo', 'versao', 'ano_de_fabricacao',\n",
       "       'ano_modelo', 'odometro', 'cambio', 'num_portas', 'tipo', 'blindado',\n",
       "       'cor', 'tipo_vendedor', 'cidade_vendedor', 'estado_vendedor',\n",
       "       'tipo_anuncio', 'entrega_delivery', 'troca', 'elegivel_revisao',\n",
       "       'attr_veiculo_aceita_troca', 'attr_veiculo_único_dono',\n",
       "       'attr_veiculo_todas_as_revisões_feitas_pela_concessionária',\n",
       "       'attr_veiculo_ipva_pago', 'attr_veiculo_licenciado',\n",
       "       'attr_veiculo_garantia_de_fábrica',\n",
       "       'attr_veiculo_todas_as_revisões_feitas_pela_agenda_do_carro', 'preco',\n",
       "       'idade', 'km_ano', 'potencia', 'combustivel', 'tracao'],\n",
       "      dtype='object')"
      ]
     },
     "execution_count": 28,
     "metadata": {},
     "output_type": "execute_result"
    }
   ],
   "source": [
    "df3.columns"
   ]
  },
  {
   "cell_type": "markdown",
   "id": "54436764-30d5-4a6c-92b7-7d37f911b53b",
   "metadata": {
    "tags": []
   },
   "source": [
    "## **4.0 EDA (Exploratory Data Analysis)**"
   ]
  },
  {
   "cell_type": "code",
   "execution_count": null,
   "id": "59d6a54c-9d19-4df9-a18a-bb9fca45bccd",
   "metadata": {},
   "outputs": [],
   "source": []
  },
  {
   "cell_type": "code",
   "execution_count": 125,
   "id": "f2476b6c-b100-4e00-882a-a6a5df0dea69",
   "metadata": {},
   "outputs": [],
   "source": [
    "df4 = df3.copy()"
   ]
  },
  {
   "cell_type": "code",
   "execution_count": 126,
   "id": "2192edae-a5fe-4159-9323-2b98cc09b446",
   "metadata": {},
   "outputs": [
    {
     "data": {
      "text/plain": [
       "array([[<AxesSubplot:title={'center':'num_fotos'}>,\n",
       "        <AxesSubplot:title={'center':'ano_de_fabricacao'}>],\n",
       "       [<AxesSubplot:title={'center':'odometro'}>,\n",
       "        <AxesSubplot:title={'center':'num_portas'}>],\n",
       "       [<AxesSubplot:title={'center':'preco'}>, <AxesSubplot:>]],\n",
       "      dtype=object)"
      ]
     },
     "execution_count": 126,
     "metadata": {},
     "output_type": "execute_result"
    },
    {
     "data": {
      "image/png": "[encoded data removed]",
      "text/plain": [
       "<Figure size 1500x1000 with 6 Axes>"
      ]
     },
     "metadata": {},
     "output_type": "display_data"
    }
   ],
   "source": [
    "num_attributes.hist(bins=25)"
   ]
  },
  {
   "cell_type": "code",
   "execution_count": 163,
   "id": "93dbe10e-b53b-4402-9140-0b5d719836ad",
   "metadata": {},
   "outputs": [],
   "source": [
    "num_attributes = df3.select_dtypes(include = ['float64', 'int64','int32'])\n",
    "cat_attributes = df3.select_dtypes(exclude = ['float64', 'int64','int32'])"
   ]
  },
  {
   "cell_type": "code",
   "execution_count": 164,
   "id": "c8ecf081-d343-44b5-8315-58aea2484da7",
   "metadata": {},
   "outputs": [
    {
     "data": {
      "text/plain": [
       "Index(['num_fotos', 'ano_de_fabricacao', 'ano_modelo', 'odometro',\n",
       "       'num_portas', 'preco', 'idade', 'km_ano'],\n",
       "      dtype='object')"
      ]
     },
     "execution_count": 164,
     "metadata": {},
     "output_type": "execute_result"
    }
   ],
   "source": [
    "num_attributes.columns"
   ]
  },
  {
   "cell_type": "code",
   "execution_count": 165,
   "id": "9098225c-4294-424e-a747-25c8ff4669b3",
   "metadata": {},
   "outputs": [
    {
     "data": {
      "text/plain": [
       "<AxesSubplot:>"
      ]
     },
     "execution_count": 165,
     "metadata": {},
     "output_type": "execute_result"
    },
    {
     "data": {
      "image/png": "[encoded data removed]",
      "text/plain": [
       "<Figure size 1500x1000 with 2 Axes>"
      ]
     },
     "metadata": {},
     "output_type": "display_data"
    }
   ],
   "source": [
    "correlation = num_attributes.corr(method='pearson')\n",
    "sns.heatmap(correlation, annot=True)"
   ]
  },
  {
   "cell_type": "code",
   "execution_count": 166,
   "id": "f6860252-1a06-4ea8-87aa-5e1f9c1e2e9e",
   "metadata": {},
   "outputs": [
    {
     "data": {
      "text/plain": [
       "Index(['marca', 'modelo', 'versao', 'cambio', 'tipo', 'blindado', 'cor',\n",
       "       'tipo_vendedor', 'cidade_vendedor', 'estado_vendedor', 'tipo_anuncio',\n",
       "       'entrega_delivery', 'troca', 'elegivel_revisao',\n",
       "       'attr_veiculo_aceita_troca', 'attr_veiculo_único_dono',\n",
       "       'attr_veiculo_todas_as_revisões_feitas_pela_concessionária',\n",
       "       'attr_veiculo_ipva_pago', 'attr_veiculo_licenciado',\n",
       "       'attr_veiculo_garantia_de_fábrica',\n",
       "       'attr_veiculo_todas_as_revisões_feitas_pela_agenda_do_carro',\n",
       "       'potencia', 'combustivel', 'tracao'],\n",
       "      dtype='object')"
      ]
     },
     "execution_count": 166,
     "metadata": {},
     "output_type": "execute_result"
    }
   ],
   "source": [
    "cat_attributes.columns"
   ]
  },
  {
   "cell_type": "code",
   "execution_count": null,
   "id": "9279fa7d-02ab-4d61-999b-bed74b1d2a72",
   "metadata": {},
   "outputs": [],
   "source": [
    "cols_select_boruta = ['marca',\n",
    " 'modelo',\n",
    " 'ano_de_fabricacao',\n",
    " 'ano_modelo',\n",
    " 'odometro',\n",
    " 'idade',\n",
    " 'km_ano',\n",
    " 'potencia',\n",
    " 'cambio_Manual',\n",
    " 'combustivel_flex',\n",
    " 'tipo_Sedã',\n",
    " 'tipo_Utilitário esportivo', 'cor_Branco', 'cidade_vendedor', 'estado_vendedor']"
   ]
  },
  {
   "cell_type": "code",
   "execution_count": null,
   "id": "fb4de1a1-6c8c-4466-a1e4-30c075dd5d52",
   "metadata": {},
   "outputs": [],
   "source": []
  },
  {
   "cell_type": "code",
   "execution_count": null,
   "id": "328fda75-3952-413a-ab68-6f4abd5344ac",
   "metadata": {},
   "outputs": [],
   "source": []
  },
  {
   "cell_type": "code",
   "execution_count": null,
   "id": "9fd1022e-944f-47e8-afaf-a9ec252fb642",
   "metadata": {},
   "outputs": [],
   "source": []
  },
  {
   "cell_type": "code",
   "execution_count": 156,
   "id": "e870413d-78a6-4d61-acd8-10cf39a9b626",
   "metadata": {},
   "outputs": [],
   "source": [
    "# only categorical data\n",
    "a = df4.select_dtypes(include='object')\n",
    "\n",
    "# Calculate cramver_v\n",
    "a1 = cramer_v(a['marca'], a['marca'])\n",
    "a2 = cramer_v(a['marca'], a['modelo'])\n",
    "a3 = cramer_v(a['marca'], a['potencia'])\n",
    "a4 = cramer_v(a['marca'], a['cidade_vendedor'])\n",
    "a5 = cramer_v(a['marca'], a['estado_vendedor'])\n",
    "\n",
    "a6 = cramer_v(a['modelo'], a['marca'])\n",
    "a7 = cramer_v(a['modelo'], a['modelo'])\n",
    "a8 = cramer_v(a['modelo'], a['potencia'])\n",
    "a9 = cramer_v(a['modelo'], a['cidade_vendedor'])\n",
    "a10 = cramer_v(a['modelo'], a['estado_vendedor'])\n",
    "\n",
    "a11 = cramer_v(a['potencia'], a['marca'])\n",
    "a12 = cramer_v(a['potencia'], a['modelo'])\n",
    "a13 = cramer_v(a['potencia'], a['potencia'])\n",
    "a14= cramer_v(a['potencia'], a['cidade_vendedor'])\n",
    "a15 = cramer_v(a['potencia'], a['estado_vendedor'])\n",
    "\n",
    "a16 = cramer_v(a['cidade_vendedor'], a['marca'])\n",
    "a17 = cramer_v(a['cidade_vendedor'], a['modelo'])\n",
    "a18 = cramer_v(a['cidade_vendedor'], a['potencia'])\n",
    "a19 = cramer_v(a['cidade_vendedor'], a['cidade_vendedor'])\n",
    "a20 = cramer_v(a['cidade_vendedor'], a['estado_vendedor'])\n",
    "\n",
    "a21 = cramer_v(a['estado_vendedor'], a['marca'])\n",
    "a22 = cramer_v(a['estado_vendedor'], a['modelo'])\n",
    "a23 = cramer_v(a['estado_vendedor'], a['potencia'])\n",
    "a24 = cramer_v(a['estado_vendedor'], a['cidade_vendedor'])\n",
    "a25 = cramer_v(a['estado_vendedor'], a['estado_vendedor'])\n",
    "\n",
    "# Final dataset\n",
    "d = pd.DataFrame( {'marca': [a1, a2, a3, a4, a5],\n",
    "                  'modelo':[a6, a7,a8, a8, a10],\n",
    "                  'potencia':[a11, a12, a13, a14, a15],\n",
    "                  'cidade_vendedor':[a16, a17, a18, a19, a20],\n",
    "                  'estado_vendedor':[a21, a22, a23, a24, a25]} )\n",
    "\n",
    "d = d.set_index(d.columns)"
   ]
  },
  {
   "cell_type": "code",
   "execution_count": 157,
   "id": "64f64bc0-d8a9-4583-9d26-3d4332a846eb",
   "metadata": {},
   "outputs": [
    {
     "data": {
      "text/plain": [
       "<AxesSubplot:>"
      ]
     },
     "execution_count": 157,
     "metadata": {},
     "output_type": "execute_result"
    },
    {
     "data": {
      "image/png": "[encoded data removed]",
      "text/plain": [
       "<Figure size 1500x1000 with 2 Axes>"
      ]
     },
     "metadata": {},
     "output_type": "display_data"
    }
   ],
   "source": [
    "sns.heatmap(d, annot=True)"
   ]
  },
  {
   "cell_type": "code",
   "execution_count": 173,
   "id": "2736c7a8-9a9d-45ad-9a9a-7718250e1125",
   "metadata": {},
   "outputs": [],
   "source": [
    "# only categorical data\n",
    "a = df4.select_dtypes(include='object')\n",
    "\n",
    "# Calculate cramver_v\n",
    "a1 = cramer_v(a['cambio'], a['cambio'])\n",
    "a2 = cramer_v(a['cambio'], a['cor'])\n",
    "a3 = cramer_v(a['cambio'], a['tipo'])\n",
    "\n",
    "\n",
    "a6 = cramer_v(a['cor'], a['cambio'])\n",
    "a7 = cramer_v(a['cor'], a['cor'])\n",
    "a8 = cramer_v(a['cor'], a['tipo'])\n",
    "\n",
    "\n",
    "a11 = cramer_v(a['tipo'], a['cambio'])\n",
    "a12 = cramer_v(a['tipo'], a['cor'])\n",
    "a13 = cramer_v(a['tipo'], a['tipo'])\n",
    "\n",
    "\n",
    "# Final dataset\n",
    "de = pd.DataFrame( {'cambio': [a1, a2, a3],\n",
    "                  'cor':[a6, a7,a8],\n",
    "                  'tipo':[a11, a12, a13]})\n",
    "\n",
    "de = de.set_index(de.columns)"
   ]
  },
  {
   "cell_type": "code",
   "execution_count": 174,
   "id": "a5359e4f-7a87-4005-b70f-59b34a7c29a7",
   "metadata": {},
   "outputs": [
    {
     "data": {
      "text/plain": [
       "<AxesSubplot:>"
      ]
     },
     "execution_count": 174,
     "metadata": {},
     "output_type": "execute_result"
    },
    {
     "data": {
      "image/png": "[encoded data removed]",
      "text/plain": [
       "<Figure size 1500x1000 with 2 Axes>"
      ]
     },
     "metadata": {},
     "output_type": "display_data"
    }
   ],
   "source": [
    "sns.heatmap(de, annot=True)"
   ]
  },
  {
   "cell_type": "markdown",
   "id": "09454bf1-ceb3-4370-abfd-0f1be41febb3",
   "metadata": {
    "jp-MarkdownHeadingCollapsed": true,
    "tags": []
   },
   "source": [
    "## **5.0 Data Preparation**"
   ]
  },
  {
   "cell_type": "code",
   "execution_count": 43,
   "id": "a394fe33-af59-46e8-95e3-698b1c83cff7",
   "metadata": {},
   "outputs": [],
   "source": [
    "df5 = df4.copy()"
   ]
  },
  {
   "cell_type": "code",
   "execution_count": 44,
   "id": "9590a3bf-4887-4c01-ad34-0c2d2d3eeeff",
   "metadata": {},
   "outputs": [],
   "source": [
    "df5.drop(columns=['num_fotos','versao','tipo_anuncio','elegivel_revisao'], inplace=True)"
   ]
  },
  {
   "cell_type": "code",
   "execution_count": 45,
   "id": "7fe62c00-c067-4eff-9fc7-37938eec9edf",
   "metadata": {},
   "outputs": [
    {
     "data": {
      "text/plain": [
       "Index(['marca', 'modelo', 'ano_de_fabricacao', 'ano_modelo', 'odometro',\n",
       "       'cambio', 'num_portas', 'tipo', 'blindado', 'cor', 'tipo_vendedor',\n",
       "       'cidade_vendedor', 'estado_vendedor', 'entrega_delivery', 'troca',\n",
       "       'attr_veiculo_aceita_troca', 'attr_veiculo_único_dono',\n",
       "       'attr_veiculo_todas_as_revisões_feitas_pela_concessionária',\n",
       "       'attr_veiculo_ipva_pago', 'attr_veiculo_licenciado',\n",
       "       'attr_veiculo_garantia_de_fábrica',\n",
       "       'attr_veiculo_todas_as_revisões_feitas_pela_agenda_do_carro', 'preco',\n",
       "       'idade', 'km_ano', 'potencia', 'combustivel', 'tracao'],\n",
       "      dtype='object')"
      ]
     },
     "execution_count": 45,
     "metadata": {},
     "output_type": "execute_result"
    }
   ],
   "source": [
    "df5.columns"
   ]
  },
  {
   "cell_type": "code",
   "execution_count": 242,
   "id": "6b0f2ed4-e54c-458f-8386-2e55ef056745",
   "metadata": {},
   "outputs": [],
   "source": [
    "# X = df5.drop('preco', axis=1)\n",
    "# y = df5['preco'].copy()\n",
    "\n",
    "# x_train, x_val, y_train, y_val = ms.train_test_split(X, y, test_size=0.20)\n",
    "# #x_val_api = x_val.copy()\n",
    "# df5 = pd.concat([x_train, y_train], axis=1)"
   ]
  },
  {
   "cell_type": "markdown",
   "id": "e479d0b2-905d-448c-b8a8-667bb8f95ada",
   "metadata": {},
   "source": [
    "#### **5.1 Rescaling**"
   ]
  },
  {
   "cell_type": "code",
   "execution_count": 46,
   "id": "f986ba22-b2f6-4936-b9ce-fd6ba5a4ab7a",
   "metadata": {},
   "outputs": [],
   "source": [
    "rs = RobustScaler()\n",
    "mms = MinMaxScaler()\n",
    "\n",
    "#df5['num_fotos'] = mms.fit_transform(df5[['num_fotos']].values)\n",
    "df5['ano_de_fabricacao'] = mms.fit_transform(df5[['ano_de_fabricacao']].values)\n",
    "df5['ano_modelo'] = mms.fit_transform(df5[['ano_modelo']].values)\n",
    "#df5['num_portas'] = mms.fit_transform(df5[['num_portas']].values)\n",
    "df5['km_ano'] = mms.fit_transform(df5[['km_ano']].values)\n",
    "\n",
    "df5['odometro'] = rs.fit_transform(df5[['odometro']].values)"
   ]
  },
  {
   "cell_type": "markdown",
   "id": "1018e72c-dfa9-45d3-86b4-0c79c7923ad8",
   "metadata": {},
   "source": [
    "#### **5.2 Response Variable Transformation**"
   ]
  },
  {
   "cell_type": "code",
   "execution_count": 47,
   "id": "2c854add-0179-4895-9024-5c926917e425",
   "metadata": {},
   "outputs": [],
   "source": [
    "df5['preco'] = np.log1p(df5['preco'])"
   ]
  },
  {
   "cell_type": "markdown",
   "id": "c92030ca-18fb-4d04-9cd0-807dee1f7643",
   "metadata": {},
   "source": [
    "#### **5.3 Encoding**"
   ]
  },
  {
   "cell_type": "code",
   "execution_count": 48,
   "id": "90980bad-024e-44d6-ac12-96bad002aedb",
   "metadata": {},
   "outputs": [],
   "source": [
    "df5['troca'] = df5['troca'].map({'False' : 0, 'True' : 1})\n",
    "\n",
    "df5['blindado'] = df5['blindado'].map({'N' : 0, 'S' : 1})\n",
    "df5['attr_veiculo_único_dono'] = df5['attr_veiculo_único_dono'].map({'0' : 0, 'Único dono' : 1})\n",
    "df5['entrega_delivery'] = df5['entrega_delivery'].map({ 'False' : 0, 'True' : 1})\n",
    "df5['attr_veiculo_todas_as_revisões_feitas_pela_concessionária'] = df5['attr_veiculo_todas_as_revisões_feitas_pela_concessionária'].map({ '0' : 0, 'Todas as revisões feitas pela concessionária' : 1})\n",
    "df5['attr_veiculo_ipva_pago'] = df5['attr_veiculo_ipva_pago'].map({ '0' : 0, 'IPVA pago' : 1})\n",
    "df5['attr_veiculo_licenciado'] = df5['attr_veiculo_licenciado'].map({ '0' : 0, 'Licenciado' : 1})\n",
    "df5['attr_veiculo_todas_as_revisões_feitas_pela_agenda_do_carro'] = df5['attr_veiculo_todas_as_revisões_feitas_pela_agenda_do_carro'].map({ '0' : 0, 'Todas as revisões feitas pela agenda do carro' : 1})\n",
    "df5['attr_veiculo_garantia_de_fábrica'] = df5['attr_veiculo_garantia_de_fábrica'].map({ '0' : 0, 'Garantia de fábrica' : 1})\n",
    "df5['attr_veiculo_aceita_troca'] = df5['attr_veiculo_aceita_troca'].map({ '0' : 0, 'Aceita troca' : 1})\n",
    "\n",
    "#onehotencoding\n",
    "df5 = pd.get_dummies(df5, columns = ['cambio', 'num_portas','combustivel','tracao','cor','tipo_vendedor','tipo'])\n",
    "\n",
    "le = LabelEncoder()\n",
    "# label enconder\n",
    "df5['cidade_vendedor'] = le.fit_transform(df5['cidade_vendedor'])\n",
    "df5['estado_vendedor'] = le.fit_transform(df5['estado_vendedor'])\n",
    "\n",
    "df5['marca'] = le.fit_transform(df5['marca'])\n",
    "df5['modelo'] = le.fit_transform(df5['modelo'])"
   ]
  },
  {
   "cell_type": "code",
   "execution_count": 49,
   "id": "6bdc3a4d-9626-4fdb-a482-cd63deffee35",
   "metadata": {},
   "outputs": [],
   "source": [
    "#le = LabelEncoder()\n",
    "#df5['marca'] = le.fit_transform(df5['marca'])\n",
    "#df5['modelo'] = le.fit_transform(df5['modelo'])\n",
    "#df5['versao'] = le.fit_transform(df5['versao'])\n",
    "#df5['cambio'] = le.fit_transform(df5['cambio'])\n",
    "#df5['tipo'] = le.fit_transform(df5['tipo'])\n",
    "#df5['blindado'] = le.fit_transform(df5['blindado'])\n",
    "#df5['cor'] = le.fit_transform(df5['cor'])\n",
    "#df5['tipo_vendedor'] = le.fit_transform(df5['tipo_vendedor'])\n",
    "#df5['entrega_delivery'] = le.fit_transform(df5['entrega_delivery'])\n",
    "#df5['troca'] = le.fit_transform(df5['troca'])\n",
    "#df5['attr_veiculo_único_dono'] = le.fit_transform(df5['attr_veiculo_único_dono'])\n",
    "#df5['attr_veiculo_todas_as_revisões_feitas_pela_concessionária'] = le.fit_transform(df5['attr_veiculo_todas_as_revisões_feitas_pela_concessionária'])\n",
    "#df5['attr_veiculo_ipva_pago'] = le.fit_transform(df5['attr_veiculo_ipva_pago'])\n",
    "#df5['attr_veiculo_licenciado'] = le.fit_transform(df5['attr_veiculo_licenciado'])\n",
    "#df5['attr_veiculo_todas_as_revisões_feitas_pela_agenda_do_carro'] = le.fit_transform(df5['attr_veiculo_todas_as_revisões_feitas_pela_agenda_do_carro'])\n",
    "#df5['attr_veiculo_garantia_de_fábrica'] = le.fit_transform(df5['attr_veiculo_garantia_de_fábrica'])\n",
    "#df5['attr_veiculo_garantia_de_fábrica'] = le.fit_transform(df5['attr_veiculo_garantia_de_fábrica'])\n",
    "#df5['elegivel_revisao'] = le.fit_transform(df5['elegivel_revisao'])\n",
    "#df5['attr_veiculo_aceita_troca'] = le.fit_transform(df5['attr_veiculo_aceita_troca'])\n",
    "#df5['cidade_vendedor'] = le.fit_transform(df5['cidade_vendedor'])\n",
    "#df5['estado_vendedor'] = le.fit_transform(df5['estado_vendedor'])\n",
    "#df5['tipo_anuncio'] = le.fit_transform(df5['tipo_anuncio'])\n",
    "\n",
    "df5['potencia'] = le.fit_transform(df5['potencia'])\n",
    "#df5['combustivel'] = le.fit_transform(df5['combustivel'])\n",
    "#df5['tracao'] = le.fit_transform(df5['tracao'])"
   ]
  },
  {
   "cell_type": "markdown",
   "id": "c3a7da08-4560-4819-bea9-000365a106c0",
   "metadata": {},
   "source": [
    "#### **5.4 Validation Preparation**"
   ]
  },
  {
   "cell_type": "code",
   "execution_count": 246,
   "id": "03f83a5d-ba9d-4c27-99fc-20ec3b3f14b2",
   "metadata": {},
   "outputs": [],
   "source": [
    "# x_val['num_fotos'] = mms.fit_transform(x_val[['num_fotos']].values)\n",
    "# x_val['ano_de_fabricacao'] = mms.fit_transform(x_val[['ano_de_fabricacao']].values)\n",
    "# x_val['ano_modelo'] = mms.fit_transform(x_val[['ano_modelo']].values)\n",
    "# x_val['num_portas'] = mms.fit_transform(x_val[['num_portas']].values)\n",
    "# x_val['odometro'] = rs.fit_transform(x_val[['odometro']].values)\n",
    "\n",
    "# x_val['marca'] = le.fit_transform(x_val['marca'])\n",
    "# x_val['modelo'] = le.fit_transform(x_val['modelo'])\n",
    "# x_val['versao'] = le.fit_transform(x_val['versao'])\n",
    "# x_val['cambio'] = le.fit_transform(x_val['cambio'])\n",
    "# x_val['tipo'] = le.fit_transform(x_val['tipo'])\n",
    "# x_val['blindado'] = le.fit_transform(x_val['blindado'])\n",
    "# x_val['cor'] = le.fit_transform(x_val['cor'])\n",
    "# x_val['tipo_vendedor'] = le.fit_transform(x_val['tipo_vendedor'])\n",
    "# x_val['entrega_delivery'] = le.fit_transform(x_val['entrega_delivery'])\n",
    "# x_val['troca'] = le.fit_transform(x_val['troca'])\n",
    "# x_val['attr_veiculo_único_dono'] = le.fit_transform(x_val['attr_veiculo_único_dono'])\n",
    "# x_val['attr_veiculo_todas_as_revisões_feitas_pela_concessionária'] = le.fit_transform(x_val['attr_veiculo_todas_as_revisões_feitas_pela_concessionária'])\n",
    "# x_val['attr_veiculo_ipva_pago'] = le.fit_transform(x_val['attr_veiculo_ipva_pago'])\n",
    "# x_val['attr_veiculo_licenciado'] = le.fit_transform(x_val['attr_veiculo_licenciado'])\n",
    "# x_val['attr_veiculo_todas_as_revisões_feitas_pela_agenda_do_carro'] = le.fit_transform(x_val['attr_veiculo_todas_as_revisões_feitas_pela_agenda_do_carro'])\n",
    "# x_val['attr_veiculo_garantia_de_fábrica'] = le.fit_transform(x_val['attr_veiculo_garantia_de_fábrica'])\n",
    "# x_val['attr_veiculo_garantia_de_fábrica'] = le.fit_transform(x_val['attr_veiculo_garantia_de_fábrica'])\n",
    "# x_val['elegivel_revisao'] = le.fit_transform(x_val['elegivel_revisao'])\n",
    "# x_val['attr_veiculo_aceita_troca'] = le.fit_transform(x_val['attr_veiculo_aceita_troca'])\n",
    "# x_val['cidade_vendedor'] = le.fit_transform(x_val['cidade_vendedor'])\n",
    "# x_val['estado_vendedor'] = le.fit_transform(x_val['estado_vendedor'])\n",
    "# x_val['tipo_anuncio'] = le.fit_transform(x_val['tipo_anuncio'])"
   ]
  },
  {
   "cell_type": "markdown",
   "id": "f94a373d-2415-4056-b7b3-3490f8e04e88",
   "metadata": {
    "tags": []
   },
   "source": [
    "## **6.0 Feature Selection**"
   ]
  },
  {
   "cell_type": "code",
   "execution_count": 179,
   "id": "084ca310-cebf-4cd2-8911-ce9fdaa70ed0",
   "metadata": {},
   "outputs": [],
   "source": [
    "df6 = df5.copy()"
   ]
  },
  {
   "cell_type": "code",
   "execution_count": 180,
   "id": "d65151ba-763d-43f6-957c-533e9e5f6e62",
   "metadata": {},
   "outputs": [
    {
     "data": {
      "text/html": [
       "<div>\n",
       "<style scoped>\n",
       "    .dataframe tbody tr th:only-of-type {\n",
       "        vertical-align: middle;\n",
       "    }\n",
       "\n",
       "    .dataframe tbody tr th {\n",
       "        vertical-align: top;\n",
       "    }\n",
       "\n",
       "    .dataframe thead th {\n",
       "        text-align: right;\n",
       "    }\n",
       "</style>\n",
       "<table border=\"1\" class=\"dataframe\">\n",
       "  <thead>\n",
       "    <tr style=\"text-align: right;\">\n",
       "      <th></th>\n",
       "      <th>marca</th>\n",
       "      <th>modelo</th>\n",
       "      <th>ano_de_fabricacao</th>\n",
       "      <th>ano_modelo</th>\n",
       "      <th>odometro</th>\n",
       "      <th>blindado</th>\n",
       "      <th>cidade_vendedor</th>\n",
       "      <th>estado_vendedor</th>\n",
       "      <th>entrega_delivery</th>\n",
       "      <th>troca</th>\n",
       "      <th>...</th>\n",
       "      <th>tipo_vendedor_PF</th>\n",
       "      <th>tipo_vendedor_PJ</th>\n",
       "      <th>tipo_Conversível</th>\n",
       "      <th>tipo_Cupê</th>\n",
       "      <th>tipo_Hatchback</th>\n",
       "      <th>tipo_Minivan</th>\n",
       "      <th>tipo_Perua/SW</th>\n",
       "      <th>tipo_Picape</th>\n",
       "      <th>tipo_Sedã</th>\n",
       "      <th>tipo_Utilitário esportivo</th>\n",
       "    </tr>\n",
       "  </thead>\n",
       "  <tbody>\n",
       "    <tr>\n",
       "      <th>0</th>\n",
       "      <td>39</td>\n",
       "      <td>64</td>\n",
       "      <td>0.86</td>\n",
       "      <td>0.77</td>\n",
       "      <td>-0.03</td>\n",
       "      <td>0</td>\n",
       "      <td>576</td>\n",
       "      <td>23</td>\n",
       "      <td>0</td>\n",
       "      <td>0</td>\n",
       "      <td>...</td>\n",
       "      <td>1</td>\n",
       "      <td>0</td>\n",
       "      <td>0</td>\n",
       "      <td>0</td>\n",
       "      <td>0</td>\n",
       "      <td>0</td>\n",
       "      <td>0</td>\n",
       "      <td>1</td>\n",
       "      <td>0</td>\n",
       "      <td>0</td>\n",
       "    </tr>\n",
       "    <tr>\n",
       "      <th>1</th>\n",
       "      <td>17</td>\n",
       "      <td>193</td>\n",
       "      <td>0.86</td>\n",
       "      <td>0.77</td>\n",
       "      <td>-0.19</td>\n",
       "      <td>0</td>\n",
       "      <td>488</td>\n",
       "      <td>17</td>\n",
       "      <td>0</td>\n",
       "      <td>0</td>\n",
       "      <td>...</td>\n",
       "      <td>1</td>\n",
       "      <td>0</td>\n",
       "      <td>0</td>\n",
       "      <td>0</td>\n",
       "      <td>0</td>\n",
       "      <td>0</td>\n",
       "      <td>0</td>\n",
       "      <td>0</td>\n",
       "      <td>0</td>\n",
       "      <td>1</td>\n",
       "    </tr>\n",
       "    <tr>\n",
       "      <th>2</th>\n",
       "      <td>5</td>\n",
       "      <td>149</td>\n",
       "      <td>0.73</td>\n",
       "      <td>0.62</td>\n",
       "      <td>1.28</td>\n",
       "      <td>0</td>\n",
       "      <td>488</td>\n",
       "      <td>23</td>\n",
       "      <td>1</td>\n",
       "      <td>1</td>\n",
       "      <td>...</td>\n",
       "      <td>0</td>\n",
       "      <td>1</td>\n",
       "      <td>0</td>\n",
       "      <td>0</td>\n",
       "      <td>0</td>\n",
       "      <td>0</td>\n",
       "      <td>0</td>\n",
       "      <td>0</td>\n",
       "      <td>1</td>\n",
       "      <td>0</td>\n",
       "    </tr>\n",
       "    <tr>\n",
       "      <th>3</th>\n",
       "      <td>30</td>\n",
       "      <td>45</td>\n",
       "      <td>0.95</td>\n",
       "      <td>0.92</td>\n",
       "      <td>-0.85</td>\n",
       "      <td>0</td>\n",
       "      <td>576</td>\n",
       "      <td>23</td>\n",
       "      <td>0</td>\n",
       "      <td>0</td>\n",
       "      <td>...</td>\n",
       "      <td>1</td>\n",
       "      <td>0</td>\n",
       "      <td>0</td>\n",
       "      <td>0</td>\n",
       "      <td>0</td>\n",
       "      <td>0</td>\n",
       "      <td>0</td>\n",
       "      <td>1</td>\n",
       "      <td>0</td>\n",
       "      <td>0</td>\n",
       "    </tr>\n",
       "    <tr>\n",
       "      <th>4</th>\n",
       "      <td>40</td>\n",
       "      <td>458</td>\n",
       "      <td>0.81</td>\n",
       "      <td>0.73</td>\n",
       "      <td>-0.27</td>\n",
       "      <td>0</td>\n",
       "      <td>475</td>\n",
       "      <td>23</td>\n",
       "      <td>0</td>\n",
       "      <td>0</td>\n",
       "      <td>...</td>\n",
       "      <td>1</td>\n",
       "      <td>0</td>\n",
       "      <td>0</td>\n",
       "      <td>0</td>\n",
       "      <td>0</td>\n",
       "      <td>0</td>\n",
       "      <td>0</td>\n",
       "      <td>0</td>\n",
       "      <td>0</td>\n",
       "      <td>1</td>\n",
       "    </tr>\n",
       "  </tbody>\n",
       "</table>\n",
       "<p>5 rows × 55 columns</p>\n",
       "</div>"
      ],
      "text/plain": [
       "   marca  modelo  ano_de_fabricacao  ano_modelo  odometro  blindado  \\\n",
       "0     39      64               0.86        0.77     -0.03         0   \n",
       "1     17     193               0.86        0.77     -0.19         0   \n",
       "2      5     149               0.73        0.62      1.28         0   \n",
       "3     30      45               0.95        0.92     -0.85         0   \n",
       "4     40     458               0.81        0.73     -0.27         0   \n",
       "\n",
       "   cidade_vendedor  estado_vendedor  entrega_delivery  troca  ...  \\\n",
       "0              576               23                 0      0  ...   \n",
       "1              488               17                 0      0  ...   \n",
       "2              488               23                 1      1  ...   \n",
       "3              576               23                 0      0  ...   \n",
       "4              475               23                 0      0  ...   \n",
       "\n",
       "   tipo_vendedor_PF  tipo_vendedor_PJ  tipo_Conversível  tipo_Cupê  \\\n",
       "0                 1                 0                 0          0   \n",
       "1                 1                 0                 0          0   \n",
       "2                 0                 1                 0          0   \n",
       "3                 1                 0                 0          0   \n",
       "4                 1                 0                 0          0   \n",
       "\n",
       "   tipo_Hatchback  tipo_Minivan  tipo_Perua/SW  tipo_Picape  tipo_Sedã  \\\n",
       "0               0             0              0            1          0   \n",
       "1               0             0              0            0          0   \n",
       "2               0             0              0            0          1   \n",
       "3               0             0              0            1          0   \n",
       "4               0             0              0            0          0   \n",
       "\n",
       "   tipo_Utilitário esportivo  \n",
       "0                          0  \n",
       "1                          1  \n",
       "2                          0  \n",
       "3                          0  \n",
       "4                          1  \n",
       "\n",
       "[5 rows x 55 columns]"
      ]
     },
     "execution_count": 180,
     "metadata": {},
     "output_type": "execute_result"
    }
   ],
   "source": [
    "df6.head()"
   ]
  },
  {
   "cell_type": "markdown",
   "id": "6371e4f8-2251-4f66-995c-024b7c87a612",
   "metadata": {},
   "source": [
    "### **6.1 Features Importance**"
   ]
  },
  {
   "cell_type": "code",
   "execution_count": 181,
   "id": "cfe3a01f-a95f-4b0c-9b41-1197abb5158f",
   "metadata": {},
   "outputs": [],
   "source": [
    "X = df5.drop('preco', axis=1)\n",
    "y = df5['preco'].copy()\n",
    "\n",
    "x_train, x_test, y_train, y_test = ms.train_test_split(X, y, test_size=0.20, random_state=42)\n",
    "x_train, x_val, y_train, y_val = ms.train_test_split(x_train, y_train, test_size=0.10, random_state=42)"
   ]
  },
  {
   "cell_type": "code",
   "execution_count": 53,
   "id": "496f7afc-107d-4421-9830-f166648ff10c",
   "metadata": {},
   "outputs": [
    {
     "data": {
      "text/html": [
       "<style>#sk-container-id-1 {color: black;background-color: white;}#sk-container-id-1 pre{padding: 0;}#sk-container-id-1 div.sk-toggleable {background-color: white;}#sk-container-id-1 label.sk-toggleable__label {cursor: pointer;display: block;width: 100%;margin-bottom: 0;padding: 0.3em;box-sizing: border-box;text-align: center;}#sk-container-id-1 label.sk-toggleable__label-arrow:before {content: \"▸\";float: left;margin-right: 0.25em;color: #696969;}#sk-container-id-1 label.sk-toggleable__label-arrow:hover:before {color: black;}#sk-container-id-1 div.sk-estimator:hover label.sk-toggleable__label-arrow:before {color: black;}#sk-container-id-1 div.sk-toggleable__content {max-height: 0;max-width: 0;overflow: hidden;text-align: left;background-color: #f0f8ff;}#sk-container-id-1 div.sk-toggleable__content pre {margin: 0.2em;color: black;border-radius: 0.25em;background-color: #f0f8ff;}#sk-container-id-1 input.sk-toggleable__control:checked~div.sk-toggleable__content {max-height: 200px;max-width: 100%;overflow: auto;}#sk-container-id-1 input.sk-toggleable__control:checked~label.sk-toggleable__label-arrow:before {content: \"▾\";}#sk-container-id-1 div.sk-estimator input.sk-toggleable__control:checked~label.sk-toggleable__label {background-color: #d4ebff;}#sk-container-id-1 div.sk-label input.sk-toggleable__control:checked~label.sk-toggleable__label {background-color: #d4ebff;}#sk-container-id-1 input.sk-hidden--visually {border: 0;clip: rect(1px 1px 1px 1px);clip: rect(1px, 1px, 1px, 1px);height: 1px;margin: -1px;overflow: hidden;padding: 0;position: absolute;width: 1px;}#sk-container-id-1 div.sk-estimator {font-family: monospace;background-color: #f0f8ff;border: 1px dotted black;border-radius: 0.25em;box-sizing: border-box;margin-bottom: 0.5em;}#sk-container-id-1 div.sk-estimator:hover {background-color: #d4ebff;}#sk-container-id-1 div.sk-parallel-item::after {content: \"\";width: 100%;border-bottom: 1px solid gray;flex-grow: 1;}#sk-container-id-1 div.sk-label:hover label.sk-toggleable__label {background-color: #d4ebff;}#sk-container-id-1 div.sk-serial::before {content: \"\";position: absolute;border-left: 1px solid gray;box-sizing: border-box;top: 0;bottom: 0;left: 50%;z-index: 0;}#sk-container-id-1 div.sk-serial {display: flex;flex-direction: column;align-items: center;background-color: white;padding-right: 0.2em;padding-left: 0.2em;position: relative;}#sk-container-id-1 div.sk-item {position: relative;z-index: 1;}#sk-container-id-1 div.sk-parallel {display: flex;align-items: stretch;justify-content: center;background-color: white;position: relative;}#sk-container-id-1 div.sk-item::before, #sk-container-id-1 div.sk-parallel-item::before {content: \"\";position: absolute;border-left: 1px solid gray;box-sizing: border-box;top: 0;bottom: 0;left: 50%;z-index: -1;}#sk-container-id-1 div.sk-parallel-item {display: flex;flex-direction: column;z-index: 1;position: relative;background-color: white;}#sk-container-id-1 div.sk-parallel-item:first-child::after {align-self: flex-end;width: 50%;}#sk-container-id-1 div.sk-parallel-item:last-child::after {align-self: flex-start;width: 50%;}#sk-container-id-1 div.sk-parallel-item:only-child::after {width: 0;}#sk-container-id-1 div.sk-dashed-wrapped {border: 1px dashed gray;margin: 0 0.4em 0.5em 0.4em;box-sizing: border-box;padding-bottom: 0.4em;background-color: white;}#sk-container-id-1 div.sk-label label {font-family: monospace;font-weight: bold;display: inline-block;line-height: 1.2em;}#sk-container-id-1 div.sk-label-container {text-align: center;}#sk-container-id-1 div.sk-container {/* jupyter's `normalize.less` sets `[hidden] { display: none; }` but bootstrap.min.css set `[hidden] { display: none !important; }` so we also need the `!important` here to be able to override the default hidden behavior on the sphinx rendered scikit-learn.org. See: https://github.com/scikit-learn/scikit-learn/issues/21755 */display: inline-block !important;position: relative;}#sk-container-id-1 div.sk-text-repr-fallback {display: none;}</style><div id=\"sk-container-id-1\" class=\"sk-top-container\"><div class=\"sk-text-repr-fallback\"><pre>ExtraTreesRegressor(n_estimators=250, n_jobs=-1, random_state=0)</pre><b>In a Jupyter environment, please rerun this cell to show the HTML representation or trust the notebook. <br />On GitHub, the HTML representation is unable to render, please try loading this page with nbviewer.org.</b></div><div class=\"sk-container\" hidden><div class=\"sk-item\"><div class=\"sk-estimator sk-toggleable\"><input class=\"sk-toggleable__control sk-hidden--visually\" id=\"sk-estimator-id-1\" type=\"checkbox\" checked><label for=\"sk-estimator-id-1\" class=\"sk-toggleable__label sk-toggleable__label-arrow\">ExtraTreesRegressor</label><div class=\"sk-toggleable__content\"><pre>ExtraTreesRegressor(n_estimators=250, n_jobs=-1, random_state=0)</pre></div></div></div></div></div>"
      ],
      "text/plain": [
       "ExtraTreesRegressor(n_estimators=250, n_jobs=-1, random_state=0)"
      ]
     },
     "execution_count": 53,
     "metadata": {},
     "output_type": "execute_result"
    }
   ],
   "source": [
    "# # model definition\n",
    "forest = en.ExtraTreesRegressor(n_estimators = 250, random_state=0, n_jobs=-1)\n",
    "\n",
    "#data preparation\n",
    "x_train_n = df6.drop(['preco'], axis=1)\n",
    "y_train_n = y.values\n",
    "forest.fit(x_train_n, y_train_n)"
   ]
  },
  {
   "cell_type": "code",
   "execution_count": 54,
   "id": "5674cf7a-90d6-4358-93af-6116124f1077",
   "metadata": {},
   "outputs": [
    {
     "name": "stdout",
     "output_type": "stream",
     "text": [
      "Feature Ranking:\n",
      "                                             feature  importance\n",
      "0                                   combustivel_flex        0.17\n",
      "0                                           potencia        0.10\n",
      "0                                         ano_modelo        0.08\n",
      "0                                           odometro        0.08\n",
      "0                                      cambio_Manual        0.07\n",
      "0                                              idade        0.06\n",
      "0                                  ano_de_fabricacao        0.06\n",
      "0                                              marca        0.05\n",
      "0                          tipo_Utilitário esportivo        0.05\n",
      "0                                             modelo        0.04\n",
      "0                                             km_ano        0.03\n",
      "0                                         cor_Branco        0.02\n",
      "0                                    cidade_vendedor        0.02\n",
      "0                                    estado_vendedor        0.02\n",
      "0                                        tipo_Picape        0.02\n",
      "0                          attr_veiculo_aceita_troca        0.01\n",
      "0                                     tipo_Hatchback        0.01\n",
      "0                            attr_veiculo_único_dono        0.01\n",
      "0                                          tipo_Sedã        0.01\n",
      "0                            attr_veiculo_licenciado        0.01\n",
      "0                                          cor_Prata        0.01\n",
      "0  attr_veiculo_todas_as_revisões_feitas_pela_con...        0.01\n",
      "0                             attr_veiculo_ipva_pago        0.01\n",
      "0  attr_veiculo_todas_as_revisões_feitas_pela_age...        0.01\n",
      "0                                  cambio_Automática        0.01\n",
      "0                                         cambio_CVT        0.01\n",
      "0                                   entrega_delivery        0.00\n",
      "0                                         tracao_4x4        0.00\n",
      "0                                              troca        0.00\n",
      "0                                   tipo_vendedor_PF        0.00\n",
      "0                                   tipo_vendedor_PJ        0.00\n",
      "0                   attr_veiculo_garantia_de_fábrica        0.00\n",
      "0                                          cor_Preto        0.00\n",
      "0                                         tracao_4x2        0.00\n",
      "0                                       num_portas_2        0.00\n",
      "0                                       num_portas_4        0.00\n",
      "0                                           blindado        0.00\n",
      "0                                          cor_Cinza        0.00\n",
      "0                                         tracao_awd        0.00\n",
      "0                                cambio_Automatizada        0.00\n",
      "0                                          tipo_Cupê        0.00\n",
      "0                               combustivel_gasolina        0.00\n",
      "0                                      tipo_Perua/SW        0.00\n",
      "0                               combustivel_eletrico        0.00\n",
      "0                            cambio_Automatizada DCT        0.00\n",
      "0                       cambio_Automática Sequencial        0.00\n",
      "0                             cambio_Semi-automática        0.00\n",
      "0                                       num_portas_3        0.00\n",
      "0                                        cor_Dourado        0.00\n",
      "0                                       tipo_Minivan        0.00\n",
      "0                                           cor_Azul        0.00\n",
      "0                                          cor_Verde        0.00\n",
      "0                                       cor_Vermelho        0.00\n",
      "0                                   tipo_Conversível        0.00\n"
     ]
    },
    {
     "data": {
      "image/png": "[encoded data removed]",
      "text/plain": [
       "<Figure size 1500x1000 with 1 Axes>"
      ]
     },
     "metadata": {},
     "output_type": "display_data"
    }
   ],
   "source": [
    "importances = forest.feature_importances_\n",
    "std = np.std([tree.feature_importances_ for tree in forest.estimators_], axis=0)\n",
    "indices = np.argsort(importances)[::-1]\n",
    "\n",
    "# print the feature ranking\n",
    "print(\"Feature Ranking:\")\n",
    "df = pd.DataFrame()\n",
    "for i, j in zip(x_train_n, forest.feature_importances_):\n",
    "    aux=pd.DataFrame({'feature':i, 'importance':j}, index=[0])\n",
    "    df = pd.concat([df, aux], axis=0)\n",
    "\n",
    "print(df.sort_values('importance', ascending=False))\n",
    "\n",
    "# Plot the impurity-based feature importances of the forest\n",
    "plt.figure()\n",
    "plt.title(\"Feature_importances\")\n",
    "plt.bar(range(x_train_n.shape[1]), importances[indices], color='r', yerr=std[indices], align='center')\n",
    "plt.xticks(range(x_train_n.shape[1]), indices)\n",
    "plt.xlim((-1, x_train_n.shape[1]))\n",
    "plt.show()"
   ]
  },
  {
   "cell_type": "markdown",
   "id": "2f6fd034-1ae0-4830-b8a6-c02e4c83b3f1",
   "metadata": {
    "tags": []
   },
   "source": [
    "#### **6.2 Manual Feature Selection**"
   ]
  },
  {
   "cell_type": "code",
   "execution_count": 182,
   "id": "0ed48ac5-7601-4528-8b68-8d6b09788689",
   "metadata": {},
   "outputs": [],
   "source": [
    "cols_selected = ['tracao','idade','km_ano','potencia','combustivel','odometro','tipo','ano_modelo','ano_de_fabricacao','marca','modelo','cambio','cor','cidade_vendedor','estado_vendedor']\n",
    "cols_select_boruta = ['marca',\n",
    " 'ano_de_fabricacao',\n",
    " 'odometro',\n",
    " 'km_ano',\n",
    " 'potencia',\n",
    " 'cambio_Manual',\n",
    " 'combustivel_flex',\n",
    " 'tipo_Sedã',\n",
    " 'tipo_Utilitário esportivo', 'cor_Branco', 'cidade_vendedor', 'estado_vendedor','cambio_Automática','cor_Prata', 'cambio_CVT', 'cor_Preto']\n",
    "\n",
    "# columns to add\n",
    "feat_to_add = ['preco']\n",
    "\n",
    "# final features\n",
    "cols_selected_full = cols_select_boruta.copy()\n",
    "cols_selected_full.extend(feat_to_add)"
   ]
  },
  {
   "cell_type": "code",
   "execution_count": 183,
   "id": "dcec8d31-5a26-405b-ae03-6957e24e43de",
   "metadata": {},
   "outputs": [],
   "source": [
    "x_train = x_train[cols_select_boruta]\n",
    "x_val = x_val[cols_select_boruta]\n",
    "\n",
    "x_training = df5[cols_selected_full]"
   ]
  },
  {
   "cell_type": "code",
   "execution_count": null,
   "id": "c4ae8e25-a465-4090-b1d1-2cee9a832ee1",
   "metadata": {},
   "outputs": [],
   "source": []
  },
  {
   "cell_type": "markdown",
   "id": "d78b6d31-a406-428c-a3f4-79e99a786813",
   "metadata": {
    "jp-MarkdownHeadingCollapsed": true,
    "tags": []
   },
   "source": [
    "# **7.0 Model Training**"
   ]
  },
  {
   "cell_type": "code",
   "execution_count": 55,
   "id": "131fef6d-4209-497f-8d06-ebf70b92074a",
   "metadata": {},
   "outputs": [],
   "source": [
    "from sklearn.model_selection import KFold, cross_val_score"
   ]
  },
  {
   "cell_type": "markdown",
   "id": "541eb939-24ef-437e-a974-57ffc9a82e91",
   "metadata": {
    "tags": []
   },
   "source": [
    "### **7.1 Linear Regression Model**"
   ]
  },
  {
   "cell_type": "code",
   "execution_count": 56,
   "id": "cf62c50a-f85c-4353-9996-d1ab5a29fcf7",
   "metadata": {},
   "outputs": [
    {
     "data": {
      "text/html": [
       "<div>\n",
       "<style scoped>\n",
       "    .dataframe tbody tr th:only-of-type {\n",
       "        vertical-align: middle;\n",
       "    }\n",
       "\n",
       "    .dataframe tbody tr th {\n",
       "        vertical-align: top;\n",
       "    }\n",
       "\n",
       "    .dataframe thead th {\n",
       "        text-align: right;\n",
       "    }\n",
       "</style>\n",
       "<table border=\"1\" class=\"dataframe\">\n",
       "  <thead>\n",
       "    <tr style=\"text-align: right;\">\n",
       "      <th></th>\n",
       "      <th>Model Name</th>\n",
       "      <th>MAE</th>\n",
       "      <th>MAPE</th>\n",
       "      <th>RMSE</th>\n",
       "    </tr>\n",
       "  </thead>\n",
       "  <tbody>\n",
       "    <tr>\n",
       "      <th>0</th>\n",
       "      <td>Linear Regression</td>\n",
       "      <td>35640.62</td>\n",
       "      <td>0.29</td>\n",
       "      <td>56844.14</td>\n",
       "    </tr>\n",
       "  </tbody>\n",
       "</table>\n",
       "</div>"
      ],
      "text/plain": [
       "          Model Name      MAE  MAPE     RMSE\n",
       "0  Linear Regression 35640.62  0.29 56844.14"
      ]
     },
     "execution_count": 56,
     "metadata": {},
     "output_type": "execute_result"
    }
   ],
   "source": [
    "# model\n",
    "lr = LinearRegression().fit(x_train, y_train)\n",
    "\n",
    "# prediction\n",
    "yhat_lr = lr.predict(x_val)\n",
    "\n",
    "# performance\n",
    "lr_result = ml_error('Linear Regression', np.expm1(y_val), np.expm1(yhat_lr))\n",
    "lr_result"
   ]
  },
  {
   "cell_type": "markdown",
   "id": "ac6462ee-1388-402b-a2c3-a810a6ab670f",
   "metadata": {},
   "source": [
    "##### **7.1.1 Linear Regression - Cross-Validation**"
   ]
  },
  {
   "cell_type": "code",
   "execution_count": 57,
   "id": "75346e9c-b002-4455-80d2-8bdec1a6d1b3",
   "metadata": {},
   "outputs": [
    {
     "name": "stdout",
     "output_type": "stream",
     "text": [
      "MAE: 37677.707444140186\n"
     ]
    }
   ],
   "source": [
    "linear_r = LinearRegression()\n",
    "kf = KFold(n_splits=4, shuffle=True, random_state=42)\n",
    "mae = cross_val_score(lr, X, np.expm1(y), cv=kf.split(X), scoring='neg_mean_absolute_error')*-1\n",
    "print('MAE: {}'.format(mae.mean()))"
   ]
  },
  {
   "cell_type": "markdown",
   "id": "c817c046-418e-48ed-9331-e1d5295309b3",
   "metadata": {
    "tags": []
   },
   "source": [
    "### **7.2 Linear Regression Regularized Model**"
   ]
  },
  {
   "cell_type": "code",
   "execution_count": 58,
   "id": "f2b811e5-b4b5-4d54-b6d3-3422f6c8010d",
   "metadata": {},
   "outputs": [
    {
     "data": {
      "text/html": [
       "<div>\n",
       "<style scoped>\n",
       "    .dataframe tbody tr th:only-of-type {\n",
       "        vertical-align: middle;\n",
       "    }\n",
       "\n",
       "    .dataframe tbody tr th {\n",
       "        vertical-align: top;\n",
       "    }\n",
       "\n",
       "    .dataframe thead th {\n",
       "        text-align: right;\n",
       "    }\n",
       "</style>\n",
       "<table border=\"1\" class=\"dataframe\">\n",
       "  <thead>\n",
       "    <tr style=\"text-align: right;\">\n",
       "      <th></th>\n",
       "      <th>Model Name</th>\n",
       "      <th>MAE</th>\n",
       "      <th>MAPE</th>\n",
       "      <th>RMSE</th>\n",
       "    </tr>\n",
       "  </thead>\n",
       "  <tbody>\n",
       "    <tr>\n",
       "      <th>0</th>\n",
       "      <td>Linear Regression - Lasso</td>\n",
       "      <td>37254.56</td>\n",
       "      <td>0.30</td>\n",
       "      <td>59894.13</td>\n",
       "    </tr>\n",
       "  </tbody>\n",
       "</table>\n",
       "</div>"
      ],
      "text/plain": [
       "                  Model Name      MAE  MAPE     RMSE\n",
       "0  Linear Regression - Lasso 37254.56  0.30 59894.13"
      ]
     },
     "execution_count": 58,
     "metadata": {},
     "output_type": "execute_result"
    }
   ],
   "source": [
    "# model\n",
    "lrr = Lasso(alpha=0.01).fit(x_train, y_train)\n",
    "\n",
    "# prediction \n",
    "yhat_lrr = lrr.predict(x_val)\n",
    "\n",
    "# performance\n",
    "lrr_result = ml_error('Linear Regression - Lasso', np.expm1(y_val), np.expm1(yhat_lrr))\n",
    "lrr_result"
   ]
  },
  {
   "cell_type": "markdown",
   "id": "cacd41e3-f8b9-4a74-84aa-00ed2588e178",
   "metadata": {},
   "source": [
    "##### **7.2.1 Linear Regression Regularized - Cross-Validation**"
   ]
  },
  {
   "cell_type": "code",
   "execution_count": 59,
   "id": "09eb2999-53d8-4976-8c13-0da3c8de1124",
   "metadata": {},
   "outputs": [
    {
     "name": "stderr",
     "output_type": "stream",
     "text": [
      "c:\\users\\romul\\documents\\ds\\mobilitycars\\mc-env\\lib\\site-packages\\sklearn\\linear_model\\_coordinate_descent.py:648: ConvergenceWarning: Objective did not converge. You might want to increase the number of iterations, check the scale of the features or consider increasing regularisation. Duality gap: 4.269e+13, tolerance: 1.973e+10\n",
      "  model = cd_fast.enet_coordinate_descent(\n",
      "c:\\users\\romul\\documents\\ds\\mobilitycars\\mc-env\\lib\\site-packages\\sklearn\\linear_model\\_coordinate_descent.py:648: ConvergenceWarning: Objective did not converge. You might want to increase the number of iterations, check the scale of the features or consider increasing regularisation. Duality gap: 4.261e+13, tolerance: 1.985e+10\n",
      "  model = cd_fast.enet_coordinate_descent(\n",
      "c:\\users\\romul\\documents\\ds\\mobilitycars\\mc-env\\lib\\site-packages\\sklearn\\linear_model\\_coordinate_descent.py:648: ConvergenceWarning: Objective did not converge. You might want to increase the number of iterations, check the scale of the features or consider increasing regularisation. Duality gap: 4.477e+13, tolerance: 2.028e+10\n",
      "  model = cd_fast.enet_coordinate_descent(\n"
     ]
    },
    {
     "name": "stdout",
     "output_type": "stream",
     "text": [
      "MAE: 37677.703371758194\n"
     ]
    },
    {
     "name": "stderr",
     "output_type": "stream",
     "text": [
      "c:\\users\\romul\\documents\\ds\\mobilitycars\\mc-env\\lib\\site-packages\\sklearn\\linear_model\\_coordinate_descent.py:648: ConvergenceWarning: Objective did not converge. You might want to increase the number of iterations, check the scale of the features or consider increasing regularisation. Duality gap: 4.535e+13, tolerance: 2.046e+10\n",
      "  model = cd_fast.enet_coordinate_descent(\n"
     ]
    }
   ],
   "source": [
    "lasso_lr = Lasso(alpha=0.01)\n",
    "kf = KFold(n_splits=4, shuffle=True, random_state=42)\n",
    "mae = cross_val_score(lasso_lr,  X, np.expm1(y), cv=kf.split(X), scoring='neg_mean_absolute_error')*-1\n",
    "print('MAE: {}'.format(mae.mean()))"
   ]
  },
  {
   "cell_type": "markdown",
   "id": "1aadb353-744d-4a33-9c0e-3698ef59b03d",
   "metadata": {
    "tags": []
   },
   "source": [
    "### **7.3 Random Forest Regressor**"
   ]
  },
  {
   "cell_type": "code",
   "execution_count": 60,
   "id": "731c0419-8a4d-425c-847b-3f0241b8e618",
   "metadata": {},
   "outputs": [
    {
     "data": {
      "text/html": [
       "<div>\n",
       "<style scoped>\n",
       "    .dataframe tbody tr th:only-of-type {\n",
       "        vertical-align: middle;\n",
       "    }\n",
       "\n",
       "    .dataframe tbody tr th {\n",
       "        vertical-align: top;\n",
       "    }\n",
       "\n",
       "    .dataframe thead th {\n",
       "        text-align: right;\n",
       "    }\n",
       "</style>\n",
       "<table border=\"1\" class=\"dataframe\">\n",
       "  <thead>\n",
       "    <tr style=\"text-align: right;\">\n",
       "      <th></th>\n",
       "      <th>Model Name</th>\n",
       "      <th>MAE</th>\n",
       "      <th>MAPE</th>\n",
       "      <th>RMSE</th>\n",
       "    </tr>\n",
       "  </thead>\n",
       "  <tbody>\n",
       "    <tr>\n",
       "      <th>0</th>\n",
       "      <td>Random Forest Regressor</td>\n",
       "      <td>26235.22</td>\n",
       "      <td>0.21</td>\n",
       "      <td>43905.96</td>\n",
       "    </tr>\n",
       "  </tbody>\n",
       "</table>\n",
       "</div>"
      ],
      "text/plain": [
       "                Model Name      MAE  MAPE     RMSE\n",
       "0  Random Forest Regressor 26235.22  0.21 43905.96"
      ]
     },
     "execution_count": 60,
     "metadata": {},
     "output_type": "execute_result"
    }
   ],
   "source": [
    "# model\n",
    "rf = RandomForestRegressor(n_estimators=100, n_jobs=-1, random_state=42).fit(x_train, y_train)\n",
    "\n",
    "# prediction \n",
    "yhat_rf_val = rf.predict(x_val)\n",
    "\n",
    "# performance\n",
    "rf_result_val = ml_error('Random Forest Regressor', np.expm1(y_val), np.expm1(yhat_rf_val))\n",
    "rf_result_val"
   ]
  },
  {
   "cell_type": "markdown",
   "id": "3a035826-f22f-4dfe-b04b-5370a2d00b11",
   "metadata": {
    "tags": []
   },
   "source": [
    "##### **7.3.1 Random Forest - Cross-Validation**"
   ]
  },
  {
   "cell_type": "code",
   "execution_count": 61,
   "id": "5b37ec2b-2a12-44ab-8600-784830b1f630",
   "metadata": {},
   "outputs": [
    {
     "name": "stdout",
     "output_type": "stream",
     "text": [
      "MAE: 27387.674734471802\n"
     ]
    }
   ],
   "source": [
    "randon_forest = RandomForestRegressor(n_estimators=100, n_jobs=-1, random_state=42)\n",
    "kf = KFold(n_splits=4, shuffle=True, random_state=42)\n",
    "mae = cross_val_score(randon_forest, X,  np.expm1(y), cv=kf.split(X), scoring='neg_mean_absolute_error')*-1\n",
    "print('MAE: {}'.format(mae.mean()))"
   ]
  },
  {
   "cell_type": "markdown",
   "id": "1c0b2f85-f01c-4bc8-8156-82ad45d084e0",
   "metadata": {
    "tags": []
   },
   "source": [
    "### **7.4 XGBoost Regressor**"
   ]
  },
  {
   "cell_type": "code",
   "execution_count": 62,
   "id": "c22be9fa-4166-4066-8bef-36af55bc4216",
   "metadata": {},
   "outputs": [
    {
     "data": {
      "text/html": [
       "<div>\n",
       "<style scoped>\n",
       "    .dataframe tbody tr th:only-of-type {\n",
       "        vertical-align: middle;\n",
       "    }\n",
       "\n",
       "    .dataframe tbody tr th {\n",
       "        vertical-align: top;\n",
       "    }\n",
       "\n",
       "    .dataframe thead th {\n",
       "        text-align: right;\n",
       "    }\n",
       "</style>\n",
       "<table border=\"1\" class=\"dataframe\">\n",
       "  <thead>\n",
       "    <tr style=\"text-align: right;\">\n",
       "      <th></th>\n",
       "      <th>Model Name</th>\n",
       "      <th>MAE</th>\n",
       "      <th>MAPE</th>\n",
       "      <th>RMSE</th>\n",
       "    </tr>\n",
       "  </thead>\n",
       "  <tbody>\n",
       "    <tr>\n",
       "      <th>0</th>\n",
       "      <td>XGBoost Regressor</td>\n",
       "      <td>26152.37</td>\n",
       "      <td>0.21</td>\n",
       "      <td>42849.95</td>\n",
       "    </tr>\n",
       "  </tbody>\n",
       "</table>\n",
       "</div>"
      ],
      "text/plain": [
       "          Model Name      MAE  MAPE     RMSE\n",
       "0  XGBoost Regressor 26152.37  0.21 42849.95"
      ]
     },
     "execution_count": 62,
     "metadata": {},
     "output_type": "execute_result"
    }
   ],
   "source": [
    "# model\n",
    "model_xgb = xgb.XGBRegressor().fit(x_train, y_train)\n",
    "\n",
    "# prediction\n",
    "yhat_xgb = model_xgb.predict(x_val)\n",
    "\n",
    "# performance\n",
    "xgb_result = ml_error('XGBoost Regressor', np.expm1(y_val), np.expm1(yhat_xgb))\n",
    "xgb_result"
   ]
  },
  {
   "cell_type": "markdown",
   "id": "c42ecdbc-008c-4c29-aea6-85ca9e2f1eab",
   "metadata": {
    "tags": []
   },
   "source": [
    "##### **7.4.1 XGboost Regressor - Cross-Validation**"
   ]
  },
  {
   "cell_type": "code",
   "execution_count": 63,
   "id": "ecba6292-74b1-4037-9296-dd7b541def2b",
   "metadata": {},
   "outputs": [
    {
     "name": "stdout",
     "output_type": "stream",
     "text": [
      "MAE: 27247.473271251845\n"
     ]
    }
   ],
   "source": [
    "model_xgb_cv = xgb.XGBRegressor()\n",
    "kf = KFold(n_splits=4, shuffle=True, random_state=42)\n",
    "mae = cross_val_score(model_xgb_cv,  X,  np.expm1(y), cv=kf.split(X), scoring='neg_mean_absolute_error')*-1\n",
    "print('MAE: {}'.format(mae.mean()))"
   ]
  },
  {
   "cell_type": "markdown",
   "id": "f98b75e5-1446-4ec5-99ed-a8007c12b1cc",
   "metadata": {
    "tags": []
   },
   "source": [
    "# **8.0 Hyperparameter Fine Tuning**"
   ]
  },
  {
   "cell_type": "markdown",
   "id": "638191c9-5f38-4b1e-b664-87178982c18d",
   "metadata": {},
   "source": [
    "#### **8.2 Random Forest Regressor**"
   ]
  },
  {
   "cell_type": "markdown",
   "id": "38a257a4-7661-4eef-be6f-cf213564f1e5",
   "metadata": {
    "jp-MarkdownHeadingCollapsed": true,
    "tags": []
   },
   "source": [
    "##### **8.2.1 Encontrar melhores parametros via CV**"
   ]
  },
  {
   "cell_type": "code",
   "execution_count": null,
   "id": "d31ced88-e853-485d-8f94-f9a21f4baf17",
   "metadata": {},
   "outputs": [],
   "source": [
    "from sklearn.model_selection import RandomizedSearchCV\n",
    "\n",
    "# Number of trees in random forest\n",
    "n_estimators = [1200, 1600, 2000]\n",
    "# Number of features to consider at every split\n",
    "max_features = ['auto', 'sqrt']\n",
    "# Maximum number of levels in tree\n",
    "max_depth = [15, 30]\n",
    "max_depth.append(None)\n",
    "# Minimum number of samples required to split a node\n",
    "min_samples_split = [5, 7]\n",
    "# Minimum number of samples required at each leaf node\n",
    "min_samples_leaf = [1,2]\n",
    "# Create the random grid\n",
    "random_grid = {'n_estimators': n_estimators,\n",
    "               'max_features': max_features,\n",
    "               'max_depth': max_depth,\n",
    "               'min_samples_split': min_samples_split,\n",
    "               'min_samples_leaf': min_samples_leaf\n",
    "              }\n",
    "print(random_grid)\n",
    "\n",
    "rf = RandomForestRegressor()\n",
    "\n",
    "rf_random = RandomizedSearchCV(estimator = rf, param_distributions = random_grid, n_iter = 100, cv = 3, verbose=2, random_state=42, n_jobs = -1)\n",
    "\n",
    "rf_random.fit(x_train, y_train)\n",
    "\n",
    "rf_random.best_params_"
   ]
  },
  {
   "cell_type": "markdown",
   "id": "27268b4f-18da-42ef-bde6-f07a49a2bc1d",
   "metadata": {
    "tags": []
   },
   "source": [
    "##### **8.2.2 Treinamento do RF Tunned**"
   ]
  },
  {
   "cell_type": "code",
   "execution_count": 184,
   "id": "8c838fb8-9027-4012-9a48-cb0f1d556930",
   "metadata": {},
   "outputs": [
    {
     "data": {
      "text/html": [
       "<div>\n",
       "<style scoped>\n",
       "    .dataframe tbody tr th:only-of-type {\n",
       "        vertical-align: middle;\n",
       "    }\n",
       "\n",
       "    .dataframe tbody tr th {\n",
       "        vertical-align: top;\n",
       "    }\n",
       "\n",
       "    .dataframe thead th {\n",
       "        text-align: right;\n",
       "    }\n",
       "</style>\n",
       "<table border=\"1\" class=\"dataframe\">\n",
       "  <thead>\n",
       "    <tr style=\"text-align: right;\">\n",
       "      <th></th>\n",
       "      <th>Model Name</th>\n",
       "      <th>MAE</th>\n",
       "      <th>MAPE</th>\n",
       "      <th>RMSE</th>\n",
       "    </tr>\n",
       "  </thead>\n",
       "  <tbody>\n",
       "    <tr>\n",
       "      <th>0</th>\n",
       "      <td>Random Forest</td>\n",
       "      <td>28609.28</td>\n",
       "      <td>0.23</td>\n",
       "      <td>48422.65</td>\n",
       "    </tr>\n",
       "  </tbody>\n",
       "</table>\n",
       "</div>"
      ],
      "text/plain": [
       "      Model Name      MAE  MAPE     RMSE\n",
       "0  Random Forest 28609.28  0.23 48422.65"
      ]
     },
     "execution_count": 184,
     "metadata": {},
     "output_type": "execute_result"
    }
   ],
   "source": [
    "#{'n_estimators': 2000, 'min_samples_split': 7, 'min_samples_leaf': 1, 'max_features': 'sqrt', 'max_depth': 30}\n",
    "\n",
    "# model\n",
    "model_rf_tunned = RandomForestRegressor(n_estimators=2000, min_samples_split=7, min_samples_leaf=1, max_features='sqrt', max_depth=30, n_jobs=-1, random_state=42).fit(x_train, y_train)\n",
    "\n",
    "# prediction\n",
    "yhat_rf_tunned = model_rf_tunned.predict(x_test[cols_select_boruta])\n",
    "\n",
    "# performance\n",
    "rf_result_tunned = ml_error('Random Forest', np.expm1(y_test), np.expm1(yhat_rf_tunned))\n",
    "rf_result_tunned"
   ]
  },
  {
   "cell_type": "markdown",
   "id": "d6ba60ef-8026-4153-bea5-6c752e64ea96",
   "metadata": {
    "tags": []
   },
   "source": [
    "##### **8.2.3 Cross Validation**"
   ]
  },
  {
   "cell_type": "code",
   "execution_count": 344,
   "id": "3e459f6c-cc3b-4d5a-bea7-0eba5365aab5",
   "metadata": {},
   "outputs": [
    {
     "data": {
      "text/plain": [
       "26451.111284593757"
      ]
     },
     "execution_count": 344,
     "metadata": {},
     "output_type": "execute_result"
    }
   ],
   "source": [
    "randon_forest = RandomForestRegressor(n_estimators=2000, min_samples_split=7, min_samples_leaf=1, max_features='sqrt', max_depth=30, n_jobs=-1, random_state=42)\n",
    "kf = KFold(n_splits=4, shuffle=True, random_state=42)\n",
    "mae = cross_val_score(randon_forest, X, np.expm1(y), cv=kf.split(X), scoring='neg_mean_absolute_error')*-1\n",
    "mae.mean()"
   ]
  },
  {
   "cell_type": "markdown",
   "id": "ae78c452-64cb-4ac1-afeb-3c69dbc0d97e",
   "metadata": {
    "jp-MarkdownHeadingCollapsed": true,
    "tags": []
   },
   "source": [
    "# **9.0 Tradução e interpretação do erro**"
   ]
  },
  {
   "cell_type": "code",
   "execution_count": null,
   "id": "8aba67cd-d441-41b9-9eb8-d317980c0c28",
   "metadata": {},
   "outputs": [],
   "source": []
  },
  {
   "cell_type": "markdown",
   "id": "6badea0a-361d-410e-b8a5-1b9380119e67",
   "metadata": {
    "tags": []
   },
   "source": [
    "# **10.0 Producao**"
   ]
  },
  {
   "cell_type": "markdown",
   "id": "32a55bf9-1b50-492e-ba7e-901b0984694e",
   "metadata": {},
   "source": [
    "#### **10.1 Loading dataset Test**"
   ]
  },
  {
   "cell_type": "code",
   "execution_count": 189,
   "id": "11658151-be4a-4ee9-9b13-4df55144a35d",
   "metadata": {},
   "outputs": [],
   "source": [
    "df_test = pd.read_csv('data/teste.csv')"
   ]
  },
  {
   "cell_type": "markdown",
   "id": "12d5d30d-7d38-4044-b07b-c30e584c4059",
   "metadata": {},
   "source": [
    "#### **10.2 Feature Engineering / Data Preparation**"
   ]
  },
  {
   "cell_type": "code",
   "execution_count": 190,
   "id": "f0d6d792-ba7e-4cc9-b92d-05df77599913",
   "metadata": {},
   "outputs": [],
   "source": [
    "#================= Feature Engineerin =================\n",
    "# idade do veiculo- (ano_modelo - ano_atual)\n",
    "date = datetime.date.today()\n",
    "year = date.strftime(\"%Y\")\n",
    "df_test['idade'] = df_test['ano_de_fabricacao'].apply(lambda x: int(year) -int(x))\n",
    "\n",
    "# km/ano\n",
    "df_test['km_ano'] = df_test['odometro'] / df_test['idade']\n",
    "df_test['km_ano'] = df_test['km_ano'].apply(lambda x: 0 if x == np.inf else x)\n",
    "\n",
    "# potencia\n",
    "df_test['potencia'] = df_test['versao'].apply( lambda x: x[:3] if ('.' in x[:3] and x[:3] != 'Z.E') else np.nan)\n",
    "\n",
    "# tipo combustivel (assumimos que NA seria Gasolina)\n",
    "df_test['combustivel'] = df_test['versao'].apply( lambda x: \"gasolina\"  if 'GASOLINA' in str(x) \n",
    "                           else \"disel\"     if 'DISEL'    in str(x)\n",
    "                           else \"eletrico\"  if 'HYBRID'   in str(x)\n",
    "                           else \"flex\"      if 'FLEX'     in str(x)\n",
    "                           else \"gasolina\")\n",
    "\n",
    "# tracao (assumimos que NA seria 4x2)\n",
    "df_test['tracao'] = df_test['versao'].apply(lambda x: \"4x4\" if '4X4' in str(x)\n",
    "                                    else \"awd\"      if 'AWD' in str(x)\n",
    "                                    else '4x2')\n",
    "\n",
    "\n",
    "#================= Fill NA ================= \n",
    "df_test['num_fotos'].fillna(0, inplace=True)\n",
    "df_test['attr_veiculo_aceita_troca'].fillna('0', inplace=True)\n",
    "df_test['attr_veiculo_único_dono'].fillna('0', inplace=True)\n",
    "df_test['attr_veiculo_todas_as_revisões_feitas_pela_concessionária'].fillna('0', inplace=True)\n",
    "df_test['attr_veiculo_ipva_pago'].fillna('0', inplace=True)\n",
    "df_test['attr_veiculo_licenciado'].fillna('0', inplace=True)\n",
    "df_test['attr_veiculo_garantia_de_fábrica'].fillna('0', inplace=True)\n",
    "df_test['attr_veiculo_todas_as_revisões_feitas_pela_agenda_do_carro'].fillna('0', inplace=True)\n",
    "\n",
    "df_test['ano_modelo'] = df_test['ano_modelo'].astype(int)\n",
    "df_test['entrega_delivery'] = df_test['entrega_delivery'].astype(str)\n",
    "df_test['troca'] = df1['troca'].astype(str)\n",
    "df_test['elegivel_revisao'] = df_test['elegivel_revisao'].astype(str)\n",
    "\n",
    "df_test.drop(columns=['attr_veiculo_alienado','ID'], inplace=True)\n",
    "\n",
    "\n",
    "df_test.drop(columns=['num_fotos','versao','tipo_anuncio','elegivel_revisao'], inplace=True)\n",
    "\n",
    "#================= Data Preparation ================= \n",
    "\n",
    "df_test['ano_de_fabricacao'] = mms.fit_transform(df_test[['ano_de_fabricacao']].values)\n",
    "df_test['ano_modelo'] = mms.fit_transform(df_test[['ano_modelo']].values)\n",
    "df_test['num_portas'] = mms.fit_transform(df_test[['num_portas']].values)\n",
    "\n",
    "df_test['odometro'] = rs.fit_transform(df_test[['odometro']].values)\n",
    "\n",
    "\n",
    "df_test['troca'] = df_test['troca'].map({'False' : 0, 'True' : 1})\n",
    "\n",
    "df_test['blindado'] = df_test['blindado'].map({'N' : 0, 'S' : 1})\n",
    "df_test['attr_veiculo_único_dono'] = df_test['attr_veiculo_único_dono'].map({'0' : 0, 'Único dono' : 1})\n",
    "df_test['entrega_delivery'] = df_test['entrega_delivery'].map({ 'False' : 0, 'True' : 1})\n",
    "df_test['attr_veiculo_todas_as_revisões_feitas_pela_concessionária'] = df_test['attr_veiculo_todas_as_revisões_feitas_pela_concessionária'].map({ '0' : 0, 'Todas as revisões feitas pela concessionária' : 1})\n",
    "df_test['attr_veiculo_ipva_pago'] = df_test['attr_veiculo_ipva_pago'].map({ '0' : 0, 'IPVA pago' : 1})\n",
    "df_test['attr_veiculo_licenciado'] = df_test['attr_veiculo_licenciado'].map({ '0' : 0, 'Licenciado' : 1})\n",
    "df_test['attr_veiculo_todas_as_revisões_feitas_pela_agenda_do_carro'] = df_test['attr_veiculo_todas_as_revisões_feitas_pela_agenda_do_carro'].map({ '0' : 0, 'Todas as revisões feitas pela agenda do carro' : 1})\n",
    "df_test['attr_veiculo_garantia_de_fábrica'] = df_test['attr_veiculo_garantia_de_fábrica'].map({ '0' : 0, 'Garantia de fábrica' : 1})\n",
    "df_test['attr_veiculo_aceita_troca'] = df_test['attr_veiculo_aceita_troca'].map({ '0' : 0, 'Aceita troca' : 1})\n",
    "\n",
    "#onehotencoding\n",
    "df_test = pd.get_dummies(df_test, columns = ['cambio', 'num_portas','combustivel','tracao','cor','tipo_vendedor','tipo'])\n",
    "\n",
    "le = LabelEncoder()\n",
    "# label enconder\n",
    "df_test['cidade_vendedor'] = le.fit_transform(df_test['cidade_vendedor'])\n",
    "df_test['estado_vendedor'] = le.fit_transform(df_test['estado_vendedor'])\n",
    "df_test['potencia'] = le.fit_transform(df_test['potencia'])\n",
    "df_test['marca'] = le.fit_transform(df_test['marca'])\n",
    "df_test['modelo'] = le.fit_transform(df_test['modelo'])"
   ]
  },
  {
   "cell_type": "markdown",
   "id": "65e787bc-36c8-4c3c-87a2-9b1b3ba76f6e",
   "metadata": {},
   "source": [
    "#### **10.3 Feature Selection / Prediction / Df_final**"
   ]
  },
  {
   "cell_type": "code",
   "execution_count": 191,
   "id": "d35493d7-0d43-4ecd-9cb9-e7d8a7b322ab",
   "metadata": {},
   "outputs": [],
   "source": [
    "cols_selected_test = ['tracao','idade','km_ano','potencia','combustivel','odometro','tipo','ano_modelo','ano_de_fabricacao','marca','modelo','cambio','cor','cidade_vendedor','estado_vendedor']\n",
    "cols_select_boruta_test = ['marca',\n",
    " 'ano_de_fabricacao',\n",
    " 'odometro',\n",
    " 'km_ano',\n",
    " 'potencia',\n",
    " 'cambio_Manual',\n",
    " 'combustivel_flex',\n",
    " 'tipo_Sedã',\n",
    " 'tipo_Utilitário esportivo', 'cor_Branco', 'cidade_vendedor', 'estado_vendedor','cambio_Automática','cor_Prata', 'cambio_CVT', 'cor_Preto']\n",
    "\n",
    "# columns to add\n",
    "feat_to_add_test = ['preco']\n",
    "\n",
    "# final features\n",
    "cols_selected_full_test = cols_select_boruta_test.copy()\n",
    "cols_selected_full_test.extend(feat_to_add_test)\n",
    "\n",
    "#df_test = df_test\n",
    "\n",
    "# respostas do preditor\n",
    "yhat_rf_test = model_rf_tunned.predict(df_test[cols_select_boruta_test])\n",
    "\n",
    "predicts = np.expm1(yhat_rf_test)\n",
    "\n",
    "df_test_env = pd.read_csv('data/teste.csv')\n",
    "\n",
    "df_test_env = df_test_env['ID']\n",
    "\n",
    "df_final = pd.DataFrame({'ID':df_test_env,'preco': predicts}).set_index('ID')"
   ]
  },
  {
   "cell_type": "code",
   "execution_count": null,
   "id": "98576bdf-1181-472c-956a-7443290f3a23",
   "metadata": {},
   "outputs": [],
   "source": []
  },
  {
   "cell_type": "markdown",
   "id": "f56e728a-6d16-4602-9685-364655b65b0e",
   "metadata": {},
   "source": [
    "#### **10.4 Save Response**"
   ]
  },
  {
   "cell_type": "code",
   "execution_count": 192,
   "id": "dcbf53d6-05e0-48a4-bffa-0a9b1f37d7aa",
   "metadata": {},
   "outputs": [],
   "source": [
    "df_final.to_csv('brainRent_predictions_rf_tunned_ciclo05_03.csv')"
   ]
  }
 ],
 "metadata": {
  "kernelspec": {
   "display_name": "Python 3 (ipykernel)",
   "language": "python",
   "name": "python3"
  },
  "language_info": {
   "codemirror_mode": {
    "name": "ipython",
    "version": 3
   },
   "file_extension": ".py",
   "mimetype": "text/x-python",
   "name": "python",
   "nbconvert_exporter": "python",
   "pygments_lexer": "ipython3",
   "version": "3.8.10"
  }
 },
 "nbformat": 4,
 "nbformat_minor": 5
}
